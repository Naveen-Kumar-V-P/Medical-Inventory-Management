{
 "cells": [
  {
   "cell_type": "code",
   "execution_count": 1,
   "id": "82e70a02-50f3-4fae-a11b-c1a01e7ee549",
   "metadata": {},
   "outputs": [],
   "source": [
    "import pandas as pd\n",
    "import numpy as np\n",
    "import statsmodels.api as sm\n",
    "import matplotlib.pyplot as plt\n",
    "from datetime import datetime\n",
    "import statsmodels.formula.api as smf\n",
    "from statsmodels.tsa.statespace.sarimax import SARIMAX\n",
    "from scipy.stats import skew  # Import for skewness calculation\n",
    "import scipy.stats as stats\n",
    "import pylab\n",
    "import seaborn as sns\n",
    "import pickle"
   ]
  },
  {
   "cell_type": "code",
   "execution_count": 2,
   "id": "7ce885f1-532f-47e7-a5c0-4950af57ebf5",
   "metadata": {},
   "outputs": [],
   "source": [
    "df = pd.read_csv(r\"D:\\Data Science & AI\\Projects\\Main Projects\\Medical Inventery Management\\Medical Inventory Optimaization Dataset.csv\")"
   ]
  },
  {
   "cell_type": "code",
   "execution_count": 3,
   "id": "cf45dc04-da51-4f88-8e1f-0007317bca91",
   "metadata": {},
   "outputs": [],
   "source": [
    "# Define a function to parse dates with different formats\n",
    "def parse_date(date_str):\n",
    "    for fmt in (\"%m/%d/%Y\", \"%d-%m-%Y\"):\n",
    "        try:\n",
    "            return datetime.strptime(date_str, fmt)\n",
    "        except ValueError:\n",
    "            continue\n",
    "    return pd.NaT"
   ]
  },
  {
   "cell_type": "code",
   "execution_count": 4,
   "id": "9f62a961-33ea-46c2-bc0f-e3c00f004323",
   "metadata": {},
   "outputs": [],
   "source": [
    "df['Dateofbill'] = df['Dateofbill'].apply(parse_date)"
   ]
  },
  {
   "cell_type": "code",
   "execution_count": 5,
   "id": "21f71e8e-d6d1-461a-8956-4ff301fc277e",
   "metadata": {},
   "outputs": [],
   "source": [
    "df['Dateofbill'] = df['Dateofbill'].dt.strftime('%Y-%m-%d')"
   ]
  },
  {
   "cell_type": "code",
   "execution_count": 6,
   "id": "6dc38185-0671-482f-a092-b43c7c351858",
   "metadata": {},
   "outputs": [
    {
     "data": {
      "text/html": [
       "<div>\n",
       "<style scoped>\n",
       "    .dataframe tbody tr th:only-of-type {\n",
       "        vertical-align: middle;\n",
       "    }\n",
       "\n",
       "    .dataframe tbody tr th {\n",
       "        vertical-align: top;\n",
       "    }\n",
       "\n",
       "    .dataframe thead th {\n",
       "        text-align: right;\n",
       "    }\n",
       "</style>\n",
       "<table border=\"1\" class=\"dataframe\">\n",
       "  <thead>\n",
       "    <tr style=\"text-align: right;\">\n",
       "      <th></th>\n",
       "      <th>Typeofsales</th>\n",
       "      <th>Patient_ID</th>\n",
       "      <th>Specialisation</th>\n",
       "      <th>Dept</th>\n",
       "      <th>Dateofbill</th>\n",
       "      <th>Quantity</th>\n",
       "      <th>ReturnQuantity</th>\n",
       "      <th>Final_Cost</th>\n",
       "      <th>Final_Sales</th>\n",
       "      <th>RtnMRP</th>\n",
       "      <th>Formulation</th>\n",
       "      <th>DrugName</th>\n",
       "      <th>SubCat</th>\n",
       "      <th>SubCat1</th>\n",
       "    </tr>\n",
       "  </thead>\n",
       "  <tbody>\n",
       "    <tr>\n",
       "      <th>0</th>\n",
       "      <td>Sale</td>\n",
       "      <td>12018098765</td>\n",
       "      <td>Specialisation6</td>\n",
       "      <td>Department1</td>\n",
       "      <td>2022-06-01</td>\n",
       "      <td>1</td>\n",
       "      <td>0</td>\n",
       "      <td>55.406</td>\n",
       "      <td>59.260</td>\n",
       "      <td>0.000</td>\n",
       "      <td>Form1</td>\n",
       "      <td>ZINC ACETATE 20MG/5ML SYP</td>\n",
       "      <td>SYRUP &amp; SUSPENSION</td>\n",
       "      <td>VITAMINS &amp; MINERALS</td>\n",
       "    </tr>\n",
       "    <tr>\n",
       "      <th>1</th>\n",
       "      <td>Sale</td>\n",
       "      <td>12018103897</td>\n",
       "      <td>Specialisation7</td>\n",
       "      <td>Department1</td>\n",
       "      <td>2022-07-23</td>\n",
       "      <td>1</td>\n",
       "      <td>0</td>\n",
       "      <td>768.638</td>\n",
       "      <td>950.800</td>\n",
       "      <td>0.000</td>\n",
       "      <td>Form1</td>\n",
       "      <td>CEFTAZIDIME 2GM+AVIBACTAM 500MG</td>\n",
       "      <td>INJECTIONS</td>\n",
       "      <td>ANTI-INFECTIVES</td>\n",
       "    </tr>\n",
       "    <tr>\n",
       "      <th>2</th>\n",
       "      <td>Sale</td>\n",
       "      <td>12018101123</td>\n",
       "      <td>Specialisation2</td>\n",
       "      <td>Department3</td>\n",
       "      <td>2022-06-23</td>\n",
       "      <td>1</td>\n",
       "      <td>0</td>\n",
       "      <td>774.266</td>\n",
       "      <td>4004.214</td>\n",
       "      <td>0.000</td>\n",
       "      <td>Form2</td>\n",
       "      <td>EPTIFIBATIDE 0.75MG/ML</td>\n",
       "      <td>INJECTIONS</td>\n",
       "      <td>CARDIOVASCULAR &amp; HEMATOPOIETIC SYSTEM</td>\n",
       "    </tr>\n",
       "    <tr>\n",
       "      <th>3</th>\n",
       "      <td>Sale</td>\n",
       "      <td>12018079281</td>\n",
       "      <td>Specialisation40</td>\n",
       "      <td>Department1</td>\n",
       "      <td>2022-03-17</td>\n",
       "      <td>2</td>\n",
       "      <td>0</td>\n",
       "      <td>40.798</td>\n",
       "      <td>81.044</td>\n",
       "      <td>0.000</td>\n",
       "      <td>Form1</td>\n",
       "      <td>WATER FOR INJECTION 10ML SOLUTION</td>\n",
       "      <td>INJECTIONS</td>\n",
       "      <td>INTRAVENOUS &amp; OTHER STERILE SOLUTIONS</td>\n",
       "    </tr>\n",
       "    <tr>\n",
       "      <th>4</th>\n",
       "      <td>Sale</td>\n",
       "      <td>12018117928</td>\n",
       "      <td>Specialisation5</td>\n",
       "      <td>Department1</td>\n",
       "      <td>2022-12-21</td>\n",
       "      <td>1</td>\n",
       "      <td>0</td>\n",
       "      <td>40.434</td>\n",
       "      <td>40.504</td>\n",
       "      <td>0.000</td>\n",
       "      <td>Form1</td>\n",
       "      <td>LORAZEPAM 1MG</td>\n",
       "      <td>TABLETS &amp; CAPSULES</td>\n",
       "      <td>CENTRAL NERVOUS SYSTEM</td>\n",
       "    </tr>\n",
       "    <tr>\n",
       "      <th>5</th>\n",
       "      <td>Return</td>\n",
       "      <td>12018103662</td>\n",
       "      <td>Specialisation2</td>\n",
       "      <td>Department1</td>\n",
       "      <td>2022-07-15</td>\n",
       "      <td>0</td>\n",
       "      <td>8</td>\n",
       "      <td>47.902</td>\n",
       "      <td>0.000</td>\n",
       "      <td>330.288</td>\n",
       "      <td>Form1</td>\n",
       "      <td>SALBUTAMOL 2.5MG</td>\n",
       "      <td>INHALERS &amp; RESPULES</td>\n",
       "      <td>RESPIRATORY SYSTEM</td>\n",
       "    </tr>\n",
       "    <tr>\n",
       "      <th>6</th>\n",
       "      <td>Sale</td>\n",
       "      <td>12018097585</td>\n",
       "      <td>Specialisation2</td>\n",
       "      <td>Department1</td>\n",
       "      <td>2022-05-22</td>\n",
       "      <td>1</td>\n",
       "      <td>0</td>\n",
       "      <td>41.862</td>\n",
       "      <td>42.218</td>\n",
       "      <td>0.000</td>\n",
       "      <td>Form1</td>\n",
       "      <td>FUROSEMIDE 10MG/ML</td>\n",
       "      <td>INJECTIONS</td>\n",
       "      <td>CARDIOVASCULAR &amp; HEMATOPOIETIC SYSTEM</td>\n",
       "    </tr>\n",
       "    <tr>\n",
       "      <th>7</th>\n",
       "      <td>Sale</td>\n",
       "      <td>12018077721</td>\n",
       "      <td>Specialisation4</td>\n",
       "      <td>Department1</td>\n",
       "      <td>2022-01-12</td>\n",
       "      <td>3</td>\n",
       "      <td>0</td>\n",
       "      <td>60.026</td>\n",
       "      <td>142.752</td>\n",
       "      <td>0.000</td>\n",
       "      <td>Form1</td>\n",
       "      <td>SODIUM CHLORIDE IVF 100ML</td>\n",
       "      <td>IV FLUIDS, ELECTROLYTES, TPN</td>\n",
       "      <td>INTRAVENOUS &amp; OTHER STERILE SOLUTIONS</td>\n",
       "    </tr>\n",
       "    <tr>\n",
       "      <th>8</th>\n",
       "      <td>Sale</td>\n",
       "      <td>12018096500</td>\n",
       "      <td>Specialisation4</td>\n",
       "      <td>Department2</td>\n",
       "      <td>2022-08-24</td>\n",
       "      <td>2</td>\n",
       "      <td>0</td>\n",
       "      <td>49.856</td>\n",
       "      <td>94.000</td>\n",
       "      <td>0.000</td>\n",
       "      <td>Form2</td>\n",
       "      <td>SODIUM BICARBONATE 8.5% INJ</td>\n",
       "      <td>INJECTIONS</td>\n",
       "      <td>INTRAVENOUS &amp; OTHER STERILE SOLUTIONS</td>\n",
       "    </tr>\n",
       "    <tr>\n",
       "      <th>9</th>\n",
       "      <td>Sale</td>\n",
       "      <td>12018071649</td>\n",
       "      <td>Specialisation4</td>\n",
       "      <td>Department1</td>\n",
       "      <td>2022-08-31</td>\n",
       "      <td>1</td>\n",
       "      <td>0</td>\n",
       "      <td>258.860</td>\n",
       "      <td>319.800</td>\n",
       "      <td>0.000</td>\n",
       "      <td>Form1</td>\n",
       "      <td>PEPTIDE BASED DIET POWDER</td>\n",
       "      <td>NUTRITIONAL SUPPLEMENTS</td>\n",
       "      <td>NUTRITION</td>\n",
       "    </tr>\n",
       "  </tbody>\n",
       "</table>\n",
       "</div>"
      ],
      "text/plain": [
       "  Typeofsales   Patient_ID    Specialisation         Dept  Dateofbill  \\\n",
       "0        Sale  12018098765   Specialisation6  Department1  2022-06-01   \n",
       "1        Sale  12018103897   Specialisation7  Department1  2022-07-23   \n",
       "2        Sale  12018101123   Specialisation2  Department3  2022-06-23   \n",
       "3        Sale  12018079281  Specialisation40  Department1  2022-03-17   \n",
       "4        Sale  12018117928   Specialisation5  Department1  2022-12-21   \n",
       "5      Return  12018103662   Specialisation2  Department1  2022-07-15   \n",
       "6        Sale  12018097585   Specialisation2  Department1  2022-05-22   \n",
       "7        Sale  12018077721   Specialisation4  Department1  2022-01-12   \n",
       "8        Sale  12018096500   Specialisation4  Department2  2022-08-24   \n",
       "9        Sale  12018071649   Specialisation4  Department1  2022-08-31   \n",
       "\n",
       "   Quantity  ReturnQuantity  Final_Cost  Final_Sales   RtnMRP Formulation  \\\n",
       "0         1               0      55.406       59.260    0.000       Form1   \n",
       "1         1               0     768.638      950.800    0.000       Form1   \n",
       "2         1               0     774.266     4004.214    0.000       Form2   \n",
       "3         2               0      40.798       81.044    0.000       Form1   \n",
       "4         1               0      40.434       40.504    0.000       Form1   \n",
       "5         0               8      47.902        0.000  330.288       Form1   \n",
       "6         1               0      41.862       42.218    0.000       Form1   \n",
       "7         3               0      60.026      142.752    0.000       Form1   \n",
       "8         2               0      49.856       94.000    0.000       Form2   \n",
       "9         1               0     258.860      319.800    0.000       Form1   \n",
       "\n",
       "                            DrugName                        SubCat  \\\n",
       "0          ZINC ACETATE 20MG/5ML SYP            SYRUP & SUSPENSION   \n",
       "1    CEFTAZIDIME 2GM+AVIBACTAM 500MG                    INJECTIONS   \n",
       "2             EPTIFIBATIDE 0.75MG/ML                    INJECTIONS   \n",
       "3  WATER FOR INJECTION 10ML SOLUTION                    INJECTIONS   \n",
       "4                      LORAZEPAM 1MG            TABLETS & CAPSULES   \n",
       "5                   SALBUTAMOL 2.5MG           INHALERS & RESPULES   \n",
       "6                 FUROSEMIDE 10MG/ML                    INJECTIONS   \n",
       "7          SODIUM CHLORIDE IVF 100ML  IV FLUIDS, ELECTROLYTES, TPN   \n",
       "8        SODIUM BICARBONATE 8.5% INJ                    INJECTIONS   \n",
       "9          PEPTIDE BASED DIET POWDER       NUTRITIONAL SUPPLEMENTS   \n",
       "\n",
       "                                 SubCat1  \n",
       "0                    VITAMINS & MINERALS  \n",
       "1                        ANTI-INFECTIVES  \n",
       "2  CARDIOVASCULAR & HEMATOPOIETIC SYSTEM  \n",
       "3  INTRAVENOUS & OTHER STERILE SOLUTIONS  \n",
       "4                 CENTRAL NERVOUS SYSTEM  \n",
       "5                     RESPIRATORY SYSTEM  \n",
       "6  CARDIOVASCULAR & HEMATOPOIETIC SYSTEM  \n",
       "7  INTRAVENOUS & OTHER STERILE SOLUTIONS  \n",
       "8  INTRAVENOUS & OTHER STERILE SOLUTIONS  \n",
       "9                              NUTRITION  "
      ]
     },
     "execution_count": 6,
     "metadata": {},
     "output_type": "execute_result"
    }
   ],
   "source": [
    "df.head(10)"
   ]
  },
  {
   "cell_type": "code",
   "execution_count": 7,
   "id": "9b8393a3",
   "metadata": {},
   "outputs": [],
   "source": [
    "# Suppress warnings\n",
    "import warnings\n",
    "warnings.filterwarnings(\"ignore\")"
   ]
  },
  {
   "cell_type": "code",
   "execution_count": 8,
   "id": "5d9aa95e",
   "metadata": {},
   "outputs": [
    {
     "data": {
      "text/plain": [
       "(14218, 14)"
      ]
     },
     "execution_count": 8,
     "metadata": {},
     "output_type": "execute_result"
    }
   ],
   "source": [
    "df.shape"
   ]
  },
  {
   "cell_type": "code",
   "execution_count": 9,
   "id": "2818f543",
   "metadata": {},
   "outputs": [
    {
     "data": {
      "text/plain": [
       "Typeofsales        object\n",
       "Patient_ID          int64\n",
       "Specialisation     object\n",
       "Dept               object\n",
       "Dateofbill         object\n",
       "Quantity            int64\n",
       "ReturnQuantity      int64\n",
       "Final_Cost        float64\n",
       "Final_Sales       float64\n",
       "RtnMRP            float64\n",
       "Formulation        object\n",
       "DrugName           object\n",
       "SubCat             object\n",
       "SubCat1            object\n",
       "dtype: object"
      ]
     },
     "execution_count": 9,
     "metadata": {},
     "output_type": "execute_result"
    }
   ],
   "source": [
    "df.dtypes"
   ]
  },
  {
   "cell_type": "code",
   "execution_count": 10,
   "id": "7d496452",
   "metadata": {},
   "outputs": [],
   "source": [
    "# type casting \n",
    "df[\"Patient_ID\"] = df[\"Patient_ID\"].astype('str')\n",
    "df[\"Final_Sales\"] = df[\"Final_Sales\"].astype('float32')\n",
    "df[\"Final_Cost\"] = df[\"Final_Cost\"].astype('float32')"
   ]
  },
  {
   "cell_type": "code",
   "execution_count": 11,
   "id": "0a4cd8aa",
   "metadata": {},
   "outputs": [
    {
     "data": {
      "text/plain": [
       "Typeofsales        object\n",
       "Patient_ID         object\n",
       "Specialisation     object\n",
       "Dept               object\n",
       "Dateofbill         object\n",
       "Quantity            int64\n",
       "ReturnQuantity      int64\n",
       "Final_Cost        float32\n",
       "Final_Sales       float32\n",
       "RtnMRP            float64\n",
       "Formulation        object\n",
       "DrugName           object\n",
       "SubCat             object\n",
       "SubCat1            object\n",
       "dtype: object"
      ]
     },
     "execution_count": 11,
     "metadata": {},
     "output_type": "execute_result"
    }
   ],
   "source": [
    "df.dtypes"
   ]
  },
  {
   "cell_type": "code",
   "execution_count": 12,
   "id": "f795f681",
   "metadata": {},
   "outputs": [
    {
     "data": {
      "text/plain": [
       "26"
      ]
     },
     "execution_count": 12,
     "metadata": {},
     "output_type": "execute_result"
    }
   ],
   "source": [
    "# Handling Duplicates\n",
    "duplicate = df.duplicated()  \n",
    "sum(duplicate)"
   ]
  },
  {
   "cell_type": "code",
   "execution_count": 13,
   "id": "1c81956f",
   "metadata": {},
   "outputs": [
    {
     "data": {
      "text/plain": [
       "0"
      ]
     },
     "execution_count": 13,
     "metadata": {},
     "output_type": "execute_result"
    }
   ],
   "source": [
    "# Remove duplicates\n",
    "df = df.drop_duplicates() \n",
    "duplicate = df.duplicated()\n",
    "sum(duplicate) "
   ]
  },
  {
   "cell_type": "code",
   "execution_count": 14,
   "id": "9a32e4aa",
   "metadata": {},
   "outputs": [],
   "source": [
    "df.replace('', pd.NA, inplace=True)"
   ]
  },
  {
   "cell_type": "code",
   "execution_count": 15,
   "id": "24a329fa",
   "metadata": {},
   "outputs": [
    {
     "data": {
      "text/plain": [
       "Typeofsales          0\n",
       "Patient_ID           0\n",
       "Specialisation       0\n",
       "Dept                 0\n",
       "Dateofbill           0\n",
       "Quantity             0\n",
       "ReturnQuantity       0\n",
       "Final_Cost           0\n",
       "Final_Sales          0\n",
       "RtnMRP               0\n",
       "Formulation        650\n",
       "DrugName          1659\n",
       "SubCat            1659\n",
       "SubCat1           1682\n",
       "dtype: int64"
      ]
     },
     "execution_count": 15,
     "metadata": {},
     "output_type": "execute_result"
    }
   ],
   "source": [
    "df.isnull().sum()"
   ]
  },
  {
   "cell_type": "code",
   "execution_count": 16,
   "id": "2a6c9834",
   "metadata": {},
   "outputs": [],
   "source": [
    "group_cols = ['Typeofsales', 'Specialisation', 'Dept']"
   ]
  },
  {
   "cell_type": "code",
   "execution_count": 17,
   "id": "3489c844",
   "metadata": {},
   "outputs": [],
   "source": [
    "# Impute missing values in Formulation column based on the mode of the group\n",
    "def fill_missing_with_mode(df, group_cols, target_col):\n",
    "    grouped = df.groupby(group_cols)[target_col]\n",
    "    modes = grouped.transform(lambda x: x.mode().iloc[0] if not x.mode().empty else x)\n",
    "    df[target_col] = df[target_col].fillna(modes)"
   ]
  },
  {
   "cell_type": "code",
   "execution_count": 18,
   "id": "8d9554f2",
   "metadata": {},
   "outputs": [],
   "source": [
    "mode_impute_cols = ['Formulation', 'DrugName', 'SubCat', 'SubCat1']"
   ]
  },
  {
   "cell_type": "code",
   "execution_count": 19,
   "id": "2e7b0f55",
   "metadata": {},
   "outputs": [],
   "source": [
    "for col in mode_impute_cols:\n",
    "    fill_missing_with_mode(df, group_cols, col)"
   ]
  },
  {
   "cell_type": "code",
   "execution_count": 20,
   "id": "57223ef8",
   "metadata": {},
   "outputs": [
    {
     "data": {
      "text/plain": [
       "Typeofsales       0\n",
       "Patient_ID        0\n",
       "Specialisation    0\n",
       "Dept              0\n",
       "Dateofbill        0\n",
       "Quantity          0\n",
       "ReturnQuantity    0\n",
       "Final_Cost        0\n",
       "Final_Sales       0\n",
       "RtnMRP            0\n",
       "Formulation       3\n",
       "DrugName          6\n",
       "SubCat            6\n",
       "SubCat1           6\n",
       "dtype: int64"
      ]
     },
     "execution_count": 20,
     "metadata": {},
     "output_type": "execute_result"
    }
   ],
   "source": [
    "df.isnull().sum()"
   ]
  },
  {
   "cell_type": "code",
   "execution_count": 21,
   "id": "b9ec118f",
   "metadata": {},
   "outputs": [
    {
     "data": {
      "text/plain": [
       "Typeofsales       0\n",
       "Patient_ID        0\n",
       "Specialisation    0\n",
       "Dept              0\n",
       "Dateofbill        0\n",
       "Quantity          0\n",
       "ReturnQuantity    0\n",
       "Final_Cost        0\n",
       "Final_Sales       0\n",
       "RtnMRP            0\n",
       "Formulation       0\n",
       "DrugName          0\n",
       "SubCat            0\n",
       "SubCat1           0\n",
       "dtype: int64"
      ]
     },
     "execution_count": 21,
     "metadata": {},
     "output_type": "execute_result"
    }
   ],
   "source": [
    "df.dropna(inplace=True)\n",
    "df= df.reset_index(drop=True)\n",
    "df.isnull().sum()"
   ]
  },
  {
   "cell_type": "code",
   "execution_count": 22,
   "id": "e98b8adc",
   "metadata": {},
   "outputs": [],
   "source": [
    "date_column = 'Dateofbill'\n",
    "df[date_column] = pd.to_datetime(df[date_column])\n",
    "# Sort dataset by date column in ascending order\n",
    "df = df.sort_values(by=date_column, ascending=True)"
   ]
  },
  {
   "cell_type": "code",
   "execution_count": 23,
   "id": "c3b2708f-7e15-4f32-9b8a-569d0094455c",
   "metadata": {},
   "outputs": [],
   "source": [
    "# Specify Final Cost column to round\n",
    "column_name = 'Final_Cost'\n",
    "\n",
    "# Specify number of decimal places to round to 0\n",
    "decimal_places = 0\n",
    "\n",
    "# Round the values in the column to 0\n",
    "df[column_name] = df[column_name].apply(\n",
    "    lambda x: round(x, decimal_places))\n",
    "\n",
    "# Specify Final Sales column to round\n",
    "column_name1 = 'Final_Sales'\n",
    "\n",
    "# Specify number of decimal places to round to 0\n",
    "decimal_places1 = 0\n",
    "\n",
    "# Round values in the column to 0\n",
    "df[column_name1] = df[column_name1].apply(\n",
    "    lambda x: round(x, decimal_places1))"
   ]
  },
  {
   "cell_type": "code",
   "execution_count": 24,
   "id": "90143a0e-757e-4773-b1a0-b5b26304a9f1",
   "metadata": {},
   "outputs": [],
   "source": [
    "df.drop(columns=[\"ReturnQuantity\"], axis=1, inplace=True)"
   ]
  },
  {
   "cell_type": "code",
   "execution_count": 25,
   "id": "61cdfad9-cffa-40e2-af4a-f115cbbf0517",
   "metadata": {},
   "outputs": [
    {
     "data": {
      "text/html": [
       "<div>\n",
       "<style scoped>\n",
       "    .dataframe tbody tr th:only-of-type {\n",
       "        vertical-align: middle;\n",
       "    }\n",
       "\n",
       "    .dataframe tbody tr th {\n",
       "        vertical-align: top;\n",
       "    }\n",
       "\n",
       "    .dataframe thead th {\n",
       "        text-align: right;\n",
       "    }\n",
       "</style>\n",
       "<table border=\"1\" class=\"dataframe\">\n",
       "  <thead>\n",
       "    <tr style=\"text-align: right;\">\n",
       "      <th></th>\n",
       "      <th>Typeofsales</th>\n",
       "      <th>Patient_ID</th>\n",
       "      <th>Specialisation</th>\n",
       "      <th>Dept</th>\n",
       "      <th>Dateofbill</th>\n",
       "      <th>Quantity</th>\n",
       "      <th>Final_Cost</th>\n",
       "      <th>Final_Sales</th>\n",
       "      <th>RtnMRP</th>\n",
       "      <th>Formulation</th>\n",
       "      <th>DrugName</th>\n",
       "      <th>SubCat</th>\n",
       "      <th>SubCat1</th>\n",
       "    </tr>\n",
       "  </thead>\n",
       "  <tbody>\n",
       "    <tr>\n",
       "      <th>13062</th>\n",
       "      <td>Sale</td>\n",
       "      <td>12018072643</td>\n",
       "      <td>Specialisation11</td>\n",
       "      <td>Department1</td>\n",
       "      <td>2022-01-01</td>\n",
       "      <td>5</td>\n",
       "      <td>87.0</td>\n",
       "      <td>304.0</td>\n",
       "      <td>0.00</td>\n",
       "      <td>Form1</td>\n",
       "      <td>PANTOPRAZOLE 40MG INJ</td>\n",
       "      <td>INJECTIONS</td>\n",
       "      <td>INTRAVENOUS &amp; OTHER STERILE SOLUTIONS</td>\n",
       "    </tr>\n",
       "    <tr>\n",
       "      <th>2433</th>\n",
       "      <td>Sale</td>\n",
       "      <td>12018080296</td>\n",
       "      <td>Specialisation27</td>\n",
       "      <td>Department1</td>\n",
       "      <td>2022-01-01</td>\n",
       "      <td>3</td>\n",
       "      <td>66.0</td>\n",
       "      <td>449.0</td>\n",
       "      <td>0.00</td>\n",
       "      <td>Form1</td>\n",
       "      <td>PARACETAMOL 1GM IV INJ</td>\n",
       "      <td>INJECTIONS</td>\n",
       "      <td>CENTRAL NERVOUS SYSTEM</td>\n",
       "    </tr>\n",
       "    <tr>\n",
       "      <th>9895</th>\n",
       "      <td>Sale</td>\n",
       "      <td>12018080633</td>\n",
       "      <td>Specialisation14</td>\n",
       "      <td>Department1</td>\n",
       "      <td>2022-01-01</td>\n",
       "      <td>1</td>\n",
       "      <td>78.0</td>\n",
       "      <td>126.0</td>\n",
       "      <td>0.00</td>\n",
       "      <td>Form2</td>\n",
       "      <td>ENOXAPARIN 40MG</td>\n",
       "      <td>INJECTIONS</td>\n",
       "      <td>CARDIOVASCULAR &amp; HEMATOPOIETIC SYSTEM</td>\n",
       "    </tr>\n",
       "    <tr>\n",
       "      <th>14140</th>\n",
       "      <td>Sale</td>\n",
       "      <td>12018075045</td>\n",
       "      <td>Specialisation4</td>\n",
       "      <td>Department1</td>\n",
       "      <td>2022-01-01</td>\n",
       "      <td>1</td>\n",
       "      <td>48.0</td>\n",
       "      <td>50.0</td>\n",
       "      <td>0.00</td>\n",
       "      <td>Form1</td>\n",
       "      <td>FLUCONAZOLE 50MG TAB</td>\n",
       "      <td>TABLETS &amp; CAPSULES</td>\n",
       "      <td>ANTI-INFECTIVES</td>\n",
       "    </tr>\n",
       "    <tr>\n",
       "      <th>3749</th>\n",
       "      <td>Sale</td>\n",
       "      <td>12018081111</td>\n",
       "      <td>Specialisation11</td>\n",
       "      <td>Department2</td>\n",
       "      <td>2022-01-01</td>\n",
       "      <td>1</td>\n",
       "      <td>45.0</td>\n",
       "      <td>47.0</td>\n",
       "      <td>0.00</td>\n",
       "      <td>Form1</td>\n",
       "      <td>EPHEDRINE 30MG</td>\n",
       "      <td>INJECTIONS</td>\n",
       "      <td>CARDIOVASCULAR &amp; HEMATOPOIETIC SYSTEM</td>\n",
       "    </tr>\n",
       "    <tr>\n",
       "      <th>11030</th>\n",
       "      <td>Sale</td>\n",
       "      <td>12018076250</td>\n",
       "      <td>Specialisation5</td>\n",
       "      <td>Department1</td>\n",
       "      <td>2022-01-01</td>\n",
       "      <td>1</td>\n",
       "      <td>42.0</td>\n",
       "      <td>43.0</td>\n",
       "      <td>0.00</td>\n",
       "      <td>Form1</td>\n",
       "      <td>GLYCOPYRROLATE</td>\n",
       "      <td>INJECTIONS</td>\n",
       "      <td>MUSCULO-SKELETAL SYSTEM</td>\n",
       "    </tr>\n",
       "    <tr>\n",
       "      <th>12583</th>\n",
       "      <td>Sale</td>\n",
       "      <td>12018081448</td>\n",
       "      <td>Specialisation14</td>\n",
       "      <td>Department2</td>\n",
       "      <td>2022-01-01</td>\n",
       "      <td>5</td>\n",
       "      <td>87.0</td>\n",
       "      <td>304.0</td>\n",
       "      <td>0.00</td>\n",
       "      <td>Form1</td>\n",
       "      <td>SODIUM CHLORIDE 0.9%</td>\n",
       "      <td>INJECTIONS</td>\n",
       "      <td>INTRAVENOUS &amp; OTHER STERILE SOLUTIONS</td>\n",
       "    </tr>\n",
       "    <tr>\n",
       "      <th>9755</th>\n",
       "      <td>Sale</td>\n",
       "      <td>12018081582</td>\n",
       "      <td>Specialisation3</td>\n",
       "      <td>Department1</td>\n",
       "      <td>2022-01-01</td>\n",
       "      <td>3</td>\n",
       "      <td>66.0</td>\n",
       "      <td>449.0</td>\n",
       "      <td>0.00</td>\n",
       "      <td>Form1</td>\n",
       "      <td>PARACETAMOL 1GM IV INJ</td>\n",
       "      <td>INJECTIONS</td>\n",
       "      <td>CENTRAL NERVOUS SYSTEM</td>\n",
       "    </tr>\n",
       "    <tr>\n",
       "      <th>6999</th>\n",
       "      <td>Sale</td>\n",
       "      <td>12018071876</td>\n",
       "      <td>Specialisation3</td>\n",
       "      <td>Department1</td>\n",
       "      <td>2022-01-01</td>\n",
       "      <td>1</td>\n",
       "      <td>65.0</td>\n",
       "      <td>75.0</td>\n",
       "      <td>0.00</td>\n",
       "      <td>Form1</td>\n",
       "      <td>THYROXINE SODIUM 25MCG TAB</td>\n",
       "      <td>TABLETS &amp; CAPSULES</td>\n",
       "      <td>ENDOCRINE &amp; METABOLIC SYSTEM</td>\n",
       "    </tr>\n",
       "    <tr>\n",
       "      <th>10879</th>\n",
       "      <td>Return</td>\n",
       "      <td>12018081506</td>\n",
       "      <td>Specialisation2</td>\n",
       "      <td>Department1</td>\n",
       "      <td>2022-01-01</td>\n",
       "      <td>0</td>\n",
       "      <td>132.0</td>\n",
       "      <td>0.0</td>\n",
       "      <td>336.76</td>\n",
       "      <td>Form1</td>\n",
       "      <td>ENOXAPARIN 60MG</td>\n",
       "      <td>INJECTIONS</td>\n",
       "      <td>CARDIOVASCULAR &amp; HEMATOPOIETIC SYSTEM</td>\n",
       "    </tr>\n",
       "  </tbody>\n",
       "</table>\n",
       "</div>"
      ],
      "text/plain": [
       "      Typeofsales   Patient_ID    Specialisation         Dept Dateofbill  \\\n",
       "13062        Sale  12018072643  Specialisation11  Department1 2022-01-01   \n",
       "2433         Sale  12018080296  Specialisation27  Department1 2022-01-01   \n",
       "9895         Sale  12018080633  Specialisation14  Department1 2022-01-01   \n",
       "14140        Sale  12018075045   Specialisation4  Department1 2022-01-01   \n",
       "3749         Sale  12018081111  Specialisation11  Department2 2022-01-01   \n",
       "11030        Sale  12018076250   Specialisation5  Department1 2022-01-01   \n",
       "12583        Sale  12018081448  Specialisation14  Department2 2022-01-01   \n",
       "9755         Sale  12018081582   Specialisation3  Department1 2022-01-01   \n",
       "6999         Sale  12018071876   Specialisation3  Department1 2022-01-01   \n",
       "10879      Return  12018081506   Specialisation2  Department1 2022-01-01   \n",
       "\n",
       "       Quantity  Final_Cost  Final_Sales  RtnMRP Formulation  \\\n",
       "13062         5        87.0        304.0    0.00       Form1   \n",
       "2433          3        66.0        449.0    0.00       Form1   \n",
       "9895          1        78.0        126.0    0.00       Form2   \n",
       "14140         1        48.0         50.0    0.00       Form1   \n",
       "3749          1        45.0         47.0    0.00       Form1   \n",
       "11030         1        42.0         43.0    0.00       Form1   \n",
       "12583         5        87.0        304.0    0.00       Form1   \n",
       "9755          3        66.0        449.0    0.00       Form1   \n",
       "6999          1        65.0         75.0    0.00       Form1   \n",
       "10879         0       132.0          0.0  336.76       Form1   \n",
       "\n",
       "                         DrugName              SubCat  \\\n",
       "13062       PANTOPRAZOLE 40MG INJ          INJECTIONS   \n",
       "2433       PARACETAMOL 1GM IV INJ          INJECTIONS   \n",
       "9895              ENOXAPARIN 40MG          INJECTIONS   \n",
       "14140        FLUCONAZOLE 50MG TAB  TABLETS & CAPSULES   \n",
       "3749               EPHEDRINE 30MG          INJECTIONS   \n",
       "11030              GLYCOPYRROLATE          INJECTIONS   \n",
       "12583        SODIUM CHLORIDE 0.9%          INJECTIONS   \n",
       "9755       PARACETAMOL 1GM IV INJ          INJECTIONS   \n",
       "6999   THYROXINE SODIUM 25MCG TAB  TABLETS & CAPSULES   \n",
       "10879             ENOXAPARIN 60MG          INJECTIONS   \n",
       "\n",
       "                                     SubCat1  \n",
       "13062  INTRAVENOUS & OTHER STERILE SOLUTIONS  \n",
       "2433                  CENTRAL NERVOUS SYSTEM  \n",
       "9895   CARDIOVASCULAR & HEMATOPOIETIC SYSTEM  \n",
       "14140                        ANTI-INFECTIVES  \n",
       "3749   CARDIOVASCULAR & HEMATOPOIETIC SYSTEM  \n",
       "11030                MUSCULO-SKELETAL SYSTEM  \n",
       "12583  INTRAVENOUS & OTHER STERILE SOLUTIONS  \n",
       "9755                  CENTRAL NERVOUS SYSTEM  \n",
       "6999            ENDOCRINE & METABOLIC SYSTEM  \n",
       "10879  CARDIOVASCULAR & HEMATOPOIETIC SYSTEM  "
      ]
     },
     "execution_count": 25,
     "metadata": {},
     "output_type": "execute_result"
    }
   ],
   "source": [
    "df.head(10)"
   ]
  },
  {
   "cell_type": "code",
   "execution_count": 26,
   "id": "d391c684-ba93-4ce1-a8f5-7b34f6f4bd58",
   "metadata": {},
   "outputs": [
    {
     "data": {
      "text/html": [
       "<div>\n",
       "<style scoped>\n",
       "    .dataframe tbody tr th:only-of-type {\n",
       "        vertical-align: middle;\n",
       "    }\n",
       "\n",
       "    .dataframe tbody tr th {\n",
       "        vertical-align: top;\n",
       "    }\n",
       "\n",
       "    .dataframe thead th {\n",
       "        text-align: right;\n",
       "    }\n",
       "</style>\n",
       "<table border=\"1\" class=\"dataframe\">\n",
       "  <thead>\n",
       "    <tr style=\"text-align: right;\">\n",
       "      <th></th>\n",
       "      <th>Dateofbill</th>\n",
       "      <th>Quantity</th>\n",
       "      <th>Final_Cost</th>\n",
       "      <th>Final_Sales</th>\n",
       "      <th>RtnMRP</th>\n",
       "    </tr>\n",
       "  </thead>\n",
       "  <tbody>\n",
       "    <tr>\n",
       "      <th>count</th>\n",
       "      <td>14184</td>\n",
       "      <td>14184.000000</td>\n",
       "      <td>14184.000000</td>\n",
       "      <td>14184.000000</td>\n",
       "      <td>14184.000000</td>\n",
       "    </tr>\n",
       "    <tr>\n",
       "      <th>mean</th>\n",
       "      <td>2022-07-07 13:57:45.989847552</td>\n",
       "      <td>2.234490</td>\n",
       "      <td>124.692400</td>\n",
       "      <td>233.871898</td>\n",
       "      <td>29.144288</td>\n",
       "    </tr>\n",
       "    <tr>\n",
       "      <th>min</th>\n",
       "      <td>2022-01-01 00:00:00</td>\n",
       "      <td>0.000000</td>\n",
       "      <td>40.000000</td>\n",
       "      <td>0.000000</td>\n",
       "      <td>0.000000</td>\n",
       "    </tr>\n",
       "    <tr>\n",
       "      <th>25%</th>\n",
       "      <td>2022-04-10 00:00:00</td>\n",
       "      <td>1.000000</td>\n",
       "      <td>45.000000</td>\n",
       "      <td>48.000000</td>\n",
       "      <td>0.000000</td>\n",
       "    </tr>\n",
       "    <tr>\n",
       "      <th>50%</th>\n",
       "      <td>2022-07-11 00:00:00</td>\n",
       "      <td>1.000000</td>\n",
       "      <td>54.000000</td>\n",
       "      <td>86.000000</td>\n",
       "      <td>0.000000</td>\n",
       "    </tr>\n",
       "    <tr>\n",
       "      <th>75%</th>\n",
       "      <td>2022-10-04 06:00:00</td>\n",
       "      <td>2.000000</td>\n",
       "      <td>78.000000</td>\n",
       "      <td>181.000000</td>\n",
       "      <td>0.000000</td>\n",
       "    </tr>\n",
       "    <tr>\n",
       "      <th>max</th>\n",
       "      <td>2022-12-31 00:00:00</td>\n",
       "      <td>150.000000</td>\n",
       "      <td>33178.000000</td>\n",
       "      <td>39490.000000</td>\n",
       "      <td>8014.000000</td>\n",
       "    </tr>\n",
       "    <tr>\n",
       "      <th>std</th>\n",
       "      <td>NaN</td>\n",
       "      <td>5.137742</td>\n",
       "      <td>465.096326</td>\n",
       "      <td>671.491922</td>\n",
       "      <td>182.462466</td>\n",
       "    </tr>\n",
       "  </tbody>\n",
       "</table>\n",
       "</div>"
      ],
      "text/plain": [
       "                          Dateofbill      Quantity    Final_Cost  \\\n",
       "count                          14184  14184.000000  14184.000000   \n",
       "mean   2022-07-07 13:57:45.989847552      2.234490    124.692400   \n",
       "min              2022-01-01 00:00:00      0.000000     40.000000   \n",
       "25%              2022-04-10 00:00:00      1.000000     45.000000   \n",
       "50%              2022-07-11 00:00:00      1.000000     54.000000   \n",
       "75%              2022-10-04 06:00:00      2.000000     78.000000   \n",
       "max              2022-12-31 00:00:00    150.000000  33178.000000   \n",
       "std                              NaN      5.137742    465.096326   \n",
       "\n",
       "        Final_Sales        RtnMRP  \n",
       "count  14184.000000  14184.000000  \n",
       "mean     233.871898     29.144288  \n",
       "min        0.000000      0.000000  \n",
       "25%       48.000000      0.000000  \n",
       "50%       86.000000      0.000000  \n",
       "75%      181.000000      0.000000  \n",
       "max    39490.000000   8014.000000  \n",
       "std      671.491922    182.462466  "
      ]
     },
     "execution_count": 26,
     "metadata": {},
     "output_type": "execute_result"
    }
   ],
   "source": [
    "df.describe()"
   ]
  },
  {
   "cell_type": "code",
   "execution_count": 27,
   "id": "15e80884-17b3-4093-b9d5-d30e210ad318",
   "metadata": {},
   "outputs": [],
   "source": [
    "numeric_cols = df.select_dtypes(include=['int64', 'float32', 'float64']).columns"
   ]
  },
  {
   "cell_type": "code",
   "execution_count": 28,
   "id": "8e475911-b84b-427d-8842-e34ca9a32884",
   "metadata": {},
   "outputs": [
    {
     "name": "stdout",
     "output_type": "stream",
     "text": [
      "Column: Quantity\n",
      "  Mean: 2.2344895657078396\n",
      "  Median: 1.0\n",
      "  Mode: 1\n",
      "  Variance: 26.396396228188014\n",
      "  Standard Deviation: 5.1377423279284855\n",
      "  Skewness: 11.327695459040598\n",
      "  Kurtosis: 179.75556416220294\n",
      "--------------------\n",
      "Column: Final_Cost\n",
      "  Mean: 124.69239988719684\n",
      "  Median: 54.0\n",
      "  Mode: 42.0\n",
      "  Variance: 216314.59218365306\n",
      "  Standard Deviation: 465.0963257043137\n",
      "  Skewness: 34.515912412455165\n",
      "  Kurtosis: 2025.2834209195448\n",
      "--------------------\n",
      "Column: Final_Sales\n",
      "  Mean: 233.87189791314157\n",
      "  Median: 86.0\n",
      "  Mode: 0.0\n",
      "  Variance: 450901.4009898075\n",
      "  Standard Deviation: 671.4919217606474\n",
      "  Skewness: 21.030715596060183\n",
      "  Kurtosis: 949.5135104970497\n",
      "--------------------\n",
      "Column: RtnMRP\n",
      "  Mean: 29.14428807106599\n",
      "  Median: 0.0\n",
      "  Mode: 0.0\n",
      "  Variance: 33292.551495890766\n",
      "  Standard Deviation: 182.46246599202468\n",
      "  Skewness: 15.781549349226616\n",
      "  Kurtosis: 402.70868618837704\n",
      "--------------------\n"
     ]
    }
   ],
   "source": [
    "for col in numeric_cols:\n",
    "  print(f\"Column: {col}\")\n",
    "  print(f\"  Mean: {df[col].mean()}\")\n",
    "  print(f\"  Median: {df[col].median()}\")\n",
    "  print(f\"  Mode: {df[col].mode().iloc[0]}\")  # Assuming single mode for simplicity\n",
    "  print(f\"  Variance: {df[col].var()}\")\n",
    "  print(f\"  Standard Deviation: {df[col].std()}\")\n",
    "  print(f\"  Skewness: {skew(df[col])}\")  # Using scipy.stats for skewness\n",
    "  print(f\"  Kurtosis: {df[col].kurt()}\")  # Kurtosis using pandas\n",
    "  print(\"-\" * 20)  # Separator between columns"
   ]
  },
  {
   "cell_type": "code",
   "execution_count": 29,
   "id": "bb71d590-118e-4997-99e3-a7c82141b7d9",
   "metadata": {},
   "outputs": [
    {
     "name": "stdout",
     "output_type": "stream",
     "text": [
      "Column: Typeofsales\n",
      "  Most frequent value: Sale\n",
      "Column: Patient_ID\n",
      "  Most frequent value: 12018071649\n",
      "Column: Specialisation\n",
      "  Most frequent value: Specialisation4\n",
      "Column: Dept\n",
      "  Most frequent value: Department1\n",
      "Column: Dateofbill\n",
      "  Most frequent value: 2022-07-09 00:00:00\n",
      "Column: Formulation\n",
      "  Most frequent value: Form1\n",
      "Column: DrugName\n",
      "  Most frequent value: MULTIPLE ELECTROLYTES 500ML IVF\n",
      "Column: SubCat\n",
      "  Most frequent value: INJECTIONS\n",
      "Column: SubCat1\n",
      "  Most frequent value: INTRAVENOUS & OTHER STERILE SOLUTIONS\n"
     ]
    }
   ],
   "source": [
    "# No mode calculation for non-numeric columns (use value counts instead)\n",
    "for col in df.columns:\n",
    "  if col not in numeric_cols:\n",
    "    print(f\"Column: {col}\")\n",
    "    print(f\"  Most frequent value: {df[col].mode().iloc[0]}\")"
   ]
  },
  {
   "cell_type": "code",
   "execution_count": 30,
   "id": "78c997f1-971b-4bfc-962b-7cc4a569d279",
   "metadata": {},
   "outputs": [
    {
     "data": {
      "text/plain": [
       "150"
      ]
     },
     "execution_count": 30,
     "metadata": {},
     "output_type": "execute_result"
    }
   ],
   "source": [
    "#EDA\n",
    "df.Quantity.max()"
   ]
  },
  {
   "cell_type": "code",
   "execution_count": 31,
   "id": "9ef0eea5-e626-4c3e-adbb-8446814e724c",
   "metadata": {},
   "outputs": [
    {
     "data": {
      "text/plain": [
       "33178.0"
      ]
     },
     "execution_count": 31,
     "metadata": {},
     "output_type": "execute_result"
    }
   ],
   "source": [
    "df.Final_Cost.max()"
   ]
  },
  {
   "cell_type": "code",
   "execution_count": 32,
   "id": "71a231a9-f0fa-4b5a-bd46-b6d6dacb4044",
   "metadata": {},
   "outputs": [
    {
     "data": {
      "text/plain": [
       "39490.0"
      ]
     },
     "execution_count": 32,
     "metadata": {},
     "output_type": "execute_result"
    }
   ],
   "source": [
    "df.Final_Sales.max()"
   ]
  },
  {
   "cell_type": "code",
   "execution_count": 33,
   "id": "850bd119-2aa2-4017-b593-1b0b38bfbee7",
   "metadata": {},
   "outputs": [
    {
     "data": {
      "text/plain": [
       "8014.0"
      ]
     },
     "execution_count": 33,
     "metadata": {},
     "output_type": "execute_result"
    }
   ],
   "source": [
    "df.RtnMRP.max()"
   ]
  },
  {
   "cell_type": "code",
   "execution_count": 34,
   "id": "3066f205-807e-4db2-8465-b33c6c755dcc",
   "metadata": {},
   "outputs": [
    {
     "data": {
      "text/html": [
       "<div>\n",
       "<style scoped>\n",
       "    .dataframe tbody tr th:only-of-type {\n",
       "        vertical-align: middle;\n",
       "    }\n",
       "\n",
       "    .dataframe tbody tr th {\n",
       "        vertical-align: top;\n",
       "    }\n",
       "\n",
       "    .dataframe thead th {\n",
       "        text-align: right;\n",
       "    }\n",
       "</style>\n",
       "<table border=\"1\" class=\"dataframe\">\n",
       "  <thead>\n",
       "    <tr style=\"text-align: right;\">\n",
       "      <th></th>\n",
       "      <th>Typeofsales</th>\n",
       "      <th>Patient_ID</th>\n",
       "      <th>Specialisation</th>\n",
       "      <th>Dept</th>\n",
       "      <th>Dateofbill</th>\n",
       "      <th>Quantity</th>\n",
       "      <th>Final_Cost</th>\n",
       "      <th>Final_Sales</th>\n",
       "      <th>RtnMRP</th>\n",
       "      <th>Formulation</th>\n",
       "      <th>DrugName</th>\n",
       "      <th>SubCat</th>\n",
       "      <th>SubCat1</th>\n",
       "    </tr>\n",
       "  </thead>\n",
       "  <tbody>\n",
       "    <tr>\n",
       "      <th>13062</th>\n",
       "      <td>Sale</td>\n",
       "      <td>12018072643</td>\n",
       "      <td>Specialisation11</td>\n",
       "      <td>Department1</td>\n",
       "      <td>Jan</td>\n",
       "      <td>5</td>\n",
       "      <td>87.0</td>\n",
       "      <td>304.0</td>\n",
       "      <td>0.0</td>\n",
       "      <td>Form1</td>\n",
       "      <td>PANTOPRAZOLE 40MG INJ</td>\n",
       "      <td>INJECTIONS</td>\n",
       "      <td>INTRAVENOUS &amp; OTHER STERILE SOLUTIONS</td>\n",
       "    </tr>\n",
       "    <tr>\n",
       "      <th>2433</th>\n",
       "      <td>Sale</td>\n",
       "      <td>12018080296</td>\n",
       "      <td>Specialisation27</td>\n",
       "      <td>Department1</td>\n",
       "      <td>Jan</td>\n",
       "      <td>3</td>\n",
       "      <td>66.0</td>\n",
       "      <td>449.0</td>\n",
       "      <td>0.0</td>\n",
       "      <td>Form1</td>\n",
       "      <td>PARACETAMOL 1GM IV INJ</td>\n",
       "      <td>INJECTIONS</td>\n",
       "      <td>CENTRAL NERVOUS SYSTEM</td>\n",
       "    </tr>\n",
       "    <tr>\n",
       "      <th>9895</th>\n",
       "      <td>Sale</td>\n",
       "      <td>12018080633</td>\n",
       "      <td>Specialisation14</td>\n",
       "      <td>Department1</td>\n",
       "      <td>Jan</td>\n",
       "      <td>1</td>\n",
       "      <td>78.0</td>\n",
       "      <td>126.0</td>\n",
       "      <td>0.0</td>\n",
       "      <td>Form2</td>\n",
       "      <td>ENOXAPARIN 40MG</td>\n",
       "      <td>INJECTIONS</td>\n",
       "      <td>CARDIOVASCULAR &amp; HEMATOPOIETIC SYSTEM</td>\n",
       "    </tr>\n",
       "    <tr>\n",
       "      <th>14140</th>\n",
       "      <td>Sale</td>\n",
       "      <td>12018075045</td>\n",
       "      <td>Specialisation4</td>\n",
       "      <td>Department1</td>\n",
       "      <td>Jan</td>\n",
       "      <td>1</td>\n",
       "      <td>48.0</td>\n",
       "      <td>50.0</td>\n",
       "      <td>0.0</td>\n",
       "      <td>Form1</td>\n",
       "      <td>FLUCONAZOLE 50MG TAB</td>\n",
       "      <td>TABLETS &amp; CAPSULES</td>\n",
       "      <td>ANTI-INFECTIVES</td>\n",
       "    </tr>\n",
       "    <tr>\n",
       "      <th>3749</th>\n",
       "      <td>Sale</td>\n",
       "      <td>12018081111</td>\n",
       "      <td>Specialisation11</td>\n",
       "      <td>Department2</td>\n",
       "      <td>Jan</td>\n",
       "      <td>1</td>\n",
       "      <td>45.0</td>\n",
       "      <td>47.0</td>\n",
       "      <td>0.0</td>\n",
       "      <td>Form1</td>\n",
       "      <td>EPHEDRINE 30MG</td>\n",
       "      <td>INJECTIONS</td>\n",
       "      <td>CARDIOVASCULAR &amp; HEMATOPOIETIC SYSTEM</td>\n",
       "    </tr>\n",
       "  </tbody>\n",
       "</table>\n",
       "</div>"
      ],
      "text/plain": [
       "      Typeofsales   Patient_ID    Specialisation         Dept Dateofbill  \\\n",
       "13062        Sale  12018072643  Specialisation11  Department1        Jan   \n",
       "2433         Sale  12018080296  Specialisation27  Department1        Jan   \n",
       "9895         Sale  12018080633  Specialisation14  Department1        Jan   \n",
       "14140        Sale  12018075045   Specialisation4  Department1        Jan   \n",
       "3749         Sale  12018081111  Specialisation11  Department2        Jan   \n",
       "\n",
       "       Quantity  Final_Cost  Final_Sales  RtnMRP Formulation  \\\n",
       "13062         5        87.0        304.0     0.0       Form1   \n",
       "2433          3        66.0        449.0     0.0       Form1   \n",
       "9895          1        78.0        126.0     0.0       Form2   \n",
       "14140         1        48.0         50.0     0.0       Form1   \n",
       "3749          1        45.0         47.0     0.0       Form1   \n",
       "\n",
       "                     DrugName              SubCat  \\\n",
       "13062   PANTOPRAZOLE 40MG INJ          INJECTIONS   \n",
       "2433   PARACETAMOL 1GM IV INJ          INJECTIONS   \n",
       "9895          ENOXAPARIN 40MG          INJECTIONS   \n",
       "14140    FLUCONAZOLE 50MG TAB  TABLETS & CAPSULES   \n",
       "3749           EPHEDRINE 30MG          INJECTIONS   \n",
       "\n",
       "                                     SubCat1  \n",
       "13062  INTRAVENOUS & OTHER STERILE SOLUTIONS  \n",
       "2433                  CENTRAL NERVOUS SYSTEM  \n",
       "9895   CARDIOVASCULAR & HEMATOPOIETIC SYSTEM  \n",
       "14140                        ANTI-INFECTIVES  \n",
       "3749   CARDIOVASCULAR & HEMATOPOIETIC SYSTEM  "
      ]
     },
     "execution_count": 34,
     "metadata": {},
     "output_type": "execute_result"
    }
   ],
   "source": [
    "# Convert date formate to month\n",
    "df['Dateofbill'] = pd.to_datetime(df['Dateofbill'])\n",
    "df['Dateofbill'] = df['Dateofbill'].dt.strftime('%b')\n",
    "df.head()"
   ]
  },
  {
   "cell_type": "code",
   "execution_count": 35,
   "id": "27c03c32-5595-4ec0-97cd-b535d9a6cc6b",
   "metadata": {},
   "outputs": [
    {
     "data": {
      "text/html": [
       "<div>\n",
       "<style scoped>\n",
       "    .dataframe tbody tr th:only-of-type {\n",
       "        vertical-align: middle;\n",
       "    }\n",
       "\n",
       "    .dataframe tbody tr th {\n",
       "        vertical-align: top;\n",
       "    }\n",
       "\n",
       "    .dataframe thead th {\n",
       "        text-align: right;\n",
       "    }\n",
       "</style>\n",
       "<table border=\"1\" class=\"dataframe\">\n",
       "  <thead>\n",
       "    <tr style=\"text-align: right;\">\n",
       "      <th>Dateofbill</th>\n",
       "      <th>Apr</th>\n",
       "      <th>Aug</th>\n",
       "      <th>Dec</th>\n",
       "      <th>Feb</th>\n",
       "      <th>Jan</th>\n",
       "      <th>Jul</th>\n",
       "      <th>Jun</th>\n",
       "      <th>Mar</th>\n",
       "      <th>May</th>\n",
       "      <th>Nov</th>\n",
       "      <th>Oct</th>\n",
       "      <th>Sep</th>\n",
       "    </tr>\n",
       "    <tr>\n",
       "      <th>SubCat</th>\n",
       "      <th></th>\n",
       "      <th></th>\n",
       "      <th></th>\n",
       "      <th></th>\n",
       "      <th></th>\n",
       "      <th></th>\n",
       "      <th></th>\n",
       "      <th></th>\n",
       "      <th></th>\n",
       "      <th></th>\n",
       "      <th></th>\n",
       "      <th></th>\n",
       "    </tr>\n",
       "  </thead>\n",
       "  <tbody>\n",
       "    <tr>\n",
       "      <th>DROPS</th>\n",
       "      <td>0.888889</td>\n",
       "      <td>0.666667</td>\n",
       "      <td>1.000000</td>\n",
       "      <td>1.000000</td>\n",
       "      <td>0.000000</td>\n",
       "      <td>1.000000</td>\n",
       "      <td>1.000000</td>\n",
       "      <td>1.000000</td>\n",
       "      <td>0.666667</td>\n",
       "      <td>1.000000</td>\n",
       "      <td>1.000000</td>\n",
       "      <td>0.857143</td>\n",
       "    </tr>\n",
       "    <tr>\n",
       "      <th>INHALERS &amp; RESPULES</th>\n",
       "      <td>2.360000</td>\n",
       "      <td>2.977778</td>\n",
       "      <td>2.722222</td>\n",
       "      <td>2.935484</td>\n",
       "      <td>3.666667</td>\n",
       "      <td>3.159091</td>\n",
       "      <td>3.266667</td>\n",
       "      <td>3.137931</td>\n",
       "      <td>4.052632</td>\n",
       "      <td>2.954545</td>\n",
       "      <td>3.088889</td>\n",
       "      <td>3.068182</td>\n",
       "    </tr>\n",
       "    <tr>\n",
       "      <th>INJECTIONS</th>\n",
       "      <td>2.782361</td>\n",
       "      <td>2.464607</td>\n",
       "      <td>2.405502</td>\n",
       "      <td>2.540490</td>\n",
       "      <td>2.329768</td>\n",
       "      <td>2.762735</td>\n",
       "      <td>2.283019</td>\n",
       "      <td>2.757296</td>\n",
       "      <td>2.577532</td>\n",
       "      <td>2.510760</td>\n",
       "      <td>2.634218</td>\n",
       "      <td>2.444142</td>\n",
       "    </tr>\n",
       "    <tr>\n",
       "      <th>IV FLUIDS, ELECTROLYTES, TPN</th>\n",
       "      <td>1.869231</td>\n",
       "      <td>1.678445</td>\n",
       "      <td>1.592437</td>\n",
       "      <td>1.813636</td>\n",
       "      <td>1.942708</td>\n",
       "      <td>1.839844</td>\n",
       "      <td>2.050228</td>\n",
       "      <td>1.732218</td>\n",
       "      <td>1.706767</td>\n",
       "      <td>1.485207</td>\n",
       "      <td>1.622951</td>\n",
       "      <td>1.505376</td>\n",
       "    </tr>\n",
       "    <tr>\n",
       "      <th>LIQUIDS &amp; SOLUTIONS</th>\n",
       "      <td>5.714286</td>\n",
       "      <td>6.300000</td>\n",
       "      <td>9.161290</td>\n",
       "      <td>4.294118</td>\n",
       "      <td>11.086957</td>\n",
       "      <td>4.666667</td>\n",
       "      <td>1.050000</td>\n",
       "      <td>11.375000</td>\n",
       "      <td>9.461538</td>\n",
       "      <td>13.400000</td>\n",
       "      <td>6.650000</td>\n",
       "      <td>1.095238</td>\n",
       "    </tr>\n",
       "  </tbody>\n",
       "</table>\n",
       "</div>"
      ],
      "text/plain": [
       "Dateofbill                         Apr       Aug       Dec       Feb  \\\n",
       "SubCat                                                                 \n",
       "DROPS                         0.888889  0.666667  1.000000  1.000000   \n",
       "INHALERS & RESPULES           2.360000  2.977778  2.722222  2.935484   \n",
       "INJECTIONS                    2.782361  2.464607  2.405502  2.540490   \n",
       "IV FLUIDS, ELECTROLYTES, TPN  1.869231  1.678445  1.592437  1.813636   \n",
       "LIQUIDS & SOLUTIONS           5.714286  6.300000  9.161290  4.294118   \n",
       "\n",
       "Dateofbill                          Jan       Jul       Jun        Mar  \\\n",
       "SubCat                                                                   \n",
       "DROPS                          0.000000  1.000000  1.000000   1.000000   \n",
       "INHALERS & RESPULES            3.666667  3.159091  3.266667   3.137931   \n",
       "INJECTIONS                     2.329768  2.762735  2.283019   2.757296   \n",
       "IV FLUIDS, ELECTROLYTES, TPN   1.942708  1.839844  2.050228   1.732218   \n",
       "LIQUIDS & SOLUTIONS           11.086957  4.666667  1.050000  11.375000   \n",
       "\n",
       "Dateofbill                         May        Nov       Oct       Sep  \n",
       "SubCat                                                                 \n",
       "DROPS                         0.666667   1.000000  1.000000  0.857143  \n",
       "INHALERS & RESPULES           4.052632   2.954545  3.088889  3.068182  \n",
       "INJECTIONS                    2.577532   2.510760  2.634218  2.444142  \n",
       "IV FLUIDS, ELECTROLYTES, TPN  1.706767   1.485207  1.622951  1.505376  \n",
       "LIQUIDS & SOLUTIONS           9.461538  13.400000  6.650000  1.095238  "
      ]
     },
     "execution_count": 35,
     "metadata": {},
     "output_type": "execute_result"
    }
   ],
   "source": [
    "# Pivot the DataFrame based on SubCat of drugs\n",
    "data_pivoted = df.pivot_table(index=\"SubCat\", columns=\"Dateofbill\", values=\"Quantity\")\n",
    "\n",
    "# Result\n",
    "data_pivoted.head()"
   ]
  },
  {
   "cell_type": "code",
   "execution_count": 36,
   "id": "9359fa02-6ff3-4246-84a6-04123f31c51f",
   "metadata": {},
   "outputs": [
    {
     "data": {
      "text/plain": [
       "((array([-3.89614943, -3.67566244, -3.55482318, ...,  3.55482318,\n",
       "          3.67566244,  3.89614943]),\n",
       "  array([  0,   0,   0, ..., 100, 100, 150], dtype=int64)),\n",
       " (2.660232114547922, 2.234489565707839, 0.5176655056900048))"
      ]
     },
     "execution_count": 36,
     "metadata": {},
     "output_type": "execute_result"
    },
    {
     "data": {
      "image/png": "[encoded data removed]",
      "text/plain": [
       "<Figure size 640x480 with 1 Axes>"
      ]
     },
     "metadata": {},
     "output_type": "display_data"
    }
   ],
   "source": [
    "#Data Distribution\n",
    "# Distribution of data\n",
    "stats.probplot(df.Quantity, dist=\"norm\", plot=pylab)"
   ]
  },
  {
   "cell_type": "code",
   "execution_count": 37,
   "id": "64af046e-7d3d-4ec4-b4ec-a75ab86bd644",
   "metadata": {},
   "outputs": [
    {
     "data": {
      "text/plain": [
       "((array([-3.89614943, -3.67566244, -3.55482318, ...,  3.55482318,\n",
       "          3.67566244,  3.89614943]),\n",
       "  array([      -inf,       -inf,       -inf, ..., 4.60517019, 4.60517019,\n",
       "         5.01063529])),\n",
       " (nan, nan, nan))"
      ]
     },
     "execution_count": 37,
     "metadata": {},
     "output_type": "execute_result"
    },
    {
     "data": {
      "image/png": "[encoded data removed]",
      "text/plain": [
       "<Figure size 640x480 with 1 Axes>"
      ]
     },
     "metadata": {},
     "output_type": "display_data"
    }
   ],
   "source": [
    "#Data Transformation : Log Transformation\n",
    "# Transform the data to a normal distribution\n",
    "stats.probplot(np.log(df.Quantity),dist=\"norm\",plot=pylab)"
   ]
  },
  {
   "cell_type": "code",
   "execution_count": 38,
   "id": "0bc4c2ea-a8cc-47ae-b861-7a73c269a8d3",
   "metadata": {},
   "outputs": [
    {
     "data": {
      "image/png": "[encoded data removed]",
      "text/plain": [
       "<Figure size 640x480 with 1 Axes>"
      ]
     },
     "metadata": {},
     "output_type": "display_data"
    }
   ],
   "source": [
    "#Bar Plot (Quantity of drugs sold by Month)\n",
    "sns.barplot(data = df, x = 'Dateofbill', y = 'Quantity')\n",
    "plt.title('Quantity of drugs sold by Month')\n",
    "plt.show()"
   ]
  },
  {
   "cell_type": "code",
   "execution_count": 39,
   "id": "b290ea2b-5fe3-4052-aead-0135448f01ea",
   "metadata": {},
   "outputs": [],
   "source": [
    "# In March, April, July, and September has highest quantity sold. and it is approximately the same"
   ]
  },
  {
   "cell_type": "code",
   "execution_count": 40,
   "id": "972e99d6-cddc-47e8-ad19-fb2a2fca07a6",
   "metadata": {},
   "outputs": [
    {
     "data": {
      "image/png": "[encoded data removed]",
      "text/plain": [
       "<Figure size 640x480 with 1 Axes>"
      ]
     },
     "metadata": {},
     "output_type": "display_data"
    }
   ],
   "source": [
    "Month = df.groupby('Dateofbill')['Quantity'].sum()\n",
    "plt.plot(Month.index, Month.values, color = 'blue')\n",
    "plt.title('Quantity Trend')\n",
    "plt.xlabel('Month')\n",
    "plt.ylabel('Quantity')\n",
    "plt.show()"
   ]
  },
  {
   "cell_type": "code",
   "execution_count": 44,
   "id": "a4dbbd32",
   "metadata": {},
   "outputs": [],
   "source": [
    "#AutoEDA (D-Tale)\n",
    "import dtale as dt"
   ]
  },
  {
   "cell_type": "code",
   "execution_count": 45,
   "id": "a51e3001-4303-421d-8082-b027cede56ce",
   "metadata": {},
   "outputs": [],
   "source": [
    "d = dt.show(df)\n",
    "d.open_browser()"
   ]
  },
  {
   "cell_type": "code",
   "execution_count": 46,
   "id": "cec346b9-80fb-45b4-87a8-4acaa74f6039",
   "metadata": {},
   "outputs": [],
   "source": [
    "df_grouped = df[['Dateofbill','Quantity']]"
   ]
  },
  {
   "cell_type": "code",
   "execution_count": 47,
   "id": "e0289dfb-93fe-418b-98ac-970c4e28b9cc",
   "metadata": {},
   "outputs": [
    {
     "data": {
      "text/html": [
       "<div>\n",
       "<style scoped>\n",
       "    .dataframe tbody tr th:only-of-type {\n",
       "        vertical-align: middle;\n",
       "    }\n",
       "\n",
       "    .dataframe tbody tr th {\n",
       "        vertical-align: top;\n",
       "    }\n",
       "\n",
       "    .dataframe thead th {\n",
       "        text-align: right;\n",
       "    }\n",
       "</style>\n",
       "<table border=\"1\" class=\"dataframe\">\n",
       "  <thead>\n",
       "    <tr style=\"text-align: right;\">\n",
       "      <th></th>\n",
       "      <th>Dateofbill</th>\n",
       "      <th>Quantity</th>\n",
       "    </tr>\n",
       "  </thead>\n",
       "  <tbody>\n",
       "    <tr>\n",
       "      <th>0</th>\n",
       "      <td>Apr</td>\n",
       "      <td>2947</td>\n",
       "    </tr>\n",
       "    <tr>\n",
       "      <th>1</th>\n",
       "      <td>Aug</td>\n",
       "      <td>2981</td>\n",
       "    </tr>\n",
       "    <tr>\n",
       "      <th>2</th>\n",
       "      <td>Dec</td>\n",
       "      <td>3100</td>\n",
       "    </tr>\n",
       "    <tr>\n",
       "      <th>3</th>\n",
       "      <td>Feb</td>\n",
       "      <td>2118</td>\n",
       "    </tr>\n",
       "    <tr>\n",
       "      <th>4</th>\n",
       "      <td>Jan</td>\n",
       "      <td>2309</td>\n",
       "    </tr>\n",
       "    <tr>\n",
       "      <th>5</th>\n",
       "      <td>Jul</td>\n",
       "      <td>3006</td>\n",
       "    </tr>\n",
       "    <tr>\n",
       "      <th>6</th>\n",
       "      <td>Jun</td>\n",
       "      <td>2124</td>\n",
       "    </tr>\n",
       "    <tr>\n",
       "      <th>7</th>\n",
       "      <td>Mar</td>\n",
       "      <td>2812</td>\n",
       "    </tr>\n",
       "    <tr>\n",
       "      <th>8</th>\n",
       "      <td>May</td>\n",
       "      <td>2643</td>\n",
       "    </tr>\n",
       "    <tr>\n",
       "      <th>9</th>\n",
       "      <td>Nov</td>\n",
       "      <td>2631</td>\n",
       "    </tr>\n",
       "    <tr>\n",
       "      <th>10</th>\n",
       "      <td>Oct</td>\n",
       "      <td>2567</td>\n",
       "    </tr>\n",
       "    <tr>\n",
       "      <th>11</th>\n",
       "      <td>Sep</td>\n",
       "      <td>2456</td>\n",
       "    </tr>\n",
       "  </tbody>\n",
       "</table>\n",
       "</div>"
      ],
      "text/plain": [
       "   Dateofbill  Quantity\n",
       "0         Apr      2947\n",
       "1         Aug      2981\n",
       "2         Dec      3100\n",
       "3         Feb      2118\n",
       "4         Jan      2309\n",
       "5         Jul      3006\n",
       "6         Jun      2124\n",
       "7         Mar      2812\n",
       "8         May      2643\n",
       "9         Nov      2631\n",
       "10        Oct      2567\n",
       "11        Sep      2456"
      ]
     },
     "execution_count": 47,
     "metadata": {},
     "output_type": "execute_result"
    }
   ],
   "source": [
    "# Group by Quantity and Month\n",
    "df_grouped = df_grouped.groupby('Dateofbill').sum()\n",
    "\n",
    "# Result\n",
    "df_grouped.head(10)\n",
    "df_grouped = df_grouped.reset_index()\n",
    "df_grouped"
   ]
  },
  {
   "cell_type": "code",
   "execution_count": 48,
   "id": "ac4c125d-5a2b-49a2-b53c-c97dfd7e0a07",
   "metadata": {},
   "outputs": [],
   "source": [
    "# Create dictionary to map month names into numerical values\n",
    "dict_month = {'Jan': 1, 'Feb': 2, 'Mar': 3, 'Apr': 4, 'May': 5, 'Jun': 6,\n",
    "              'Jul': 7, 'Aug': 8, 'Sep': 9, 'Oct': 10, 'Nov': 11, 'Dec': 12}\n",
    "\n",
    "# Create a new column with the numerical values of the months\n",
    "df_grouped['Monthindex'] = df_grouped['Dateofbill'].map(dict_month)\n",
    "\n",
    "df_grouped = df_grouped.sort_values(by='Monthindex')"
   ]
  },
  {
   "cell_type": "code",
   "execution_count": 49,
   "id": "bbc032f8-7d79-4827-94fc-e3d3e4f11a90",
   "metadata": {},
   "outputs": [
    {
     "data": {
      "text/html": [
       "<div>\n",
       "<style scoped>\n",
       "    .dataframe tbody tr th:only-of-type {\n",
       "        vertical-align: middle;\n",
       "    }\n",
       "\n",
       "    .dataframe tbody tr th {\n",
       "        vertical-align: top;\n",
       "    }\n",
       "\n",
       "    .dataframe thead th {\n",
       "        text-align: right;\n",
       "    }\n",
       "</style>\n",
       "<table border=\"1\" class=\"dataframe\">\n",
       "  <thead>\n",
       "    <tr style=\"text-align: right;\">\n",
       "      <th></th>\n",
       "      <th>Dateofbill</th>\n",
       "      <th>Quantity</th>\n",
       "    </tr>\n",
       "  </thead>\n",
       "  <tbody>\n",
       "    <tr>\n",
       "      <th>0</th>\n",
       "      <td>Jan</td>\n",
       "      <td>2309</td>\n",
       "    </tr>\n",
       "    <tr>\n",
       "      <th>1</th>\n",
       "      <td>Feb</td>\n",
       "      <td>2118</td>\n",
       "    </tr>\n",
       "    <tr>\n",
       "      <th>2</th>\n",
       "      <td>Mar</td>\n",
       "      <td>2812</td>\n",
       "    </tr>\n",
       "    <tr>\n",
       "      <th>3</th>\n",
       "      <td>Apr</td>\n",
       "      <td>2947</td>\n",
       "    </tr>\n",
       "    <tr>\n",
       "      <th>4</th>\n",
       "      <td>May</td>\n",
       "      <td>2643</td>\n",
       "    </tr>\n",
       "    <tr>\n",
       "      <th>5</th>\n",
       "      <td>Jun</td>\n",
       "      <td>2124</td>\n",
       "    </tr>\n",
       "    <tr>\n",
       "      <th>6</th>\n",
       "      <td>Jul</td>\n",
       "      <td>3006</td>\n",
       "    </tr>\n",
       "    <tr>\n",
       "      <th>7</th>\n",
       "      <td>Aug</td>\n",
       "      <td>2981</td>\n",
       "    </tr>\n",
       "    <tr>\n",
       "      <th>8</th>\n",
       "      <td>Sep</td>\n",
       "      <td>2456</td>\n",
       "    </tr>\n",
       "    <tr>\n",
       "      <th>9</th>\n",
       "      <td>Oct</td>\n",
       "      <td>2567</td>\n",
       "    </tr>\n",
       "    <tr>\n",
       "      <th>10</th>\n",
       "      <td>Nov</td>\n",
       "      <td>2631</td>\n",
       "    </tr>\n",
       "    <tr>\n",
       "      <th>11</th>\n",
       "      <td>Dec</td>\n",
       "      <td>3100</td>\n",
       "    </tr>\n",
       "  </tbody>\n",
       "</table>\n",
       "</div>"
      ],
      "text/plain": [
       "   Dateofbill  Quantity\n",
       "0         Jan      2309\n",
       "1         Feb      2118\n",
       "2         Mar      2812\n",
       "3         Apr      2947\n",
       "4         May      2643\n",
       "5         Jun      2124\n",
       "6         Jul      3006\n",
       "7         Aug      2981\n",
       "8         Sep      2456\n",
       "9         Oct      2567\n",
       "10        Nov      2631\n",
       "11        Dec      3100"
      ]
     },
     "execution_count": 49,
     "metadata": {},
     "output_type": "execute_result"
    }
   ],
   "source": [
    "# Drop Monthindex column\n",
    "df_grouped = df_grouped.drop(columns=['Monthindex'])\n",
    "df_grouped = df_grouped.reset_index(drop=True)\n",
    "df_grouped"
   ]
  },
  {
   "cell_type": "code",
   "execution_count": 50,
   "id": "121881c8-491a-4537-abd1-283f6c9eb037",
   "metadata": {},
   "outputs": [
    {
     "data": {
      "text/plain": [
       "Index(['Apr', 'Aug', 'Dec', 'Feb', 'Jan', 'Jul', 'Jun', 'Mar', 'May', 'Nov',\n",
       "       'Oct', 'Sep'],\n",
       "      dtype='object')"
      ]
     },
     "execution_count": 50,
     "metadata": {},
     "output_type": "execute_result"
    }
   ],
   "source": [
    "#One-Hot Encoding\n",
    "data1 = pd.get_dummies(df_grouped.Dateofbill)\n",
    "data1.columns"
   ]
  },
  {
   "cell_type": "code",
   "execution_count": 51,
   "id": "54184995-4797-4681-ac91-a4e8377a39a1",
   "metadata": {},
   "outputs": [],
   "source": [
    "# Concatenate df_grouped and data1 along columns\n",
    "data = pd.concat([df_grouped, data1], axis=1)"
   ]
  },
  {
   "cell_type": "code",
   "execution_count": 52,
   "id": "f90816d8-b585-40ab-8573-e2252a0cc5a6",
   "metadata": {},
   "outputs": [
    {
     "data": {
      "text/html": [
       "<div>\n",
       "<style scoped>\n",
       "    .dataframe tbody tr th:only-of-type {\n",
       "        vertical-align: middle;\n",
       "    }\n",
       "\n",
       "    .dataframe tbody tr th {\n",
       "        vertical-align: top;\n",
       "    }\n",
       "\n",
       "    .dataframe thead th {\n",
       "        text-align: right;\n",
       "    }\n",
       "</style>\n",
       "<table border=\"1\" class=\"dataframe\">\n",
       "  <thead>\n",
       "    <tr style=\"text-align: right;\">\n",
       "      <th></th>\n",
       "      <th>Dateofbill</th>\n",
       "      <th>Quantity</th>\n",
       "      <th>Apr</th>\n",
       "      <th>Aug</th>\n",
       "      <th>Dec</th>\n",
       "      <th>Feb</th>\n",
       "      <th>Jan</th>\n",
       "      <th>Jul</th>\n",
       "      <th>Jun</th>\n",
       "      <th>Mar</th>\n",
       "      <th>May</th>\n",
       "      <th>Nov</th>\n",
       "      <th>Oct</th>\n",
       "      <th>Sep</th>\n",
       "    </tr>\n",
       "  </thead>\n",
       "  <tbody>\n",
       "    <tr>\n",
       "      <th>0</th>\n",
       "      <td>Jan</td>\n",
       "      <td>2309</td>\n",
       "      <td>False</td>\n",
       "      <td>False</td>\n",
       "      <td>False</td>\n",
       "      <td>False</td>\n",
       "      <td>True</td>\n",
       "      <td>False</td>\n",
       "      <td>False</td>\n",
       "      <td>False</td>\n",
       "      <td>False</td>\n",
       "      <td>False</td>\n",
       "      <td>False</td>\n",
       "      <td>False</td>\n",
       "    </tr>\n",
       "    <tr>\n",
       "      <th>1</th>\n",
       "      <td>Feb</td>\n",
       "      <td>2118</td>\n",
       "      <td>False</td>\n",
       "      <td>False</td>\n",
       "      <td>False</td>\n",
       "      <td>True</td>\n",
       "      <td>False</td>\n",
       "      <td>False</td>\n",
       "      <td>False</td>\n",
       "      <td>False</td>\n",
       "      <td>False</td>\n",
       "      <td>False</td>\n",
       "      <td>False</td>\n",
       "      <td>False</td>\n",
       "    </tr>\n",
       "    <tr>\n",
       "      <th>2</th>\n",
       "      <td>Mar</td>\n",
       "      <td>2812</td>\n",
       "      <td>False</td>\n",
       "      <td>False</td>\n",
       "      <td>False</td>\n",
       "      <td>False</td>\n",
       "      <td>False</td>\n",
       "      <td>False</td>\n",
       "      <td>False</td>\n",
       "      <td>True</td>\n",
       "      <td>False</td>\n",
       "      <td>False</td>\n",
       "      <td>False</td>\n",
       "      <td>False</td>\n",
       "    </tr>\n",
       "    <tr>\n",
       "      <th>3</th>\n",
       "      <td>Apr</td>\n",
       "      <td>2947</td>\n",
       "      <td>True</td>\n",
       "      <td>False</td>\n",
       "      <td>False</td>\n",
       "      <td>False</td>\n",
       "      <td>False</td>\n",
       "      <td>False</td>\n",
       "      <td>False</td>\n",
       "      <td>False</td>\n",
       "      <td>False</td>\n",
       "      <td>False</td>\n",
       "      <td>False</td>\n",
       "      <td>False</td>\n",
       "    </tr>\n",
       "    <tr>\n",
       "      <th>4</th>\n",
       "      <td>May</td>\n",
       "      <td>2643</td>\n",
       "      <td>False</td>\n",
       "      <td>False</td>\n",
       "      <td>False</td>\n",
       "      <td>False</td>\n",
       "      <td>False</td>\n",
       "      <td>False</td>\n",
       "      <td>False</td>\n",
       "      <td>False</td>\n",
       "      <td>True</td>\n",
       "      <td>False</td>\n",
       "      <td>False</td>\n",
       "      <td>False</td>\n",
       "    </tr>\n",
       "    <tr>\n",
       "      <th>5</th>\n",
       "      <td>Jun</td>\n",
       "      <td>2124</td>\n",
       "      <td>False</td>\n",
       "      <td>False</td>\n",
       "      <td>False</td>\n",
       "      <td>False</td>\n",
       "      <td>False</td>\n",
       "      <td>False</td>\n",
       "      <td>True</td>\n",
       "      <td>False</td>\n",
       "      <td>False</td>\n",
       "      <td>False</td>\n",
       "      <td>False</td>\n",
       "      <td>False</td>\n",
       "    </tr>\n",
       "    <tr>\n",
       "      <th>6</th>\n",
       "      <td>Jul</td>\n",
       "      <td>3006</td>\n",
       "      <td>False</td>\n",
       "      <td>False</td>\n",
       "      <td>False</td>\n",
       "      <td>False</td>\n",
       "      <td>False</td>\n",
       "      <td>True</td>\n",
       "      <td>False</td>\n",
       "      <td>False</td>\n",
       "      <td>False</td>\n",
       "      <td>False</td>\n",
       "      <td>False</td>\n",
       "      <td>False</td>\n",
       "    </tr>\n",
       "    <tr>\n",
       "      <th>7</th>\n",
       "      <td>Aug</td>\n",
       "      <td>2981</td>\n",
       "      <td>False</td>\n",
       "      <td>True</td>\n",
       "      <td>False</td>\n",
       "      <td>False</td>\n",
       "      <td>False</td>\n",
       "      <td>False</td>\n",
       "      <td>False</td>\n",
       "      <td>False</td>\n",
       "      <td>False</td>\n",
       "      <td>False</td>\n",
       "      <td>False</td>\n",
       "      <td>False</td>\n",
       "    </tr>\n",
       "    <tr>\n",
       "      <th>8</th>\n",
       "      <td>Sep</td>\n",
       "      <td>2456</td>\n",
       "      <td>False</td>\n",
       "      <td>False</td>\n",
       "      <td>False</td>\n",
       "      <td>False</td>\n",
       "      <td>False</td>\n",
       "      <td>False</td>\n",
       "      <td>False</td>\n",
       "      <td>False</td>\n",
       "      <td>False</td>\n",
       "      <td>False</td>\n",
       "      <td>False</td>\n",
       "      <td>True</td>\n",
       "    </tr>\n",
       "    <tr>\n",
       "      <th>9</th>\n",
       "      <td>Oct</td>\n",
       "      <td>2567</td>\n",
       "      <td>False</td>\n",
       "      <td>False</td>\n",
       "      <td>False</td>\n",
       "      <td>False</td>\n",
       "      <td>False</td>\n",
       "      <td>False</td>\n",
       "      <td>False</td>\n",
       "      <td>False</td>\n",
       "      <td>False</td>\n",
       "      <td>False</td>\n",
       "      <td>True</td>\n",
       "      <td>False</td>\n",
       "    </tr>\n",
       "    <tr>\n",
       "      <th>10</th>\n",
       "      <td>Nov</td>\n",
       "      <td>2631</td>\n",
       "      <td>False</td>\n",
       "      <td>False</td>\n",
       "      <td>False</td>\n",
       "      <td>False</td>\n",
       "      <td>False</td>\n",
       "      <td>False</td>\n",
       "      <td>False</td>\n",
       "      <td>False</td>\n",
       "      <td>False</td>\n",
       "      <td>True</td>\n",
       "      <td>False</td>\n",
       "      <td>False</td>\n",
       "    </tr>\n",
       "    <tr>\n",
       "      <th>11</th>\n",
       "      <td>Dec</td>\n",
       "      <td>3100</td>\n",
       "      <td>False</td>\n",
       "      <td>False</td>\n",
       "      <td>True</td>\n",
       "      <td>False</td>\n",
       "      <td>False</td>\n",
       "      <td>False</td>\n",
       "      <td>False</td>\n",
       "      <td>False</td>\n",
       "      <td>False</td>\n",
       "      <td>False</td>\n",
       "      <td>False</td>\n",
       "      <td>False</td>\n",
       "    </tr>\n",
       "  </tbody>\n",
       "</table>\n",
       "</div>"
      ],
      "text/plain": [
       "   Dateofbill  Quantity    Apr    Aug    Dec    Feb    Jan    Jul    Jun  \\\n",
       "0         Jan      2309  False  False  False  False   True  False  False   \n",
       "1         Feb      2118  False  False  False   True  False  False  False   \n",
       "2         Mar      2812  False  False  False  False  False  False  False   \n",
       "3         Apr      2947   True  False  False  False  False  False  False   \n",
       "4         May      2643  False  False  False  False  False  False  False   \n",
       "5         Jun      2124  False  False  False  False  False  False   True   \n",
       "6         Jul      3006  False  False  False  False  False   True  False   \n",
       "7         Aug      2981  False   True  False  False  False  False  False   \n",
       "8         Sep      2456  False  False  False  False  False  False  False   \n",
       "9         Oct      2567  False  False  False  False  False  False  False   \n",
       "10        Nov      2631  False  False  False  False  False  False  False   \n",
       "11        Dec      3100  False  False   True  False  False  False  False   \n",
       "\n",
       "      Mar    May    Nov    Oct    Sep  \n",
       "0   False  False  False  False  False  \n",
       "1   False  False  False  False  False  \n",
       "2    True  False  False  False  False  \n",
       "3   False  False  False  False  False  \n",
       "4   False   True  False  False  False  \n",
       "5   False  False  False  False  False  \n",
       "6   False  False  False  False  False  \n",
       "7   False  False  False  False  False  \n",
       "8   False  False  False  False   True  \n",
       "9   False  False  False   True  False  \n",
       "10  False  False   True  False  False  \n",
       "11  False  False  False  False  False  "
      ]
     },
     "execution_count": 52,
     "metadata": {},
     "output_type": "execute_result"
    }
   ],
   "source": [
    "data"
   ]
  },
  {
   "cell_type": "code",
   "execution_count": 53,
   "id": "d12dc0b6-a655-4b6b-b060-1c3186bfc96c",
   "metadata": {},
   "outputs": [
    {
     "data": {
      "text/html": [
       "<div>\n",
       "<style scoped>\n",
       "    .dataframe tbody tr th:only-of-type {\n",
       "        vertical-align: middle;\n",
       "    }\n",
       "\n",
       "    .dataframe tbody tr th {\n",
       "        vertical-align: top;\n",
       "    }\n",
       "\n",
       "    .dataframe thead th {\n",
       "        text-align: right;\n",
       "    }\n",
       "</style>\n",
       "<table border=\"1\" class=\"dataframe\">\n",
       "  <thead>\n",
       "    <tr style=\"text-align: right;\">\n",
       "      <th></th>\n",
       "      <th>Dateofbill</th>\n",
       "      <th>Quantity</th>\n",
       "      <th>Apr</th>\n",
       "      <th>Aug</th>\n",
       "      <th>Dec</th>\n",
       "      <th>Feb</th>\n",
       "      <th>Jan</th>\n",
       "      <th>Jul</th>\n",
       "      <th>Jun</th>\n",
       "      <th>Mar</th>\n",
       "      <th>May</th>\n",
       "      <th>Nov</th>\n",
       "      <th>Oct</th>\n",
       "      <th>Sep</th>\n",
       "      <th>log_Quantity</th>\n",
       "    </tr>\n",
       "  </thead>\n",
       "  <tbody>\n",
       "    <tr>\n",
       "      <th>0</th>\n",
       "      <td>Jan</td>\n",
       "      <td>2309</td>\n",
       "      <td>False</td>\n",
       "      <td>False</td>\n",
       "      <td>False</td>\n",
       "      <td>False</td>\n",
       "      <td>True</td>\n",
       "      <td>False</td>\n",
       "      <td>False</td>\n",
       "      <td>False</td>\n",
       "      <td>False</td>\n",
       "      <td>False</td>\n",
       "      <td>False</td>\n",
       "      <td>False</td>\n",
       "      <td>7.744570</td>\n",
       "    </tr>\n",
       "    <tr>\n",
       "      <th>1</th>\n",
       "      <td>Feb</td>\n",
       "      <td>2118</td>\n",
       "      <td>False</td>\n",
       "      <td>False</td>\n",
       "      <td>False</td>\n",
       "      <td>True</td>\n",
       "      <td>False</td>\n",
       "      <td>False</td>\n",
       "      <td>False</td>\n",
       "      <td>False</td>\n",
       "      <td>False</td>\n",
       "      <td>False</td>\n",
       "      <td>False</td>\n",
       "      <td>False</td>\n",
       "      <td>7.658228</td>\n",
       "    </tr>\n",
       "    <tr>\n",
       "      <th>2</th>\n",
       "      <td>Mar</td>\n",
       "      <td>2812</td>\n",
       "      <td>False</td>\n",
       "      <td>False</td>\n",
       "      <td>False</td>\n",
       "      <td>False</td>\n",
       "      <td>False</td>\n",
       "      <td>False</td>\n",
       "      <td>False</td>\n",
       "      <td>True</td>\n",
       "      <td>False</td>\n",
       "      <td>False</td>\n",
       "      <td>False</td>\n",
       "      <td>False</td>\n",
       "      <td>7.941651</td>\n",
       "    </tr>\n",
       "    <tr>\n",
       "      <th>3</th>\n",
       "      <td>Apr</td>\n",
       "      <td>2947</td>\n",
       "      <td>True</td>\n",
       "      <td>False</td>\n",
       "      <td>False</td>\n",
       "      <td>False</td>\n",
       "      <td>False</td>\n",
       "      <td>False</td>\n",
       "      <td>False</td>\n",
       "      <td>False</td>\n",
       "      <td>False</td>\n",
       "      <td>False</td>\n",
       "      <td>False</td>\n",
       "      <td>False</td>\n",
       "      <td>7.988543</td>\n",
       "    </tr>\n",
       "    <tr>\n",
       "      <th>4</th>\n",
       "      <td>May</td>\n",
       "      <td>2643</td>\n",
       "      <td>False</td>\n",
       "      <td>False</td>\n",
       "      <td>False</td>\n",
       "      <td>False</td>\n",
       "      <td>False</td>\n",
       "      <td>False</td>\n",
       "      <td>False</td>\n",
       "      <td>False</td>\n",
       "      <td>True</td>\n",
       "      <td>False</td>\n",
       "      <td>False</td>\n",
       "      <td>False</td>\n",
       "      <td>7.879670</td>\n",
       "    </tr>\n",
       "    <tr>\n",
       "      <th>5</th>\n",
       "      <td>Jun</td>\n",
       "      <td>2124</td>\n",
       "      <td>False</td>\n",
       "      <td>False</td>\n",
       "      <td>False</td>\n",
       "      <td>False</td>\n",
       "      <td>False</td>\n",
       "      <td>False</td>\n",
       "      <td>True</td>\n",
       "      <td>False</td>\n",
       "      <td>False</td>\n",
       "      <td>False</td>\n",
       "      <td>False</td>\n",
       "      <td>False</td>\n",
       "      <td>7.661056</td>\n",
       "    </tr>\n",
       "    <tr>\n",
       "      <th>6</th>\n",
       "      <td>Jul</td>\n",
       "      <td>3006</td>\n",
       "      <td>False</td>\n",
       "      <td>False</td>\n",
       "      <td>False</td>\n",
       "      <td>False</td>\n",
       "      <td>False</td>\n",
       "      <td>True</td>\n",
       "      <td>False</td>\n",
       "      <td>False</td>\n",
       "      <td>False</td>\n",
       "      <td>False</td>\n",
       "      <td>False</td>\n",
       "      <td>False</td>\n",
       "      <td>8.008366</td>\n",
       "    </tr>\n",
       "    <tr>\n",
       "      <th>7</th>\n",
       "      <td>Aug</td>\n",
       "      <td>2981</td>\n",
       "      <td>False</td>\n",
       "      <td>True</td>\n",
       "      <td>False</td>\n",
       "      <td>False</td>\n",
       "      <td>False</td>\n",
       "      <td>False</td>\n",
       "      <td>False</td>\n",
       "      <td>False</td>\n",
       "      <td>False</td>\n",
       "      <td>False</td>\n",
       "      <td>False</td>\n",
       "      <td>False</td>\n",
       "      <td>8.000014</td>\n",
       "    </tr>\n",
       "    <tr>\n",
       "      <th>8</th>\n",
       "      <td>Sep</td>\n",
       "      <td>2456</td>\n",
       "      <td>False</td>\n",
       "      <td>False</td>\n",
       "      <td>False</td>\n",
       "      <td>False</td>\n",
       "      <td>False</td>\n",
       "      <td>False</td>\n",
       "      <td>False</td>\n",
       "      <td>False</td>\n",
       "      <td>False</td>\n",
       "      <td>False</td>\n",
       "      <td>False</td>\n",
       "      <td>True</td>\n",
       "      <td>7.806289</td>\n",
       "    </tr>\n",
       "    <tr>\n",
       "      <th>9</th>\n",
       "      <td>Oct</td>\n",
       "      <td>2567</td>\n",
       "      <td>False</td>\n",
       "      <td>False</td>\n",
       "      <td>False</td>\n",
       "      <td>False</td>\n",
       "      <td>False</td>\n",
       "      <td>False</td>\n",
       "      <td>False</td>\n",
       "      <td>False</td>\n",
       "      <td>False</td>\n",
       "      <td>False</td>\n",
       "      <td>True</td>\n",
       "      <td>False</td>\n",
       "      <td>7.850493</td>\n",
       "    </tr>\n",
       "    <tr>\n",
       "      <th>10</th>\n",
       "      <td>Nov</td>\n",
       "      <td>2631</td>\n",
       "      <td>False</td>\n",
       "      <td>False</td>\n",
       "      <td>False</td>\n",
       "      <td>False</td>\n",
       "      <td>False</td>\n",
       "      <td>False</td>\n",
       "      <td>False</td>\n",
       "      <td>False</td>\n",
       "      <td>False</td>\n",
       "      <td>True</td>\n",
       "      <td>False</td>\n",
       "      <td>False</td>\n",
       "      <td>7.875119</td>\n",
       "    </tr>\n",
       "    <tr>\n",
       "      <th>11</th>\n",
       "      <td>Dec</td>\n",
       "      <td>3100</td>\n",
       "      <td>False</td>\n",
       "      <td>False</td>\n",
       "      <td>True</td>\n",
       "      <td>False</td>\n",
       "      <td>False</td>\n",
       "      <td>False</td>\n",
       "      <td>False</td>\n",
       "      <td>False</td>\n",
       "      <td>False</td>\n",
       "      <td>False</td>\n",
       "      <td>False</td>\n",
       "      <td>False</td>\n",
       "      <td>8.039157</td>\n",
       "    </tr>\n",
       "  </tbody>\n",
       "</table>\n",
       "</div>"
      ],
      "text/plain": [
       "   Dateofbill  Quantity    Apr    Aug    Dec    Feb    Jan    Jul    Jun  \\\n",
       "0         Jan      2309  False  False  False  False   True  False  False   \n",
       "1         Feb      2118  False  False  False   True  False  False  False   \n",
       "2         Mar      2812  False  False  False  False  False  False  False   \n",
       "3         Apr      2947   True  False  False  False  False  False  False   \n",
       "4         May      2643  False  False  False  False  False  False  False   \n",
       "5         Jun      2124  False  False  False  False  False  False   True   \n",
       "6         Jul      3006  False  False  False  False  False   True  False   \n",
       "7         Aug      2981  False   True  False  False  False  False  False   \n",
       "8         Sep      2456  False  False  False  False  False  False  False   \n",
       "9         Oct      2567  False  False  False  False  False  False  False   \n",
       "10        Nov      2631  False  False  False  False  False  False  False   \n",
       "11        Dec      3100  False  False   True  False  False  False  False   \n",
       "\n",
       "      Mar    May    Nov    Oct    Sep  log_Quantity  \n",
       "0   False  False  False  False  False      7.744570  \n",
       "1   False  False  False  False  False      7.658228  \n",
       "2    True  False  False  False  False      7.941651  \n",
       "3   False  False  False  False  False      7.988543  \n",
       "4   False   True  False  False  False      7.879670  \n",
       "5   False  False  False  False  False      7.661056  \n",
       "6   False  False  False  False  False      8.008366  \n",
       "7   False  False  False  False  False      8.000014  \n",
       "8   False  False  False  False   True      7.806289  \n",
       "9   False  False  False   True  False      7.850493  \n",
       "10  False  False   True  False  False      7.875119  \n",
       "11  False  False  False  False  False      8.039157  "
      ]
     },
     "execution_count": 53,
     "metadata": {},
     "output_type": "execute_result"
    }
   ],
   "source": [
    "data['log_Quantity'] = np.log(data['Quantity'])\n",
    "data"
   ]
  },
  {
   "cell_type": "code",
   "execution_count": 54,
   "id": "aecc064e-25b3-481d-9362-0135e3e58dce",
   "metadata": {},
   "outputs": [
    {
     "data": {
      "text/html": [
       "<div>\n",
       "<style scoped>\n",
       "    .dataframe tbody tr th:only-of-type {\n",
       "        vertical-align: middle;\n",
       "    }\n",
       "\n",
       "    .dataframe tbody tr th {\n",
       "        vertical-align: top;\n",
       "    }\n",
       "\n",
       "    .dataframe thead th {\n",
       "        text-align: right;\n",
       "    }\n",
       "</style>\n",
       "<table border=\"1\" class=\"dataframe\">\n",
       "  <thead>\n",
       "    <tr style=\"text-align: right;\">\n",
       "      <th></th>\n",
       "      <th>Dateofbill</th>\n",
       "      <th>Quantity</th>\n",
       "      <th>Apr</th>\n",
       "      <th>Aug</th>\n",
       "      <th>Dec</th>\n",
       "      <th>Feb</th>\n",
       "      <th>Jan</th>\n",
       "      <th>Jul</th>\n",
       "      <th>Jun</th>\n",
       "      <th>Mar</th>\n",
       "      <th>May</th>\n",
       "      <th>Nov</th>\n",
       "      <th>Oct</th>\n",
       "      <th>Sep</th>\n",
       "      <th>log_Quantity</th>\n",
       "      <th>t</th>\n",
       "      <th>t_square</th>\n",
       "    </tr>\n",
       "  </thead>\n",
       "  <tbody>\n",
       "    <tr>\n",
       "      <th>0</th>\n",
       "      <td>Jan</td>\n",
       "      <td>2309</td>\n",
       "      <td>False</td>\n",
       "      <td>False</td>\n",
       "      <td>False</td>\n",
       "      <td>False</td>\n",
       "      <td>True</td>\n",
       "      <td>False</td>\n",
       "      <td>False</td>\n",
       "      <td>False</td>\n",
       "      <td>False</td>\n",
       "      <td>False</td>\n",
       "      <td>False</td>\n",
       "      <td>False</td>\n",
       "      <td>7.744570</td>\n",
       "      <td>1</td>\n",
       "      <td>1</td>\n",
       "    </tr>\n",
       "    <tr>\n",
       "      <th>1</th>\n",
       "      <td>Feb</td>\n",
       "      <td>2118</td>\n",
       "      <td>False</td>\n",
       "      <td>False</td>\n",
       "      <td>False</td>\n",
       "      <td>True</td>\n",
       "      <td>False</td>\n",
       "      <td>False</td>\n",
       "      <td>False</td>\n",
       "      <td>False</td>\n",
       "      <td>False</td>\n",
       "      <td>False</td>\n",
       "      <td>False</td>\n",
       "      <td>False</td>\n",
       "      <td>7.658228</td>\n",
       "      <td>2</td>\n",
       "      <td>4</td>\n",
       "    </tr>\n",
       "    <tr>\n",
       "      <th>2</th>\n",
       "      <td>Mar</td>\n",
       "      <td>2812</td>\n",
       "      <td>False</td>\n",
       "      <td>False</td>\n",
       "      <td>False</td>\n",
       "      <td>False</td>\n",
       "      <td>False</td>\n",
       "      <td>False</td>\n",
       "      <td>False</td>\n",
       "      <td>True</td>\n",
       "      <td>False</td>\n",
       "      <td>False</td>\n",
       "      <td>False</td>\n",
       "      <td>False</td>\n",
       "      <td>7.941651</td>\n",
       "      <td>3</td>\n",
       "      <td>9</td>\n",
       "    </tr>\n",
       "    <tr>\n",
       "      <th>3</th>\n",
       "      <td>Apr</td>\n",
       "      <td>2947</td>\n",
       "      <td>True</td>\n",
       "      <td>False</td>\n",
       "      <td>False</td>\n",
       "      <td>False</td>\n",
       "      <td>False</td>\n",
       "      <td>False</td>\n",
       "      <td>False</td>\n",
       "      <td>False</td>\n",
       "      <td>False</td>\n",
       "      <td>False</td>\n",
       "      <td>False</td>\n",
       "      <td>False</td>\n",
       "      <td>7.988543</td>\n",
       "      <td>4</td>\n",
       "      <td>16</td>\n",
       "    </tr>\n",
       "    <tr>\n",
       "      <th>4</th>\n",
       "      <td>May</td>\n",
       "      <td>2643</td>\n",
       "      <td>False</td>\n",
       "      <td>False</td>\n",
       "      <td>False</td>\n",
       "      <td>False</td>\n",
       "      <td>False</td>\n",
       "      <td>False</td>\n",
       "      <td>False</td>\n",
       "      <td>False</td>\n",
       "      <td>True</td>\n",
       "      <td>False</td>\n",
       "      <td>False</td>\n",
       "      <td>False</td>\n",
       "      <td>7.879670</td>\n",
       "      <td>5</td>\n",
       "      <td>25</td>\n",
       "    </tr>\n",
       "    <tr>\n",
       "      <th>5</th>\n",
       "      <td>Jun</td>\n",
       "      <td>2124</td>\n",
       "      <td>False</td>\n",
       "      <td>False</td>\n",
       "      <td>False</td>\n",
       "      <td>False</td>\n",
       "      <td>False</td>\n",
       "      <td>False</td>\n",
       "      <td>True</td>\n",
       "      <td>False</td>\n",
       "      <td>False</td>\n",
       "      <td>False</td>\n",
       "      <td>False</td>\n",
       "      <td>False</td>\n",
       "      <td>7.661056</td>\n",
       "      <td>6</td>\n",
       "      <td>36</td>\n",
       "    </tr>\n",
       "    <tr>\n",
       "      <th>6</th>\n",
       "      <td>Jul</td>\n",
       "      <td>3006</td>\n",
       "      <td>False</td>\n",
       "      <td>False</td>\n",
       "      <td>False</td>\n",
       "      <td>False</td>\n",
       "      <td>False</td>\n",
       "      <td>True</td>\n",
       "      <td>False</td>\n",
       "      <td>False</td>\n",
       "      <td>False</td>\n",
       "      <td>False</td>\n",
       "      <td>False</td>\n",
       "      <td>False</td>\n",
       "      <td>8.008366</td>\n",
       "      <td>7</td>\n",
       "      <td>49</td>\n",
       "    </tr>\n",
       "    <tr>\n",
       "      <th>7</th>\n",
       "      <td>Aug</td>\n",
       "      <td>2981</td>\n",
       "      <td>False</td>\n",
       "      <td>True</td>\n",
       "      <td>False</td>\n",
       "      <td>False</td>\n",
       "      <td>False</td>\n",
       "      <td>False</td>\n",
       "      <td>False</td>\n",
       "      <td>False</td>\n",
       "      <td>False</td>\n",
       "      <td>False</td>\n",
       "      <td>False</td>\n",
       "      <td>False</td>\n",
       "      <td>8.000014</td>\n",
       "      <td>8</td>\n",
       "      <td>64</td>\n",
       "    </tr>\n",
       "    <tr>\n",
       "      <th>8</th>\n",
       "      <td>Sep</td>\n",
       "      <td>2456</td>\n",
       "      <td>False</td>\n",
       "      <td>False</td>\n",
       "      <td>False</td>\n",
       "      <td>False</td>\n",
       "      <td>False</td>\n",
       "      <td>False</td>\n",
       "      <td>False</td>\n",
       "      <td>False</td>\n",
       "      <td>False</td>\n",
       "      <td>False</td>\n",
       "      <td>False</td>\n",
       "      <td>True</td>\n",
       "      <td>7.806289</td>\n",
       "      <td>9</td>\n",
       "      <td>81</td>\n",
       "    </tr>\n",
       "    <tr>\n",
       "      <th>9</th>\n",
       "      <td>Oct</td>\n",
       "      <td>2567</td>\n",
       "      <td>False</td>\n",
       "      <td>False</td>\n",
       "      <td>False</td>\n",
       "      <td>False</td>\n",
       "      <td>False</td>\n",
       "      <td>False</td>\n",
       "      <td>False</td>\n",
       "      <td>False</td>\n",
       "      <td>False</td>\n",
       "      <td>False</td>\n",
       "      <td>True</td>\n",
       "      <td>False</td>\n",
       "      <td>7.850493</td>\n",
       "      <td>10</td>\n",
       "      <td>100</td>\n",
       "    </tr>\n",
       "    <tr>\n",
       "      <th>10</th>\n",
       "      <td>Nov</td>\n",
       "      <td>2631</td>\n",
       "      <td>False</td>\n",
       "      <td>False</td>\n",
       "      <td>False</td>\n",
       "      <td>False</td>\n",
       "      <td>False</td>\n",
       "      <td>False</td>\n",
       "      <td>False</td>\n",
       "      <td>False</td>\n",
       "      <td>False</td>\n",
       "      <td>True</td>\n",
       "      <td>False</td>\n",
       "      <td>False</td>\n",
       "      <td>7.875119</td>\n",
       "      <td>11</td>\n",
       "      <td>121</td>\n",
       "    </tr>\n",
       "    <tr>\n",
       "      <th>11</th>\n",
       "      <td>Dec</td>\n",
       "      <td>3100</td>\n",
       "      <td>False</td>\n",
       "      <td>False</td>\n",
       "      <td>True</td>\n",
       "      <td>False</td>\n",
       "      <td>False</td>\n",
       "      <td>False</td>\n",
       "      <td>False</td>\n",
       "      <td>False</td>\n",
       "      <td>False</td>\n",
       "      <td>False</td>\n",
       "      <td>False</td>\n",
       "      <td>False</td>\n",
       "      <td>8.039157</td>\n",
       "      <td>12</td>\n",
       "      <td>144</td>\n",
       "    </tr>\n",
       "  </tbody>\n",
       "</table>\n",
       "</div>"
      ],
      "text/plain": [
       "   Dateofbill  Quantity    Apr    Aug    Dec    Feb    Jan    Jul    Jun  \\\n",
       "0         Jan      2309  False  False  False  False   True  False  False   \n",
       "1         Feb      2118  False  False  False   True  False  False  False   \n",
       "2         Mar      2812  False  False  False  False  False  False  False   \n",
       "3         Apr      2947   True  False  False  False  False  False  False   \n",
       "4         May      2643  False  False  False  False  False  False  False   \n",
       "5         Jun      2124  False  False  False  False  False  False   True   \n",
       "6         Jul      3006  False  False  False  False  False   True  False   \n",
       "7         Aug      2981  False   True  False  False  False  False  False   \n",
       "8         Sep      2456  False  False  False  False  False  False  False   \n",
       "9         Oct      2567  False  False  False  False  False  False  False   \n",
       "10        Nov      2631  False  False  False  False  False  False  False   \n",
       "11        Dec      3100  False  False   True  False  False  False  False   \n",
       "\n",
       "      Mar    May    Nov    Oct    Sep  log_Quantity   t  t_square  \n",
       "0   False  False  False  False  False      7.744570   1         1  \n",
       "1   False  False  False  False  False      7.658228   2         4  \n",
       "2    True  False  False  False  False      7.941651   3         9  \n",
       "3   False  False  False  False  False      7.988543   4        16  \n",
       "4   False   True  False  False  False      7.879670   5        25  \n",
       "5   False  False  False  False  False      7.661056   6        36  \n",
       "6   False  False  False  False  False      8.008366   7        49  \n",
       "7   False  False  False  False  False      8.000014   8        64  \n",
       "8   False  False  False  False   True      7.806289   9        81  \n",
       "9   False  False  False   True  False      7.850493  10       100  \n",
       "10  False  False   True  False  False      7.875119  11       121  \n",
       "11  False  False  False  False  False      8.039157  12       144  "
      ]
     },
     "execution_count": 54,
     "metadata": {},
     "output_type": "execute_result"
    }
   ],
   "source": [
    "data[\"t\"] = np.arange(1,13)\n",
    "\n",
    "data[\"t_square\"] = data[\"t\"] * data[\"t\"]\n",
    "data"
   ]
  },
  {
   "cell_type": "code",
   "execution_count": 55,
   "id": "9c05cac6-7c4f-4941-88f2-25a1901fcce3",
   "metadata": {},
   "outputs": [],
   "source": [
    "#Model Building\n",
    "#Linear\n",
    "# Data Partition\n",
    "Train = data\n",
    "Test = data"
   ]
  },
  {
   "cell_type": "code",
   "execution_count": 56,
   "id": "7677a3ce-9355-4771-bf20-062c8c26f30c",
   "metadata": {},
   "outputs": [],
   "source": [
    "linear = smf.ols('Quantity ~ t', data = Train).fit()\n",
    "pickle.dump(linear,open('linear_model.pkl','wb'))"
   ]
  },
  {
   "cell_type": "code",
   "execution_count": 57,
   "id": "b2af7094-e951-4485-9b92-b22c0db5051d",
   "metadata": {},
   "outputs": [
    {
     "data": {
      "text/plain": [
       "10.619729507907639"
      ]
     },
     "execution_count": 57,
     "metadata": {},
     "output_type": "execute_result"
    }
   ],
   "source": [
    "pred_linear =  pd.Series(linear.predict(pd.DataFrame(Test['t'])))\n",
    "mape_linear = np.mean(np.abs((Test['Quantity'] - (pred_linear)) / Test['Quantity'])) * 100\n",
    "mape_linear"
   ]
  },
  {
   "cell_type": "code",
   "execution_count": 58,
   "id": "99742933-a119-4495-80f0-50962c20f865",
   "metadata": {},
   "outputs": [],
   "source": [
    "#Exponential\n",
    "Exponential = smf.ols('log_Quantity ~ t', data = Train).fit()\n",
    "pred_Exponential = pd.Series(Exponential.predict(pd.DataFrame(Test['t'])))"
   ]
  },
  {
   "cell_type": "code",
   "execution_count": 59,
   "id": "1c276720-b9c3-4cd6-a044-8ca20a17d75e",
   "metadata": {},
   "outputs": [
    {
     "data": {
      "text/plain": [
       "10.579834407361473"
      ]
     },
     "execution_count": 59,
     "metadata": {},
     "output_type": "execute_result"
    }
   ],
   "source": [
    "mape_Exponential = np.mean(np.abs((Test['Quantity'] - np.exp(pred_Exponential)) / Test['Quantity'])) * 100\n",
    "mape_Exponential"
   ]
  },
  {
   "cell_type": "code",
   "execution_count": 60,
   "id": "13306a88-e8ab-43df-8d8a-f40fefc0dd39",
   "metadata": {},
   "outputs": [],
   "source": [
    "#Quadratic\n",
    "Quadratic = smf.ols('Quantity ~ t + t_square', data = Train).fit()\n",
    "pred_Quadratic = pd.Series(Quadratic.predict(Test[[\"t\", \"t_square\"]]))"
   ]
  },
  {
   "cell_type": "code",
   "execution_count": 61,
   "id": "2909c447-95c3-4459-957d-1b69b6c882ee",
   "metadata": {},
   "outputs": [
    {
     "data": {
      "text/plain": [
       "10.242750686398157"
      ]
     },
     "execution_count": 61,
     "metadata": {},
     "output_type": "execute_result"
    }
   ],
   "source": [
    "mape_Quadratic = np.mean(np.abs((Test['Quantity'] - (pred_Quadratic)) / Test['Quantity'])) * 100\n",
    "mape_Quadratic"
   ]
  },
  {
   "cell_type": "code",
   "execution_count": 62,
   "id": "71af73de-dcb7-41be-8b2f-98db2d270e00",
   "metadata": {},
   "outputs": [],
   "source": [
    "#Additive Seasonality\n",
    "addSeasonality = smf.ols('Quantity ~ Jan+Feb+Mar+Apr+May+Jun+Jul+Aug+Sep+Oct+Nov+Dec', data=Train).fit()\n",
    "pred_addSeasonality = pd.Series(addSeasonality.predict(Test[['Jan','Feb','Mar','Apr','May','Jun','Jul','Aug','Sep','Oct','Nov','Dec']]))"
   ]
  },
  {
   "cell_type": "code",
   "execution_count": 63,
   "id": "010e3dfd-68ab-424a-9229-8e1cbf0c1745",
   "metadata": {},
   "outputs": [
    {
     "data": {
      "text/plain": [
       "2.5485796533665633e-14"
      ]
     },
     "execution_count": 63,
     "metadata": {},
     "output_type": "execute_result"
    }
   ],
   "source": [
    "mape_addSeasonality = np.mean(np.abs((Test['Quantity'] - (pred_addSeasonality)) / Test['Quantity'])) * 100\n",
    "mape_addSeasonality"
   ]
  },
  {
   "cell_type": "code",
   "execution_count": 64,
   "id": "a6491133-f879-41f6-b854-0a231ff921d2",
   "metadata": {},
   "outputs": [
    {
     "data": {
      "text/plain": [
       "1.4768848836281368e-13"
      ]
     },
     "execution_count": 64,
     "metadata": {},
     "output_type": "execute_result"
    }
   ],
   "source": [
    "#Multiplicative Seasonality\n",
    "MulSeasonality = smf.ols('log_Quantity ~ Jan+Feb+Mar+Apr+May+Jun+Jul+Aug+Sep+Oct+Nov+Dec',data = Train).fit()\n",
    "pred_MultSeasonality = pd.Series(MulSeasonality.predict(Test))\n",
    "mape_MultSeasonality = np.mean(np.abs((Test['Quantity'] - np.exp(pred_MultSeasonality)) / Test['Quantity'])) * 100\n",
    "mape_MultSeasonality"
   ]
  },
  {
   "cell_type": "code",
   "execution_count": 65,
   "id": "4f1640eb-93bd-47c0-8b91-c0adcecd596b",
   "metadata": {},
   "outputs": [
    {
     "data": {
      "text/plain": [
       "1.8788541960054362e-13"
      ]
     },
     "execution_count": 65,
     "metadata": {},
     "output_type": "execute_result"
    }
   ],
   "source": [
    "#Additive Seasonality Quadratic Trend\n",
    "add_seaQuadratic = smf.ols('Quantity ~ t+t_square+Jan+Feb+Mar+Apr+May+Jun+Jul+Aug+Sep+Oct+Nov+Dec',data=Train).fit()\n",
    "pred_add_seaQuadratic = pd.Series(add_seaQuadratic.predict(Test[['Apr', 'Aug', 'Dec', 'Feb', 'Jan', 'Jul', 'Jun', 'Mar', 'May', 'Nov' , 'Oct' , 'Sep' ,'t','t_square']]))\n",
    "mape_add_seaQuadratic = np.mean(np.abs((Test['Quantity'] - (pred_add_seaQuadratic)) / Test['Quantity'])) * 100\n",
    "mape_add_seaQuadratic"
   ]
  },
  {
   "cell_type": "code",
   "execution_count": 66,
   "id": "7cfbb03c-def8-4aa7-9b03-100271769b8e",
   "metadata": {},
   "outputs": [],
   "source": [
    "#Multiplicative Seasonality Linear Trend\n",
    "Mul_SeasonalityLinear = smf.ols('log_Quantity ~ t+Jan+Feb+Mar+Apr+May+Jun+Jul+Aug+Sep+Oct+Nov+Dec',data = Train).fit()\n",
    "pred_MultSeasonalityLinear = pd.Series(Mul_SeasonalityLinear.predict(Test))"
   ]
  },
  {
   "cell_type": "code",
   "execution_count": 67,
   "id": "00478634-89fe-4f98-90bd-6516a5688ec5",
   "metadata": {},
   "outputs": [
    {
     "data": {
      "text/plain": [
       "4.079442888823599e-13"
      ]
     },
     "execution_count": 67,
     "metadata": {},
     "output_type": "execute_result"
    }
   ],
   "source": [
    "mape_MultSeasonalityLinear = np.mean(np.abs((Test['Quantity'] - np.exp(pred_MultSeasonalityLinear)) / Test['Quantity'])) * 100\n",
    "mape_MultSeasonalityLinear"
   ]
  },
  {
   "cell_type": "code",
   "execution_count": 68,
   "id": "1935841e-0fc6-4979-bcaf-e38833c8ffb1",
   "metadata": {},
   "outputs": [
    {
     "data": {
      "text/html": [
       "<div>\n",
       "<style scoped>\n",
       "    .dataframe tbody tr th:only-of-type {\n",
       "        vertical-align: middle;\n",
       "    }\n",
       "\n",
       "    .dataframe tbody tr th {\n",
       "        vertical-align: top;\n",
       "    }\n",
       "\n",
       "    .dataframe thead th {\n",
       "        text-align: right;\n",
       "    }\n",
       "</style>\n",
       "<table border=\"1\" class=\"dataframe\">\n",
       "  <thead>\n",
       "    <tr style=\"text-align: right;\">\n",
       "      <th></th>\n",
       "      <th>MODEL</th>\n",
       "      <th>MAPE_Values</th>\n",
       "    </tr>\n",
       "  </thead>\n",
       "  <tbody>\n",
       "    <tr>\n",
       "      <th>0</th>\n",
       "      <td>mape_linear</td>\n",
       "      <td>1.061973e+01</td>\n",
       "    </tr>\n",
       "    <tr>\n",
       "      <th>1</th>\n",
       "      <td>mape_Exponential</td>\n",
       "      <td>1.057983e+01</td>\n",
       "    </tr>\n",
       "    <tr>\n",
       "      <th>2</th>\n",
       "      <td>mape_Quadratic</td>\n",
       "      <td>1.024275e+01</td>\n",
       "    </tr>\n",
       "    <tr>\n",
       "      <th>3</th>\n",
       "      <td>mape_addSeasonality</td>\n",
       "      <td>2.548580e-14</td>\n",
       "    </tr>\n",
       "    <tr>\n",
       "      <th>4</th>\n",
       "      <td>mape_MultSeasonality</td>\n",
       "      <td>1.476885e-13</td>\n",
       "    </tr>\n",
       "    <tr>\n",
       "      <th>5</th>\n",
       "      <td>mape_add_seaQuadratic</td>\n",
       "      <td>1.878854e-13</td>\n",
       "    </tr>\n",
       "    <tr>\n",
       "      <th>6</th>\n",
       "      <td>mape_MultSeasonalityLinear</td>\n",
       "      <td>4.079443e-13</td>\n",
       "    </tr>\n",
       "  </tbody>\n",
       "</table>\n",
       "</div>"
      ],
      "text/plain": [
       "                        MODEL   MAPE_Values\n",
       "0                 mape_linear  1.061973e+01\n",
       "1            mape_Exponential  1.057983e+01\n",
       "2              mape_Quadratic  1.024275e+01\n",
       "3         mape_addSeasonality  2.548580e-14\n",
       "4        mape_MultSeasonality  1.476885e-13\n",
       "5       mape_add_seaQuadratic  1.878854e-13\n",
       "6  mape_MultSeasonalityLinear  4.079443e-13"
      ]
     },
     "execution_count": 68,
     "metadata": {},
     "output_type": "execute_result"
    }
   ],
   "source": [
    "data1 = {\"MODEL\":pd.Series([\"mape_linear\",\"mape_Exponential\",\"mape_Quadratic\",\"mape_addSeasonality\",\"mape_MultSeasonality\",\"mape_add_seaQuadratic\",\"mape_MultSeasonalityLinear\"]),\"MAPE_Values\":pd.Series([mape_linear,mape_Exponential,mape_Quadratic,mape_addSeasonality,mape_MultSeasonality,mape_add_seaQuadratic,mape_MultSeasonalityLinear])}\n",
    "table_mape = pd.DataFrame(data1)\n",
    "table_mape"
   ]
  },
  {
   "cell_type": "code",
   "execution_count": 69,
   "id": "0f367dca-9ff1-482c-ae36-46f6df9edbe9",
   "metadata": {},
   "outputs": [],
   "source": [
    "model_full = smf.ols('Quantity ~ t+t_square+Jan+Feb+Mar+Apr+May+Jun+Jul+Aug+Sep+Oct+Nov+Dec',data=Train).fit()"
   ]
  },
  {
   "cell_type": "code",
   "execution_count": 70,
   "id": "393e4932-989d-4b6c-ad73-b40060d758c4",
   "metadata": {},
   "outputs": [
    {
     "data": {
      "text/plain": [
       "0     2309.0\n",
       "1     2118.0\n",
       "2     2812.0\n",
       "3     2947.0\n",
       "4     2643.0\n",
       "5     2124.0\n",
       "6     3006.0\n",
       "7     2981.0\n",
       "8     2456.0\n",
       "9     2567.0\n",
       "10    2631.0\n",
       "11    3100.0\n",
       "dtype: float64"
      ]
     },
     "execution_count": 70,
     "metadata": {},
     "output_type": "execute_result"
    }
   ],
   "source": [
    "predict_data = data\n",
    "pred_new  = pd.Series(model_full.predict(predict_data))\n",
    "pred_new"
   ]
  },
  {
   "cell_type": "code",
   "execution_count": 71,
   "id": "9efe5fc5-ef80-40a0-8da1-c8fa3cc46ecf",
   "metadata": {},
   "outputs": [],
   "source": [
    "predict_data[\"forecasted_Quantity\"] = pd.Series(pred_new)"
   ]
  },
  {
   "cell_type": "code",
   "execution_count": 72,
   "id": "a7b74676-da14-4e5e-b663-98f8bfbafea1",
   "metadata": {},
   "outputs": [],
   "source": [
    "model_full.save(\"model.pickle\")"
   ]
  },
  {
   "cell_type": "code",
   "execution_count": 73,
   "id": "b7a7435e-8375-488d-a780-66263fc67c42",
   "metadata": {},
   "outputs": [],
   "source": [
    "# Load model\n",
    "from statsmodels.regression.linear_model import OLSResults\n",
    "model = OLSResults.load(\"model.pickle\")"
   ]
  },
  {
   "cell_type": "raw",
   "id": "43590475-5bd8-4a3c-a9f3-50ccdd7f67f7",
   "metadata": {},
   "source": [
    "# AutoRegression Model"
   ]
  },
  {
   "cell_type": "code",
   "execution_count": 74,
   "id": "3843a96b-4dba-4039-a0bb-5cf3fa9bc80a",
   "metadata": {},
   "outputs": [],
   "source": [
    "full_res = data.Quantity - model_full.predict(data)"
   ]
  },
  {
   "cell_type": "code",
   "execution_count": 75,
   "id": "ccc258d0-a4c3-4851-aef5-d5d75be3ea9e",
   "metadata": {},
   "outputs": [
    {
     "data": {
      "image/png": "[encoded data removed]",
      "text/plain": [
       "<Figure size 640x480 with 1 Axes>"
      ]
     },
     "execution_count": 75,
     "metadata": {},
     "output_type": "execute_result"
    },
    {
     "data": {
      "image/png": "[encoded data removed]",
      "text/plain": [
       "<Figure size 640x480 with 1 Axes>"
      ]
     },
     "metadata": {},
     "output_type": "display_data"
    },
    {
     "data": {
      "image/png": "[encoded data removed]",
      "text/plain": [
       "<Figure size 640x480 with 1 Axes>"
      ]
     },
     "metadata": {},
     "output_type": "display_data"
    }
   ],
   "source": [
    "import statsmodels.graphics.tsaplots as tsa_plots\n",
    "from statsmodels.tsa.arima.model import ARIMA\n",
    "\n",
    "tsa_plots.plot_acf(full_res, lags = 11)\n",
    "tsa_plots.plot_pacf(full_res, lags = 5 )"
   ]
  },
  {
   "cell_type": "code",
   "execution_count": 76,
   "id": "ae353810-58b2-41de-a13f-96c332bd8837",
   "metadata": {},
   "outputs": [
    {
     "name": "stdout",
     "output_type": "stream",
     "text": [
      "Coefficients: const    4.186762e-12\n",
      "y.L1    -1.189060e-01\n",
      "dtype: float64\n"
     ]
    },
    {
     "data": {
      "text/plain": [
       "0     2309.0\n",
       "1     2118.0\n",
       "2     2812.0\n",
       "3     2947.0\n",
       "4     2643.0\n",
       "5     2124.0\n",
       "6     3006.0\n",
       "7     2981.0\n",
       "8     2456.0\n",
       "9     2567.0\n",
       "10    2631.0\n",
       "11    3100.0\n",
       "dtype: float64"
      ]
     },
     "execution_count": 76,
     "metadata": {},
     "output_type": "execute_result"
    }
   ],
   "source": [
    "# AR model\n",
    "from statsmodels.tsa.ar_model import AutoReg\n",
    "model_ar = AutoReg(full_res, lags=[1])\n",
    "\n",
    "# model_ar = AutoReg(Train_res, lags=12)\n",
    "model_fit = model_ar.fit()\n",
    "\n",
    "print('Coefficients: %s' % model_fit.params)\n",
    "\n",
    "pred_res = model_fit.predict(start=len(full_res), end=len(full_res)+len(predict_data)-1, dynamic=False)\n",
    "pred_res.reset_index(drop=True, inplace=True)\n",
    "\n",
    "# The Final Predictions using ASQT and AR(1) Model\n",
    "final_pred = pred_new + pred_res\n",
    "final_pred"
   ]
  },
  {
   "cell_type": "raw",
   "id": "90eea2ad-7ab5-4a35-ad19-3aedfc6b4fe1",
   "metadata": {},
   "source": [
    "# ARIMA MODEL"
   ]
  },
  {
   "cell_type": "code",
   "execution_count": 77,
   "id": "2fa2dbad-d393-4175-b758-2bdd862e9ae8",
   "metadata": {},
   "outputs": [
    {
     "data": {
      "text/html": [
       "<div>\n",
       "<style scoped>\n",
       "    .dataframe tbody tr th:only-of-type {\n",
       "        vertical-align: middle;\n",
       "    }\n",
       "\n",
       "    .dataframe tbody tr th {\n",
       "        vertical-align: top;\n",
       "    }\n",
       "\n",
       "    .dataframe thead th {\n",
       "        text-align: right;\n",
       "    }\n",
       "</style>\n",
       "<table border=\"1\" class=\"dataframe\">\n",
       "  <thead>\n",
       "    <tr style=\"text-align: right;\">\n",
       "      <th></th>\n",
       "      <th>Dateofbill</th>\n",
       "      <th>Quantity</th>\n",
       "    </tr>\n",
       "  </thead>\n",
       "  <tbody>\n",
       "    <tr>\n",
       "      <th>0</th>\n",
       "      <td>Jan</td>\n",
       "      <td>2309</td>\n",
       "    </tr>\n",
       "    <tr>\n",
       "      <th>1</th>\n",
       "      <td>Feb</td>\n",
       "      <td>2118</td>\n",
       "    </tr>\n",
       "    <tr>\n",
       "      <th>2</th>\n",
       "      <td>Mar</td>\n",
       "      <td>2812</td>\n",
       "    </tr>\n",
       "    <tr>\n",
       "      <th>3</th>\n",
       "      <td>Apr</td>\n",
       "      <td>2947</td>\n",
       "    </tr>\n",
       "    <tr>\n",
       "      <th>4</th>\n",
       "      <td>May</td>\n",
       "      <td>2643</td>\n",
       "    </tr>\n",
       "    <tr>\n",
       "      <th>5</th>\n",
       "      <td>Jun</td>\n",
       "      <td>2124</td>\n",
       "    </tr>\n",
       "    <tr>\n",
       "      <th>6</th>\n",
       "      <td>Jul</td>\n",
       "      <td>3006</td>\n",
       "    </tr>\n",
       "    <tr>\n",
       "      <th>7</th>\n",
       "      <td>Aug</td>\n",
       "      <td>2981</td>\n",
       "    </tr>\n",
       "    <tr>\n",
       "      <th>8</th>\n",
       "      <td>Sep</td>\n",
       "      <td>2456</td>\n",
       "    </tr>\n",
       "    <tr>\n",
       "      <th>9</th>\n",
       "      <td>Oct</td>\n",
       "      <td>2567</td>\n",
       "    </tr>\n",
       "    <tr>\n",
       "      <th>10</th>\n",
       "      <td>Nov</td>\n",
       "      <td>2631</td>\n",
       "    </tr>\n",
       "    <tr>\n",
       "      <th>11</th>\n",
       "      <td>Dec</td>\n",
       "      <td>3100</td>\n",
       "    </tr>\n",
       "  </tbody>\n",
       "</table>\n",
       "</div>"
      ],
      "text/plain": [
       "   Dateofbill  Quantity\n",
       "0         Jan      2309\n",
       "1         Feb      2118\n",
       "2         Mar      2812\n",
       "3         Apr      2947\n",
       "4         May      2643\n",
       "5         Jun      2124\n",
       "6         Jul      3006\n",
       "7         Aug      2981\n",
       "8         Sep      2456\n",
       "9         Oct      2567\n",
       "10        Nov      2631\n",
       "11        Dec      3100"
      ]
     },
     "execution_count": 77,
     "metadata": {},
     "output_type": "execute_result"
    }
   ],
   "source": [
    "train = df_grouped\n",
    "test= df_grouped\n",
    "train"
   ]
  },
  {
   "cell_type": "code",
   "execution_count": 78,
   "id": "eb706669-1716-4741-adf0-de53c9624bda",
   "metadata": {},
   "outputs": [
    {
     "data": {
      "image/png": "[encoded data removed]",
      "text/plain": [
       "<Figure size 640x480 with 1 Axes>"
      ]
     },
     "execution_count": 78,
     "metadata": {},
     "output_type": "execute_result"
    },
    {
     "data": {
      "image/png": "[encoded data removed]",
      "text/plain": [
       "<Figure size 640x480 with 1 Axes>"
      ]
     },
     "metadata": {},
     "output_type": "display_data"
    },
    {
     "data": {
      "image/png": "[encoded data removed]",
      "text/plain": [
       "<Figure size 640x480 with 1 Axes>"
      ]
     },
     "metadata": {},
     "output_type": "display_data"
    }
   ],
   "source": [
    "tsa_plots.plot_acf(full_res, lags = 11)\n",
    "tsa_plots.plot_pacf(full_res, lags = 5 )"
   ]
  },
  {
   "cell_type": "code",
   "execution_count": 79,
   "id": "adf9413e-4cc0-4d85-83f4-fa5b63f28a14",
   "metadata": {},
   "outputs": [
    {
     "data": {
      "text/html": [
       "<table class=\"simpletable\">\n",
       "<caption>SARIMAX Results</caption>\n",
       "<tr>\n",
       "  <th>Dep. Variable:</th>       <td>Quantity</td>     <th>  No. Observations:  </th>   <td>12</td>   \n",
       "</tr>\n",
       "<tr>\n",
       "  <th>Model:</th>            <td>ARIMA(5, 1, 2)</td>  <th>  Log Likelihood     </th> <td>-99.292</td>\n",
       "</tr>\n",
       "<tr>\n",
       "  <th>Date:</th>            <td>Sun, 26 May 2024</td> <th>  AIC                </th> <td>214.585</td>\n",
       "</tr>\n",
       "<tr>\n",
       "  <th>Time:</th>                <td>11:27:28</td>     <th>  BIC                </th> <td>217.768</td>\n",
       "</tr>\n",
       "<tr>\n",
       "  <th>Sample:</th>                  <td>0</td>        <th>  HQIC               </th> <td>212.578</td>\n",
       "</tr>\n",
       "<tr>\n",
       "  <th></th>                       <td> - 12</td>      <th>                     </th>    <td> </td>   \n",
       "</tr>\n",
       "<tr>\n",
       "  <th>Covariance Type:</th>        <td>opg</td>       <th>                     </th>    <td> </td>   \n",
       "</tr>\n",
       "</table>\n",
       "<table class=\"simpletable\">\n",
       "<tr>\n",
       "     <td></td>       <th>coef</th>     <th>std err</th>      <th>z</th>      <th>P>|z|</th>  <th>[0.025</th>    <th>0.975]</th>  \n",
       "</tr>\n",
       "<tr>\n",
       "  <th>ar.L1</th>  <td>   -0.7574</td> <td>    0.053</td> <td>  -14.195</td> <td> 0.000</td> <td>   -0.862</td> <td>   -0.653</td>\n",
       "</tr>\n",
       "<tr>\n",
       "  <th>ar.L2</th>  <td>   -0.3120</td> <td>    0.021</td> <td>  -14.820</td> <td> 0.000</td> <td>   -0.353</td> <td>   -0.271</td>\n",
       "</tr>\n",
       "<tr>\n",
       "  <th>ar.L3</th>  <td>    0.3083</td> <td>    0.021</td> <td>   14.703</td> <td> 0.000</td> <td>    0.267</td> <td>    0.349</td>\n",
       "</tr>\n",
       "<tr>\n",
       "  <th>ar.L4</th>  <td>    0.7547</td> <td>    0.054</td> <td>   14.052</td> <td> 0.000</td> <td>    0.649</td> <td>    0.860</td>\n",
       "</tr>\n",
       "<tr>\n",
       "  <th>ar.L5</th>  <td>    0.9990</td> <td>    0.000</td> <td> 3667.288</td> <td> 0.000</td> <td>    0.998</td> <td>    1.000</td>\n",
       "</tr>\n",
       "<tr>\n",
       "  <th>ma.L1</th>  <td>    0.0015</td> <td>    0.994</td> <td>    0.002</td> <td> 0.999</td> <td>   -1.946</td> <td>    1.949</td>\n",
       "</tr>\n",
       "<tr>\n",
       "  <th>ma.L2</th>  <td>   -0.9985</td> <td>    0.253</td> <td>   -3.947</td> <td> 0.000</td> <td>   -1.494</td> <td>   -0.503</td>\n",
       "</tr>\n",
       "<tr>\n",
       "  <th>sigma2</th> <td> 2237.1071</td> <td>    0.001</td> <td> 3.79e+06</td> <td> 0.000</td> <td> 2237.106</td> <td> 2237.108</td>\n",
       "</tr>\n",
       "</table>\n",
       "<table class=\"simpletable\">\n",
       "<tr>\n",
       "  <th>Ljung-Box (L1) (Q):</th>     <td>1.31</td> <th>  Jarque-Bera (JB):  </th> <td>0.90</td>\n",
       "</tr>\n",
       "<tr>\n",
       "  <th>Prob(Q):</th>                <td>0.25</td> <th>  Prob(JB):          </th> <td>0.64</td>\n",
       "</tr>\n",
       "<tr>\n",
       "  <th>Heteroskedasticity (H):</th> <td>0.95</td> <th>  Skew:              </th> <td>0.21</td>\n",
       "</tr>\n",
       "<tr>\n",
       "  <th>Prob(H) (two-sided):</th>    <td>0.96</td> <th>  Kurtosis:          </th> <td>1.67</td>\n",
       "</tr>\n",
       "</table><br/><br/>Warnings:<br/>[1] Covariance matrix calculated using the outer product of gradients (complex-step).<br/>[2] Covariance matrix is singular or near-singular, with condition number 6.9e+22. Standard errors may be unstable."
      ],
      "text/latex": [
       "\\begin{center}\n",
       "\\begin{tabular}{lclc}\n",
       "\\toprule\n",
       "\\textbf{Dep. Variable:}          &     Quantity     & \\textbf{  No. Observations:  } &     12      \\\\\n",
       "\\textbf{Model:}                  &  ARIMA(5, 1, 2)  & \\textbf{  Log Likelihood     } &  -99.292    \\\\\n",
       "\\textbf{Date:}                   & Sun, 26 May 2024 & \\textbf{  AIC                } &  214.585    \\\\\n",
       "\\textbf{Time:}                   &     11:27:28     & \\textbf{  BIC                } &  217.768    \\\\\n",
       "\\textbf{Sample:}                 &        0         & \\textbf{  HQIC               } &  212.578    \\\\\n",
       "\\textbf{}                        &       - 12       & \\textbf{                     } &             \\\\\n",
       "\\textbf{Covariance Type:}        &       opg        & \\textbf{                     } &             \\\\\n",
       "\\bottomrule\n",
       "\\end{tabular}\n",
       "\\begin{tabular}{lcccccc}\n",
       "                & \\textbf{coef} & \\textbf{std err} & \\textbf{z} & \\textbf{P$> |$z$|$} & \\textbf{[0.025} & \\textbf{0.975]}  \\\\\n",
       "\\midrule\n",
       "\\textbf{ar.L1}  &      -0.7574  &        0.053     &   -14.195  &         0.000        &       -0.862    &       -0.653     \\\\\n",
       "\\textbf{ar.L2}  &      -0.3120  &        0.021     &   -14.820  &         0.000        &       -0.353    &       -0.271     \\\\\n",
       "\\textbf{ar.L3}  &       0.3083  &        0.021     &    14.703  &         0.000        &        0.267    &        0.349     \\\\\n",
       "\\textbf{ar.L4}  &       0.7547  &        0.054     &    14.052  &         0.000        &        0.649    &        0.860     \\\\\n",
       "\\textbf{ar.L5}  &       0.9990  &        0.000     &  3667.288  &         0.000        &        0.998    &        1.000     \\\\\n",
       "\\textbf{ma.L1}  &       0.0015  &        0.994     &     0.002  &         0.999        &       -1.946    &        1.949     \\\\\n",
       "\\textbf{ma.L2}  &      -0.9985  &        0.253     &    -3.947  &         0.000        &       -1.494    &       -0.503     \\\\\n",
       "\\textbf{sigma2} &    2237.1071  &        0.001     &  3.79e+06  &         0.000        &     2237.106    &     2237.108     \\\\\n",
       "\\bottomrule\n",
       "\\end{tabular}\n",
       "\\begin{tabular}{lclc}\n",
       "\\textbf{Ljung-Box (L1) (Q):}     & 1.31 & \\textbf{  Jarque-Bera (JB):  } & 0.90  \\\\\n",
       "\\textbf{Prob(Q):}                & 0.25 & \\textbf{  Prob(JB):          } & 0.64  \\\\\n",
       "\\textbf{Heteroskedasticity (H):} & 0.95 & \\textbf{  Skew:              } & 0.21  \\\\\n",
       "\\textbf{Prob(H) (two-sided):}    & 0.96 & \\textbf{  Kurtosis:          } & 1.67  \\\\\n",
       "\\bottomrule\n",
       "\\end{tabular}\n",
       "%\\caption{SARIMAX Results}\n",
       "\\end{center}\n",
       "\n",
       "Warnings: \\newline\n",
       " [1] Covariance matrix calculated using the outer product of gradients (complex-step). \\newline\n",
       " [2] Covariance matrix is singular or near-singular, with condition number 6.9e+22. Standard errors may be unstable."
      ],
      "text/plain": [
       "<class 'statsmodels.iolib.summary.Summary'>\n",
       "\"\"\"\n",
       "                               SARIMAX Results                                \n",
       "==============================================================================\n",
       "Dep. Variable:               Quantity   No. Observations:                   12\n",
       "Model:                 ARIMA(5, 1, 2)   Log Likelihood                 -99.292\n",
       "Date:                Sun, 26 May 2024   AIC                            214.585\n",
       "Time:                        11:27:28   BIC                            217.768\n",
       "Sample:                             0   HQIC                           212.578\n",
       "                                 - 12                                         \n",
       "Covariance Type:                  opg                                         \n",
       "==============================================================================\n",
       "                 coef    std err          z      P>|z|      [0.025      0.975]\n",
       "------------------------------------------------------------------------------\n",
       "ar.L1         -0.7574      0.053    -14.195      0.000      -0.862      -0.653\n",
       "ar.L2         -0.3120      0.021    -14.820      0.000      -0.353      -0.271\n",
       "ar.L3          0.3083      0.021     14.703      0.000       0.267       0.349\n",
       "ar.L4          0.7547      0.054     14.052      0.000       0.649       0.860\n",
       "ar.L5          0.9990      0.000   3667.288      0.000       0.998       1.000\n",
       "ma.L1          0.0015      0.994      0.002      0.999      -1.946       1.949\n",
       "ma.L2         -0.9985      0.253     -3.947      0.000      -1.494      -0.503\n",
       "sigma2      2237.1071      0.001   3.79e+06      0.000    2237.106    2237.108\n",
       "===================================================================================\n",
       "Ljung-Box (L1) (Q):                   1.31   Jarque-Bera (JB):                 0.90\n",
       "Prob(Q):                              0.25   Prob(JB):                         0.64\n",
       "Heteroskedasticity (H):               0.95   Skew:                             0.21\n",
       "Prob(H) (two-sided):                  0.96   Kurtosis:                         1.67\n",
       "===================================================================================\n",
       "\n",
       "Warnings:\n",
       "[1] Covariance matrix calculated using the outer product of gradients (complex-step).\n",
       "[2] Covariance matrix is singular or near-singular, with condition number 6.9e+22. Standard errors may be unstable.\n",
       "\"\"\""
      ]
     },
     "execution_count": 79,
     "metadata": {},
     "output_type": "execute_result"
    }
   ],
   "source": [
    "model1 = ARIMA(train.Quantity, order = (5,1,2))\n",
    "res1 = model1.fit()\n",
    "res1.summary()"
   ]
  },
  {
   "cell_type": "code",
   "execution_count": 80,
   "id": "fb709c74-b43b-4497-80bb-af2bd439dd81",
   "metadata": {},
   "outputs": [],
   "source": [
    "start_index = len(train)\n",
    "start_index\n",
    "end_index = start_index + 11\n",
    "forecast_test = res1.predict(start = start_index, end = end_index)"
   ]
  },
  {
   "cell_type": "code",
   "execution_count": 81,
   "id": "113110f4-d9f3-4163-90ae-6553ba8f96fe",
   "metadata": {},
   "outputs": [
    {
     "data": {
      "text/html": [
       "<div>\n",
       "<style scoped>\n",
       "    .dataframe tbody tr th:only-of-type {\n",
       "        vertical-align: middle;\n",
       "    }\n",
       "\n",
       "    .dataframe tbody tr th {\n",
       "        vertical-align: top;\n",
       "    }\n",
       "\n",
       "    .dataframe thead th {\n",
       "        text-align: right;\n",
       "    }\n",
       "</style>\n",
       "<table border=\"1\" class=\"dataframe\">\n",
       "  <thead>\n",
       "    <tr style=\"text-align: right;\">\n",
       "      <th></th>\n",
       "      <th>predicted_mean</th>\n",
       "    </tr>\n",
       "  </thead>\n",
       "  <tbody>\n",
       "    <tr>\n",
       "      <th>12</th>\n",
       "      <td>2413.619912</td>\n",
       "    </tr>\n",
       "    <tr>\n",
       "      <th>13</th>\n",
       "      <td>2426.943491</td>\n",
       "    </tr>\n",
       "    <tr>\n",
       "      <th>14</th>\n",
       "      <td>2934.829778</td>\n",
       "    </tr>\n",
       "    <tr>\n",
       "      <th>15</th>\n",
       "      <td>2752.272865</td>\n",
       "    </tr>\n",
       "    <tr>\n",
       "      <th>16</th>\n",
       "      <td>2686.676717</td>\n",
       "    </tr>\n",
       "    <tr>\n",
       "      <th>17</th>\n",
       "      <td>2274.262667</td>\n",
       "    </tr>\n",
       "    <tr>\n",
       "      <th>18</th>\n",
       "      <td>2947.448249</td>\n",
       "    </tr>\n",
       "    <tr>\n",
       "      <th>19</th>\n",
       "      <td>2915.638379</td>\n",
       "    </tr>\n",
       "    <tr>\n",
       "      <th>20</th>\n",
       "      <td>2370.626020</td>\n",
       "    </tr>\n",
       "    <tr>\n",
       "      <th>21</th>\n",
       "      <td>2624.116366</td>\n",
       "    </tr>\n",
       "    <tr>\n",
       "      <th>22</th>\n",
       "      <td>2688.443684</td>\n",
       "    </tr>\n",
       "    <tr>\n",
       "      <th>23</th>\n",
       "      <td>3041.103776</td>\n",
       "    </tr>\n",
       "  </tbody>\n",
       "</table>\n",
       "</div>"
      ],
      "text/plain": [
       "    predicted_mean\n",
       "12     2413.619912\n",
       "13     2426.943491\n",
       "14     2934.829778\n",
       "15     2752.272865\n",
       "16     2686.676717\n",
       "17     2274.262667\n",
       "18     2947.448249\n",
       "19     2915.638379\n",
       "20     2370.626020\n",
       "21     2624.116366\n",
       "22     2688.443684\n",
       "23     3041.103776"
      ]
     },
     "execution_count": 81,
     "metadata": {},
     "output_type": "execute_result"
    }
   ],
   "source": [
    "forecast_test = pd.DataFrame(forecast_test)\n",
    "forecast_test"
   ]
  },
  {
   "cell_type": "code",
   "execution_count": 82,
   "id": "e00bc19f-f40f-4778-9480-a2125e01a71f",
   "metadata": {},
   "outputs": [
    {
     "name": "stdout",
     "output_type": "stream",
     "text": [
      "test RMSE: 131.942\n"
     ]
    }
   ],
   "source": [
    "from math import sqrt\n",
    "from sklearn.metrics import mean_squared_error\n",
    "\n",
    "rmse_test = sqrt(mean_squared_error(test.Quantity, forecast_test))\n",
    "\n",
    "print('test RMSE: %.3f' % rmse_test)"
   ]
  },
  {
   "cell_type": "code",
   "execution_count": 84,
   "id": "68cbe666-5e62-4cd3-8d1d-a6f1c86080fa",
   "metadata": {},
   "outputs": [
    {
     "data": {
      "image/png": "[encoded data removed]",
      "text/plain": [
       "<Figure size 640x480 with 1 Axes>"
      ]
     },
     "metadata": {},
     "output_type": "display_data"
    }
   ],
   "source": [
    "plt.plot(test.Quantity)\n",
    "plt.plot(forecast_test, color = 'yellow')\n",
    "plt.show()"
   ]
  },
  {
   "cell_type": "code",
   "execution_count": 85,
   "id": "a1a675b7-9156-4697-b28b-83987d696dfd",
   "metadata": {},
   "outputs": [
    {
     "data": {
      "image/png": "[encoded data removed]",
      "text/plain": [
       "<Figure size 640x480 with 1 Axes>"
      ]
     },
     "execution_count": 85,
     "metadata": {},
     "output_type": "execute_result"
    },
    {
     "data": {
      "image/png": "[encoded data removed]",
      "text/plain": [
       "<Figure size 640x480 with 1 Axes>"
      ]
     },
     "metadata": {},
     "output_type": "display_data"
    },
    {
     "data": {
      "image/png": "[encoded data removed]",
      "text/plain": [
       "<Figure size 640x480 with 1 Axes>"
      ]
     },
     "metadata": {},
     "output_type": "display_data"
    }
   ],
   "source": [
    "import statsmodels.graphics.tsaplots as tsa_plots\n",
    "from statsmodels.tsa.arima.model import ARIMA\n",
    "\n",
    "tsa_plots.plot_acf(full_res, lags = 11)\n",
    "tsa_plots.plot_pacf(full_res, lags = 5 )"
   ]
  },
  {
   "cell_type": "code",
   "execution_count": 87,
   "id": "5066495f-3ec1-471d-8ee5-320d705ee1a6",
   "metadata": {},
   "outputs": [
    {
     "name": "stdout",
     "output_type": "stream",
     "text": [
      "Performing stepwise search to minimize aic\n",
      " ARIMA(0,0,0)(0,0,0)[0]             : AIC=225.331, Time=0.03 sec\n",
      " ARIMA(1,0,0)(0,0,0)[0]             : AIC=188.013, Time=0.05 sec\n",
      " ARIMA(0,0,1)(0,0,0)[0]             : AIC=inf, Time=0.05 sec\n",
      " ARIMA(2,0,0)(0,0,0)[0]             : AIC=inf, Time=0.08 sec\n",
      " ARIMA(1,0,1)(0,0,0)[0]             : AIC=186.510, Time=0.16 sec\n",
      " ARIMA(2,0,1)(0,0,0)[0]             : AIC=inf, Time=0.10 sec\n",
      " ARIMA(1,0,2)(0,0,0)[0]             : AIC=inf, Time=0.24 sec\n",
      " ARIMA(0,0,2)(0,0,0)[0]             : AIC=inf, Time=0.11 sec\n",
      " ARIMA(2,0,2)(0,0,0)[0]             : AIC=inf, Time=0.40 sec\n",
      " ARIMA(1,0,1)(0,0,0)[0] intercept   : AIC=inf, Time=0.34 sec\n",
      "\n",
      "Best model:  ARIMA(1,0,1)(0,0,0)[0]          \n",
      "Total fit time: 1.657 seconds\n"
     ]
    },
    {
     "data": {
      "text/html": [
       "<table class=\"simpletable\">\n",
       "<caption>OLS Regression Results</caption>\n",
       "<tr>\n",
       "  <th>Dep. Variable:</th>        <td>Quantity</td>     <th>  R-squared:         </th> <td>   1.000</td>\n",
       "</tr>\n",
       "<tr>\n",
       "  <th>Model:</th>                   <td>OLS</td>       <th>  Adj. R-squared:    </th> <td>     nan</td>\n",
       "</tr>\n",
       "<tr>\n",
       "  <th>Method:</th>             <td>Least Squares</td>  <th>  F-statistic:       </th> <td>     nan</td>\n",
       "</tr>\n",
       "<tr>\n",
       "  <th>Date:</th>             <td>Sun, 26 May 2024</td> <th>  Prob (F-statistic):</th>  <td>   nan</td> \n",
       "</tr>\n",
       "<tr>\n",
       "  <th>Time:</th>                 <td>11:31:28</td>     <th>  Log-Likelihood:    </th> <td>  292.45</td>\n",
       "</tr>\n",
       "<tr>\n",
       "  <th>No. Observations:</th>      <td>    12</td>      <th>  AIC:               </th> <td>  -560.9</td>\n",
       "</tr>\n",
       "<tr>\n",
       "  <th>Df Residuals:</th>          <td>     0</td>      <th>  BIC:               </th> <td>  -555.1</td>\n",
       "</tr>\n",
       "<tr>\n",
       "  <th>Df Model:</th>              <td>    11</td>      <th>                     </th>     <td> </td>   \n",
       "</tr>\n",
       "<tr>\n",
       "  <th>Covariance Type:</th>      <td>nonrobust</td>    <th>                     </th>     <td> </td>   \n",
       "</tr>\n",
       "</table>\n",
       "<table class=\"simpletable\">\n",
       "<tr>\n",
       "       <td></td>          <th>coef</th>     <th>std err</th>      <th>t</th>      <th>P>|t|</th>  <th>[0.025</th>    <th>0.975]</th>  \n",
       "</tr>\n",
       "<tr>\n",
       "  <th>Intercept</th>   <td> 1178.8259</td> <td>      inf</td> <td>        0</td> <td>   nan</td> <td>      nan</td> <td>      nan</td>\n",
       "</tr>\n",
       "<tr>\n",
       "  <th>Jan[T.True]</th> <td>  730.7377</td> <td>      inf</td> <td>        0</td> <td>   nan</td> <td>      nan</td> <td>      nan</td>\n",
       "</tr>\n",
       "<tr>\n",
       "  <th>Feb[T.True]</th> <td>  192.0034</td> <td>      inf</td> <td>        0</td> <td>   nan</td> <td>      nan</td> <td>      nan</td>\n",
       "</tr>\n",
       "<tr>\n",
       "  <th>Mar[T.True]</th> <td>  589.9710</td> <td>      inf</td> <td>        0</td> <td>   nan</td> <td>      nan</td> <td>      nan</td>\n",
       "</tr>\n",
       "<tr>\n",
       "  <th>Apr[T.True]</th> <td>  480.6407</td> <td>      inf</td> <td>        0</td> <td>   nan</td> <td>      nan</td> <td>      nan</td>\n",
       "</tr>\n",
       "<tr>\n",
       "  <th>May[T.True]</th> <td>  -15.9876</td> <td>      inf</td> <td>       -0</td> <td>   nan</td> <td>      nan</td> <td>      nan</td>\n",
       "</tr>\n",
       "<tr>\n",
       "  <th>Jun[T.True]</th> <td> -675.9140</td> <td>      inf</td> <td>       -0</td> <td>   nan</td> <td>      nan</td> <td>      nan</td>\n",
       "</tr>\n",
       "<tr>\n",
       "  <th>Jul[T.True]</th> <td>  116.8617</td> <td>      inf</td> <td>        0</td> <td>   nan</td> <td>      nan</td> <td>      nan</td>\n",
       "</tr>\n",
       "<tr>\n",
       "  <th>Aug[T.True]</th> <td>   54.3393</td> <td>      inf</td> <td>        0</td> <td>   nan</td> <td>      nan</td> <td>      nan</td>\n",
       "</tr>\n",
       "<tr>\n",
       "  <th>Sep[T.True]</th> <td> -456.4810</td> <td>      inf</td> <td>       -0</td> <td>   nan</td> <td>      nan</td> <td>      nan</td>\n",
       "</tr>\n",
       "<tr>\n",
       "  <th>Oct[T.True]</th> <td> -279.5994</td> <td>      inf</td> <td>       -0</td> <td>   nan</td> <td>      nan</td> <td>      nan</td>\n",
       "</tr>\n",
       "<tr>\n",
       "  <th>Nov[T.True]</th> <td>  -98.0157</td> <td>      inf</td> <td>       -0</td> <td>   nan</td> <td>      nan</td> <td>      nan</td>\n",
       "</tr>\n",
       "<tr>\n",
       "  <th>Dec[T.True]</th> <td>  540.2699</td> <td>      inf</td> <td>        0</td> <td>   nan</td> <td>      nan</td> <td>      nan</td>\n",
       "</tr>\n",
       "<tr>\n",
       "  <th>t</th>           <td>  425.2873</td> <td>      inf</td> <td>        0</td> <td>   nan</td> <td>      nan</td> <td>      nan</td>\n",
       "</tr>\n",
       "<tr>\n",
       "  <th>t_square</th>    <td>  -25.8510</td> <td>      inf</td> <td>       -0</td> <td>   nan</td> <td>      nan</td> <td>      nan</td>\n",
       "</tr>\n",
       "</table>\n",
       "<table class=\"simpletable\">\n",
       "<tr>\n",
       "  <th>Omnibus:</th>       <td> 2.191</td> <th>  Durbin-Watson:     </th> <td>   1.510</td>\n",
       "</tr>\n",
       "<tr>\n",
       "  <th>Prob(Omnibus):</th> <td> 0.334</td> <th>  Jarque-Bera (JB):  </th> <td>   1.040</td>\n",
       "</tr>\n",
       "<tr>\n",
       "  <th>Skew:</th>          <td> 0.719</td> <th>  Prob(JB):          </th> <td>   0.594</td>\n",
       "</tr>\n",
       "<tr>\n",
       "  <th>Kurtosis:</th>      <td> 2.896</td> <th>  Cond. No.          </th> <td>    248.</td>\n",
       "</tr>\n",
       "</table><br/><br/>Notes:<br/>[1] Standard Errors assume that the covariance matrix of the errors is correctly specified.<br/>[2] The input rank is higher than the number of observations."
      ],
      "text/latex": [
       "\\begin{center}\n",
       "\\begin{tabular}{lclc}\n",
       "\\toprule\n",
       "\\textbf{Dep. Variable:}    &     Quantity     & \\textbf{  R-squared:         } &     1.000   \\\\\n",
       "\\textbf{Model:}            &       OLS        & \\textbf{  Adj. R-squared:    } &       nan   \\\\\n",
       "\\textbf{Method:}           &  Least Squares   & \\textbf{  F-statistic:       } &       nan   \\\\\n",
       "\\textbf{Date:}             & Sun, 26 May 2024 & \\textbf{  Prob (F-statistic):} &      nan    \\\\\n",
       "\\textbf{Time:}             &     11:31:28     & \\textbf{  Log-Likelihood:    } &    292.45   \\\\\n",
       "\\textbf{No. Observations:} &          12      & \\textbf{  AIC:               } &    -560.9   \\\\\n",
       "\\textbf{Df Residuals:}     &           0      & \\textbf{  BIC:               } &    -555.1   \\\\\n",
       "\\textbf{Df Model:}         &          11      & \\textbf{                     } &             \\\\\n",
       "\\textbf{Covariance Type:}  &    nonrobust     & \\textbf{                     } &             \\\\\n",
       "\\bottomrule\n",
       "\\end{tabular}\n",
       "\\begin{tabular}{lcccccc}\n",
       "                     & \\textbf{coef} & \\textbf{std err} & \\textbf{t} & \\textbf{P$> |$t$|$} & \\textbf{[0.025} & \\textbf{0.975]}  \\\\\n",
       "\\midrule\n",
       "\\textbf{Intercept}   &    1178.8259  &          inf     &         0  &           nan        &          nan    &          nan     \\\\\n",
       "\\textbf{Jan[T.True]} &     730.7377  &          inf     &         0  &           nan        &          nan    &          nan     \\\\\n",
       "\\textbf{Feb[T.True]} &     192.0034  &          inf     &         0  &           nan        &          nan    &          nan     \\\\\n",
       "\\textbf{Mar[T.True]} &     589.9710  &          inf     &         0  &           nan        &          nan    &          nan     \\\\\n",
       "\\textbf{Apr[T.True]} &     480.6407  &          inf     &         0  &           nan        &          nan    &          nan     \\\\\n",
       "\\textbf{May[T.True]} &     -15.9876  &          inf     &        -0  &           nan        &          nan    &          nan     \\\\\n",
       "\\textbf{Jun[T.True]} &    -675.9140  &          inf     &        -0  &           nan        &          nan    &          nan     \\\\\n",
       "\\textbf{Jul[T.True]} &     116.8617  &          inf     &         0  &           nan        &          nan    &          nan     \\\\\n",
       "\\textbf{Aug[T.True]} &      54.3393  &          inf     &         0  &           nan        &          nan    &          nan     \\\\\n",
       "\\textbf{Sep[T.True]} &    -456.4810  &          inf     &        -0  &           nan        &          nan    &          nan     \\\\\n",
       "\\textbf{Oct[T.True]} &    -279.5994  &          inf     &        -0  &           nan        &          nan    &          nan     \\\\\n",
       "\\textbf{Nov[T.True]} &     -98.0157  &          inf     &        -0  &           nan        &          nan    &          nan     \\\\\n",
       "\\textbf{Dec[T.True]} &     540.2699  &          inf     &         0  &           nan        &          nan    &          nan     \\\\\n",
       "\\textbf{t}           &     425.2873  &          inf     &         0  &           nan        &          nan    &          nan     \\\\\n",
       "\\textbf{t\\_square}   &     -25.8510  &          inf     &        -0  &           nan        &          nan    &          nan     \\\\\n",
       "\\bottomrule\n",
       "\\end{tabular}\n",
       "\\begin{tabular}{lclc}\n",
       "\\textbf{Omnibus:}       &  2.191 & \\textbf{  Durbin-Watson:     } &    1.510  \\\\\n",
       "\\textbf{Prob(Omnibus):} &  0.334 & \\textbf{  Jarque-Bera (JB):  } &    1.040  \\\\\n",
       "\\textbf{Skew:}          &  0.719 & \\textbf{  Prob(JB):          } &    0.594  \\\\\n",
       "\\textbf{Kurtosis:}      &  2.896 & \\textbf{  Cond. No.          } &     248.  \\\\\n",
       "\\bottomrule\n",
       "\\end{tabular}\n",
       "%\\caption{OLS Regression Results}\n",
       "\\end{center}\n",
       "\n",
       "Notes: \\newline\n",
       " [1] Standard Errors assume that the covariance matrix of the errors is correctly specified. \\newline\n",
       " [2] The input rank is higher than the number of observations."
      ],
      "text/plain": [
       "<class 'statsmodels.iolib.summary.Summary'>\n",
       "\"\"\"\n",
       "                            OLS Regression Results                            \n",
       "==============================================================================\n",
       "Dep. Variable:               Quantity   R-squared:                       1.000\n",
       "Model:                            OLS   Adj. R-squared:                    nan\n",
       "Method:                 Least Squares   F-statistic:                       nan\n",
       "Date:                Sun, 26 May 2024   Prob (F-statistic):                nan\n",
       "Time:                        11:31:28   Log-Likelihood:                 292.45\n",
       "No. Observations:                  12   AIC:                            -560.9\n",
       "Df Residuals:                       0   BIC:                            -555.1\n",
       "Df Model:                          11                                         \n",
       "Covariance Type:            nonrobust                                         \n",
       "===============================================================================\n",
       "                  coef    std err          t      P>|t|      [0.025      0.975]\n",
       "-------------------------------------------------------------------------------\n",
       "Intercept    1178.8259        inf          0        nan         nan         nan\n",
       "Jan[T.True]   730.7377        inf          0        nan         nan         nan\n",
       "Feb[T.True]   192.0034        inf          0        nan         nan         nan\n",
       "Mar[T.True]   589.9710        inf          0        nan         nan         nan\n",
       "Apr[T.True]   480.6407        inf          0        nan         nan         nan\n",
       "May[T.True]   -15.9876        inf         -0        nan         nan         nan\n",
       "Jun[T.True]  -675.9140        inf         -0        nan         nan         nan\n",
       "Jul[T.True]   116.8617        inf          0        nan         nan         nan\n",
       "Aug[T.True]    54.3393        inf          0        nan         nan         nan\n",
       "Sep[T.True]  -456.4810        inf         -0        nan         nan         nan\n",
       "Oct[T.True]  -279.5994        inf         -0        nan         nan         nan\n",
       "Nov[T.True]   -98.0157        inf         -0        nan         nan         nan\n",
       "Dec[T.True]   540.2699        inf          0        nan         nan         nan\n",
       "t             425.2873        inf          0        nan         nan         nan\n",
       "t_square      -25.8510        inf         -0        nan         nan         nan\n",
       "==============================================================================\n",
       "Omnibus:                        2.191   Durbin-Watson:                   1.510\n",
       "Prob(Omnibus):                  0.334   Jarque-Bera (JB):                1.040\n",
       "Skew:                           0.719   Prob(JB):                        0.594\n",
       "Kurtosis:                       2.896   Cond. No.                         248.\n",
       "==============================================================================\n",
       "\n",
       "Notes:\n",
       "[1] Standard Errors assume that the covariance matrix of the errors is correctly specified.\n",
       "[2] The input rank is higher than the number of observations.\n",
       "\"\"\""
      ]
     },
     "execution_count": 87,
     "metadata": {},
     "output_type": "execute_result"
    }
   ],
   "source": [
    "import pmdarima as pm\n",
    "# help(pm.auto_arima)\n",
    "\n",
    "ar_model = pm.auto_arima(train.Quantity, start_p = 0, start_q = 0,\n",
    "                      max_p = 16, max_q = 16, # maximum p and q\n",
    "                      m = 1,              # frequency of series\n",
    "                      d = None,           # let model determine 'd'\n",
    "                      seasonal = False,   # No Seasonality\n",
    "                      start_P = 0, trace = True,\n",
    "                      error_action = 'warn', stepwise = True)\n",
    "\n",
    "# Print model summary\n",
    "model.summary()"
   ]
  },
  {
   "cell_type": "code",
   "execution_count": 88,
   "id": "27f3ae45-7b2d-4d3d-b8c9-fd872e0502e4",
   "metadata": {},
   "outputs": [
    {
     "name": "stdout",
     "output_type": "stream",
     "text": [
      "Test RMSE: 328.134\n"
     ]
    }
   ],
   "source": [
    "# Predictions on test set\n",
    "predictions =ar_model.predict(n_periods=len(test))\n",
    "\n",
    "# Calculate RMSE\n",
    "from sklearn.metrics import mean_squared_error\n",
    "from math import sqrt\n",
    "\n",
    "rmse = sqrt(mean_squared_error(test.Quantity, predictions))\n",
    "print('Test RMSE: %.3f' % rmse)"
   ]
  },
  {
   "cell_type": "code",
   "execution_count": 89,
   "id": "8b82c5d8-62ab-4ff2-ae8a-6836a3e3f561",
   "metadata": {},
   "outputs": [
    {
     "data": {
      "image/png": "[encoded data removed]",
      "text/plain": [
       "<Figure size 640x480 with 1 Axes>"
      ]
     },
     "metadata": {},
     "output_type": "display_data"
    }
   ],
   "source": [
    "# Plot predictions against actual values\n",
    "plt.plot(test.Quantity)\n",
    "plt.plot(predictions, color='green')\n",
    "plt.show()"
   ]
  },
  {
   "cell_type": "markdown",
   "id": "76b96ae4-f44e-4056-a646-1f3a7bdce64a",
   "metadata": {},
   "source": [
    "# Auto ARIMA"
   ]
  },
  {
   "cell_type": "code",
   "execution_count": 90,
   "id": "2ca6cdde-79ae-4cb3-89bc-4c380e42d515",
   "metadata": {},
   "outputs": [
    {
     "data": {
      "text/html": [
       "<table class=\"simpletable\">\n",
       "<caption>SARIMAX Results</caption>\n",
       "<tr>\n",
       "  <th>Dep. Variable:</th>       <td>Quantity</td>     <th>  No. Observations:  </th>   <td>12</td>   \n",
       "</tr>\n",
       "<tr>\n",
       "  <th>Model:</th>            <td>ARIMA(1, 0, 1)</td>  <th>  Log Likelihood     </th> <td>-85.332</td>\n",
       "</tr>\n",
       "<tr>\n",
       "  <th>Date:</th>            <td>Sun, 26 May 2024</td> <th>  AIC                </th> <td>178.665</td>\n",
       "</tr>\n",
       "<tr>\n",
       "  <th>Time:</th>                <td>11:33:42</td>     <th>  BIC                </th> <td>180.604</td>\n",
       "</tr>\n",
       "<tr>\n",
       "  <th>Sample:</th>                  <td>0</td>        <th>  HQIC               </th> <td>177.946</td>\n",
       "</tr>\n",
       "<tr>\n",
       "  <th></th>                       <td> - 12</td>      <th>                     </th>    <td> </td>   \n",
       "</tr>\n",
       "<tr>\n",
       "  <th>Covariance Type:</th>        <td>opg</td>       <th>                     </th>    <td> </td>   \n",
       "</tr>\n",
       "</table>\n",
       "<table class=\"simpletable\">\n",
       "<tr>\n",
       "     <td></td>       <th>coef</th>     <th>std err</th>      <th>z</th>      <th>P>|z|</th>  <th>[0.025</th>    <th>0.975]</th>  \n",
       "</tr>\n",
       "<tr>\n",
       "  <th>const</th>  <td> 2650.9313</td> <td>   46.568</td> <td>   56.926</td> <td> 0.000</td> <td> 2559.660</td> <td> 2742.203</td>\n",
       "</tr>\n",
       "<tr>\n",
       "  <th>ar.L1</th>  <td>    0.2999</td> <td>    0.770</td> <td>    0.390</td> <td> 0.697</td> <td>   -1.208</td> <td>    1.808</td>\n",
       "</tr>\n",
       "<tr>\n",
       "  <th>ma.L1</th>  <td>   -0.9992</td> <td>  178.994</td> <td>   -0.006</td> <td> 0.996</td> <td> -351.820</td> <td>  349.822</td>\n",
       "</tr>\n",
       "<tr>\n",
       "  <th>sigma2</th> <td>  7.44e+04</td> <td> 1.33e+07</td> <td>    0.006</td> <td> 0.996</td> <td> -2.6e+07</td> <td> 2.61e+07</td>\n",
       "</tr>\n",
       "</table>\n",
       "<table class=\"simpletable\">\n",
       "<tr>\n",
       "  <th>Ljung-Box (L1) (Q):</th>     <td>0.27</td> <th>  Jarque-Bera (JB):  </th> <td>0.28</td> \n",
       "</tr>\n",
       "<tr>\n",
       "  <th>Prob(Q):</th>                <td>0.60</td> <th>  Prob(JB):          </th> <td>0.87</td> \n",
       "</tr>\n",
       "<tr>\n",
       "  <th>Heteroskedasticity (H):</th> <td>0.38</td> <th>  Skew:              </th> <td>-0.29</td>\n",
       "</tr>\n",
       "<tr>\n",
       "  <th>Prob(H) (two-sided):</th>    <td>0.37</td> <th>  Kurtosis:          </th> <td>2.54</td> \n",
       "</tr>\n",
       "</table><br/><br/>Warnings:<br/>[1] Covariance matrix calculated using the outer product of gradients (complex-step)."
      ],
      "text/latex": [
       "\\begin{center}\n",
       "\\begin{tabular}{lclc}\n",
       "\\toprule\n",
       "\\textbf{Dep. Variable:}          &     Quantity     & \\textbf{  No. Observations:  } &     12      \\\\\n",
       "\\textbf{Model:}                  &  ARIMA(1, 0, 1)  & \\textbf{  Log Likelihood     } &  -85.332    \\\\\n",
       "\\textbf{Date:}                   & Sun, 26 May 2024 & \\textbf{  AIC                } &  178.665    \\\\\n",
       "\\textbf{Time:}                   &     11:33:42     & \\textbf{  BIC                } &  180.604    \\\\\n",
       "\\textbf{Sample:}                 &        0         & \\textbf{  HQIC               } &  177.946    \\\\\n",
       "\\textbf{}                        &       - 12       & \\textbf{                     } &             \\\\\n",
       "\\textbf{Covariance Type:}        &       opg        & \\textbf{                     } &             \\\\\n",
       "\\bottomrule\n",
       "\\end{tabular}\n",
       "\\begin{tabular}{lcccccc}\n",
       "                & \\textbf{coef} & \\textbf{std err} & \\textbf{z} & \\textbf{P$> |$z$|$} & \\textbf{[0.025} & \\textbf{0.975]}  \\\\\n",
       "\\midrule\n",
       "\\textbf{const}  &    2650.9313  &       46.568     &    56.926  &         0.000        &     2559.660    &     2742.203     \\\\\n",
       "\\textbf{ar.L1}  &       0.2999  &        0.770     &     0.390  &         0.697        &       -1.208    &        1.808     \\\\\n",
       "\\textbf{ma.L1}  &      -0.9992  &      178.994     &    -0.006  &         0.996        &     -351.820    &      349.822     \\\\\n",
       "\\textbf{sigma2} &     7.44e+04  &     1.33e+07     &     0.006  &         0.996        &     -2.6e+07    &     2.61e+07     \\\\\n",
       "\\bottomrule\n",
       "\\end{tabular}\n",
       "\\begin{tabular}{lclc}\n",
       "\\textbf{Ljung-Box (L1) (Q):}     & 0.27 & \\textbf{  Jarque-Bera (JB):  } &  0.28  \\\\\n",
       "\\textbf{Prob(Q):}                & 0.60 & \\textbf{  Prob(JB):          } &  0.87  \\\\\n",
       "\\textbf{Heteroskedasticity (H):} & 0.38 & \\textbf{  Skew:              } & -0.29  \\\\\n",
       "\\textbf{Prob(H) (two-sided):}    & 0.37 & \\textbf{  Kurtosis:          } &  2.54  \\\\\n",
       "\\bottomrule\n",
       "\\end{tabular}\n",
       "%\\caption{SARIMAX Results}\n",
       "\\end{center}\n",
       "\n",
       "Warnings: \\newline\n",
       " [1] Covariance matrix calculated using the outer product of gradients (complex-step)."
      ],
      "text/plain": [
       "<class 'statsmodels.iolib.summary.Summary'>\n",
       "\"\"\"\n",
       "                               SARIMAX Results                                \n",
       "==============================================================================\n",
       "Dep. Variable:               Quantity   No. Observations:                   12\n",
       "Model:                 ARIMA(1, 0, 1)   Log Likelihood                 -85.332\n",
       "Date:                Sun, 26 May 2024   AIC                            178.665\n",
       "Time:                        11:33:42   BIC                            180.604\n",
       "Sample:                             0   HQIC                           177.946\n",
       "                                 - 12                                         \n",
       "Covariance Type:                  opg                                         \n",
       "==============================================================================\n",
       "                 coef    std err          z      P>|z|      [0.025      0.975]\n",
       "------------------------------------------------------------------------------\n",
       "const       2650.9313     46.568     56.926      0.000    2559.660    2742.203\n",
       "ar.L1          0.2999      0.770      0.390      0.697      -1.208       1.808\n",
       "ma.L1         -0.9992    178.994     -0.006      0.996    -351.820     349.822\n",
       "sigma2       7.44e+04   1.33e+07      0.006      0.996    -2.6e+07    2.61e+07\n",
       "===================================================================================\n",
       "Ljung-Box (L1) (Q):                   0.27   Jarque-Bera (JB):                 0.28\n",
       "Prob(Q):                              0.60   Prob(JB):                         0.87\n",
       "Heteroskedasticity (H):               0.38   Skew:                            -0.29\n",
       "Prob(H) (two-sided):                  0.37   Kurtosis:                         2.54\n",
       "===================================================================================\n",
       "\n",
       "Warnings:\n",
       "[1] Covariance matrix calculated using the outer product of gradients (complex-step).\n",
       "\"\"\""
      ]
     },
     "execution_count": 90,
     "metadata": {},
     "output_type": "execute_result"
    }
   ],
   "source": [
    "model = ARIMA(train.Quantity, order = (1,0,1))\n",
    "res = model.fit()\n",
    "res.summary()"
   ]
  },
  {
   "cell_type": "code",
   "execution_count": 91,
   "id": "a0d66406-e053-4ba2-9fe0-1f35f32bdd2d",
   "metadata": {},
   "outputs": [
    {
     "data": {
      "text/plain": [
       "12    2412.942576\n",
       "13    2579.565416\n",
       "14    2629.530762\n",
       "15    2644.513916\n",
       "16    2649.006929\n",
       "17    2650.354253\n",
       "18    2650.758276\n",
       "19    2650.879431\n",
       "20    2650.915762\n",
       "21    2650.926656\n",
       "22    2650.929923\n",
       "23    2650.930903\n",
       "Name: predicted_mean, dtype: float64"
      ]
     },
     "execution_count": 91,
     "metadata": {},
     "output_type": "execute_result"
    }
   ],
   "source": [
    "# Forecast for next 12 months\n",
    "start_index = len(Train)\n",
    "end_index = start_index + 11\n",
    "forecast_best = res.predict(start = start_index, end = end_index)\n",
    "\n",
    "\n",
    "forecast_best"
   ]
  },
  {
   "cell_type": "code",
   "execution_count": 92,
   "id": "563ff9c7-5de5-429c-9ff3-44287abf49cb",
   "metadata": {},
   "outputs": [
    {
     "name": "stdout",
     "output_type": "stream",
     "text": [
      "Test RMSE: 303.864\n"
     ]
    }
   ],
   "source": [
    "# Evaluate forecasts\n",
    "rmse_best = sqrt(mean_squared_error(test.Quantity, forecast_best))\n",
    "print('Test RMSE: %.3f' % rmse_best)"
   ]
  },
  {
   "cell_type": "code",
   "execution_count": 95,
   "id": "a1fdc758-adc6-49e5-8126-92f993a36fa1",
   "metadata": {
    "scrolled": true
   },
   "outputs": [
    {
     "data": {
      "image/png": "[encoded data removed]",
      "text/plain": [
       "<Figure size 640x480 with 1 Axes>"
      ]
     },
     "metadata": {},
     "output_type": "display_data"
    }
   ],
   "source": [
    "# Plot forecasts against actual outcomes\n",
    "plt.plot(test.Quantity)\n",
    "plt.plot(forecast_best, color = 'orange')\n",
    "plt.show()"
   ]
  },
  {
   "cell_type": "markdown",
   "id": "9966f84f-146c-448e-b16d-78fe3a4ac4cc",
   "metadata": {},
   "source": [
    "# Holt-Winters Method"
   ]
  },
  {
   "cell_type": "code",
   "execution_count": 96,
   "id": "a15b8179-b7ba-4313-8ecd-85b52343686b",
   "metadata": {},
   "outputs": [],
   "source": [
    "from statsmodels.tsa.holtwinters import ExponentialSmoothing\n",
    "from sklearn.metrics import mean_squared_error"
   ]
  },
  {
   "cell_type": "code",
   "execution_count": 97,
   "id": "3c27fc01-27e1-4d16-a31a-ea4c32817f1e",
   "metadata": {},
   "outputs": [],
   "source": [
    "# Fit an Exponential Smoothing model to the data\n",
    "model = ExponentialSmoothing(df_grouped['Quantity'], seasonal_periods=4, trend='add', seasonal='mul')\n",
    "model_fit = model.fit()"
   ]
  },
  {
   "cell_type": "code",
   "execution_count": 98,
   "id": "b7c1cf1b-2deb-4bd2-8e22-cd4029b2a6b2",
   "metadata": {},
   "outputs": [
    {
     "data": {
      "text/plain": [
       "12    2595.286847\n",
       "13    2405.123034\n",
       "14    2963.808438\n",
       "15    3122.636114\n",
       "16    2637.823506\n",
       "17    2444.382052\n",
       "18    3011.990304\n",
       "19    3173.194522\n",
       "20    2680.360166\n",
       "21    2483.641070\n",
       "22    3060.172170\n",
       "23    3223.752929\n",
       "dtype: float64"
      ]
     },
     "execution_count": 98,
     "metadata": {},
     "output_type": "execute_result"
    }
   ],
   "source": [
    "# Forecast for the next 12 periods\n",
    "forecast = model_fit.forecast(steps=12)\n",
    "forecast"
   ]
  },
  {
   "cell_type": "code",
   "execution_count": 99,
   "id": "0af6c86f-48cd-417e-8d31-c1860739ec3e",
   "metadata": {},
   "outputs": [],
   "source": [
    "# Prepare train and test datasets\n",
    "train =df_grouped.Quantity\n",
    "test =df_grouped.Quantity"
   ]
  },
  {
   "cell_type": "code",
   "execution_count": 100,
   "id": "673df510-be49-4ec4-8f41-30c8a3ecfc26",
   "metadata": {},
   "outputs": [
    {
     "name": "stdout",
     "output_type": "stream",
     "text": [
      "MAPE: nan\n"
     ]
    }
   ],
   "source": [
    "mape= np.mean(np.abs((test - forecast) / test)) * 100\n",
    "print(\"MAPE:\",mape)"
   ]
  },
  {
   "cell_type": "code",
   "execution_count": 101,
   "id": "d46ef401-7f87-4a6a-a53a-a3781c10c03b",
   "metadata": {},
   "outputs": [
    {
     "data": {
      "image/png": "[encoded data removed]",
      "text/plain": [
       "<Figure size 640x480 with 1 Axes>"
      ]
     },
     "metadata": {},
     "output_type": "display_data"
    }
   ],
   "source": [
    "plt.plot(df_grouped['Quantity'], label='Actual')\n",
    "plt.plot(forecast.index, forecast , label='Forecast')\n",
    "plt.legend()\n",
    "plt.show()"
   ]
  },
  {
   "cell_type": "code",
   "execution_count": 102,
   "id": "68c5be9e-5167-45bc-bdb7-0a28f960b86a",
   "metadata": {},
   "outputs": [],
   "source": [
    "from statsmodels.tsa.holtwinters import ExponentialSmoothing\n",
    "from sklearn.metrics import mean_squared_error"
   ]
  },
  {
   "cell_type": "code",
   "execution_count": 103,
   "id": "9f9b9685-111d-4a5a-a04e-667bd6823ac3",
   "metadata": {},
   "outputs": [],
   "source": [
    "# Fit an Exponential Smoothing model to the data\n",
    "model = ExponentialSmoothing(df_grouped['Quantity'], seasonal_periods=4, trend='mul', seasonal='add')\n",
    "model_fit = model.fit()"
   ]
  },
  {
   "cell_type": "code",
   "execution_count": 104,
   "id": "f92b64ee-540b-4acc-9d17-20c2439960b7",
   "metadata": {},
   "outputs": [
    {
     "data": {
      "text/plain": [
       "12     2814.446046\n",
       "13     3046.696628\n",
       "14     4211.809347\n",
       "15     4881.522858\n",
       "16     4842.024306\n",
       "17     5349.015964\n",
       "18     6826.097747\n",
       "19     7850.052780\n",
       "20     8212.796213\n",
       "21     9176.534483\n",
       "22    11172.252996\n",
       "23    12785.121115\n",
       "dtype: float64"
      ]
     },
     "execution_count": 104,
     "metadata": {},
     "output_type": "execute_result"
    }
   ],
   "source": [
    "# Forecast for next 12 periods\n",
    "forecast = model_fit.forecast(steps=12)\n",
    "forecast"
   ]
  },
  {
   "cell_type": "code",
   "execution_count": 105,
   "id": "2fd11620-fd43-463f-b93f-50d80d188d6c",
   "metadata": {},
   "outputs": [],
   "source": [
    "# Prepare train and test datasets\n",
    "train = df_grouped.Quantity\n",
    "test = df_grouped.Quantity"
   ]
  },
  {
   "cell_type": "code",
   "execution_count": 106,
   "id": "e5357c70-9919-49d0-a93a-9092317e1d2c",
   "metadata": {},
   "outputs": [
    {
     "name": "stdout",
     "output_type": "stream",
     "text": [
      "MAPE: nan\n",
      "RMSE: 5032.711977063249\n"
     ]
    }
   ],
   "source": [
    "# Calculate root mean squared error (RMSE) of the forecast\n",
    "mape= np.mean(np.abs((test - forecast) / test)) * 100\n",
    "print(\"MAPE:\",mape)\n",
    "\n",
    "rmse = np.sqrt(mean_squared_error(test, forecast))\n",
    "print(\"RMSE:\", rmse)"
   ]
  },
  {
   "cell_type": "code",
   "execution_count": 107,
   "id": "7e01ea71-b1f3-480c-b6fe-cad6c73e6445",
   "metadata": {},
   "outputs": [
    {
     "data": {
      "image/png": "[encoded data removed]",
      "text/plain": [
       "<Figure size 640x480 with 1 Axes>"
      ]
     },
     "metadata": {},
     "output_type": "display_data"
    }
   ],
   "source": [
    "plt.plot(df_grouped['Quantity'], label='Actual')\n",
    "plt.plot(forecast.index, forecast , label='Forecast')\n",
    "plt.legend()\n",
    "plt.show()"
   ]
  },
  {
   "cell_type": "code",
   "execution_count": 108,
   "id": "a78df924-1aee-4376-b593-63b5d3930fd4",
   "metadata": {},
   "outputs": [
    {
     "data": {
      "text/plain": [
       "12    2588.158390\n",
       "13    2385.327452\n",
       "14    2934.529011\n",
       "15    3124.798641\n",
       "16    2635.945335\n",
       "17    2433.114396\n",
       "18    2982.315956\n",
       "19    3172.585585\n",
       "20    2683.732279\n",
       "21    2480.901340\n",
       "22    3030.102900\n",
       "23    3220.372529\n",
       "dtype: float64"
      ]
     },
     "execution_count": 108,
     "metadata": {},
     "output_type": "execute_result"
    }
   ],
   "source": [
    "from statsmodels.tsa.holtwinters import ExponentialSmoothing\n",
    "from sklearn.metrics import mean_squared_error\n",
    "\n",
    "# Fit an Exponential Smoothing model to the data\n",
    "model = ExponentialSmoothing(df_grouped['Quantity'], seasonal_periods=4, trend='add', seasonal='add')\n",
    "model_fit = model.fit()\n",
    "\n",
    "# Forecast for the next 12 periods\n",
    "forecast = model_fit.forecast(steps=12)\n",
    "forecast"
   ]
  },
  {
   "cell_type": "code",
   "execution_count": 109,
   "id": "d449ed3b-47b9-4963-8002-74a824bdbe0d",
   "metadata": {},
   "outputs": [
    {
     "name": "stdout",
     "output_type": "stream",
     "text": [
      "MAPE: nan\n",
      "RMSE: 216.39743099024673\n"
     ]
    }
   ],
   "source": [
    "# Prepare train and test datasets\n",
    "train = df_grouped.Quantity\n",
    "test = df_grouped.Quantity\n",
    "\n",
    "# Calculate root mean squared error (RMSE) of the forecast\n",
    "mape= np.mean(np.abs((test - forecast) / test)) * 100\n",
    "print(\"MAPE:\",mape)\n",
    "rmse = np.sqrt(mean_squared_error(test, forecast))\n",
    "print(\"RMSE:\", rmse)"
   ]
  },
  {
   "cell_type": "code",
   "execution_count": 110,
   "id": "6aec40d7-c4d1-4b6f-a754-6ed3e1effb84",
   "metadata": {},
   "outputs": [
    {
     "data": {
      "image/png": "[encoded data removed]",
      "text/plain": [
       "<Figure size 640x480 with 1 Axes>"
      ]
     },
     "metadata": {},
     "output_type": "display_data"
    }
   ],
   "source": [
    "plt.plot(df_grouped['Quantity'], label='Actual')\n",
    "plt.plot(forecast.index, forecast , label='Forecast')\n",
    "plt.legend()\n",
    "plt.show()"
   ]
  },
  {
   "cell_type": "code",
   "execution_count": 111,
   "id": "7315994c-ccff-46d6-8375-c5e98420edaa",
   "metadata": {},
   "outputs": [
    {
     "data": {
      "text/plain": [
       "nan"
      ]
     },
     "execution_count": 111,
     "metadata": {},
     "output_type": "execute_result"
    }
   ],
   "source": [
    "from statsmodels.tsa.holtwinters import ExponentialSmoothing\n",
    "\n",
    "# Fit Holt-Winters method on training data\n",
    "hw_model = ExponentialSmoothing(Train['Quantity'], seasonal_periods=6, trend='add', seasonal='add').fit()\n",
    "\n",
    "# Predictions on test data using the fitted model\n",
    "pred_hw = hw_model.forecast(len(Test))\n",
    "\n",
    "# Calculate MAPE between predicted and actual values\n",
    "mape_hw = np.mean(np.abs((Test['Quantity'] - pred_hw) / Test['Quantity'])) * 100\n",
    "mape_hw"
   ]
  },
  {
   "cell_type": "code",
   "execution_count": 112,
   "id": "d6b79500-1e59-4305-8637-201f3d1d86c6",
   "metadata": {},
   "outputs": [
    {
     "data": {
      "text/plain": [
       "12     2711.673811\n",
       "13     2781.487457\n",
       "14     4129.710668\n",
       "15     4839.565928\n",
       "16     4239.865995\n",
       "17     4349.023852\n",
       "18     6457.052377\n",
       "19     7566.954005\n",
       "20     6629.286892\n",
       "21     6799.961803\n",
       "22    10095.991886\n",
       "23    11831.390203\n",
       "dtype: float64"
      ]
     },
     "execution_count": 112,
     "metadata": {},
     "output_type": "execute_result"
    }
   ],
   "source": [
    "from statsmodels.tsa.holtwinters import ExponentialSmoothing\n",
    "from sklearn.metrics import mean_squared_error\n",
    "\n",
    "# Fit an Exponential Smoothing model to the data\n",
    "model = ExponentialSmoothing(df_grouped['Quantity'], seasonal_periods=4, trend='mul', seasonal='mul')\n",
    "model_fit = model.fit()\n",
    "\n",
    "# Forecast for the next 12 periods\n",
    "forecast = model_fit.forecast(steps=12)\n",
    "forecast"
   ]
  },
  {
   "cell_type": "code",
   "execution_count": 113,
   "id": "df9f6272-ca5d-401e-af73-fb67d813f58a",
   "metadata": {},
   "outputs": [
    {
     "name": "stdout",
     "output_type": "stream",
     "text": [
      "RMSE: 4219.592650534886\n"
     ]
    }
   ],
   "source": [
    "# Prepare train and test datasets\n",
    "train =df_grouped.Quantity\n",
    "test =df_grouped.Quantity\n",
    "\n",
    "# Calculate root mean squared error (RMSE) of the forecast\n",
    "rmse = np.sqrt(mean_squared_error(test, forecast))\n",
    "print(\"RMSE:\", rmse)"
   ]
  },
  {
   "cell_type": "code",
   "execution_count": 114,
   "id": "d93d9621-4297-42f0-947a-b5ff84bcb4d5",
   "metadata": {},
   "outputs": [
    {
     "data": {
      "image/png": "[encoded data removed]",
      "text/plain": [
       "<Figure size 640x480 with 1 Axes>"
      ]
     },
     "metadata": {},
     "output_type": "display_data"
    }
   ],
   "source": [
    "plt.plot(df_grouped['Quantity'], label='Actual')\n",
    "plt.plot(forecast.index, forecast , label='Forecast')\n",
    "plt.legend()\n",
    "plt.show()"
   ]
  },
  {
   "cell_type": "code",
   "execution_count": 115,
   "id": "e5bf0fae-5413-460b-83ba-fc51aa264909",
   "metadata": {},
   "outputs": [],
   "source": [
    "# Date column as index\n",
    "# df_grouped.set_index('Dateofbill', inplace=True)\n",
    "# Computed rolling mean of the sales data using SES\n",
    "\n",
    "alpha =1   # smoothing parameter\n",
    "df_grouped['SES'] = df_grouped['Quantity'].ewm(alpha=alpha, adjust=False).mean()"
   ]
  },
  {
   "cell_type": "code",
   "execution_count": 116,
   "id": "dc6a5c1e-7fa1-4139-a1e7-68e09ac98947",
   "metadata": {},
   "outputs": [
    {
     "data": {
      "image/png": "[encoded data removed]",
      "text/plain": [
       "<Figure size 640x480 with 1 Axes>"
      ]
     },
     "metadata": {},
     "output_type": "display_data"
    }
   ],
   "source": [
    "plt.plot(df_grouped['Quantity'], label='Actual')\n",
    "plt.plot(forecast.index, forecast , label='Forecast')\n",
    "plt.legend()\n",
    "plt.show()"
   ]
  },
  {
   "cell_type": "code",
   "execution_count": 117,
   "id": "d462a39b-5f07-4a2e-83d7-4fd61a141d97",
   "metadata": {},
   "outputs": [
    {
     "data": {
      "image/png": "[encoded data removed]",
      "text/plain": [
       "<Figure size 640x480 with 1 Axes>"
      ]
     },
     "metadata": {},
     "output_type": "display_data"
    }
   ],
   "source": [
    "# Plot  of original sales data and the SES forecast\n",
    "plt.plot(df_grouped['Quantity'], label='Actual Sales')\n",
    "plt.plot(df_grouped['SES'], label='SES Forecast')\n",
    "plt.legend()\n",
    "plt.show()"
   ]
  },
  {
   "cell_type": "markdown",
   "id": "17bdfd28-567e-46e4-87c0-26dde96898cd",
   "metadata": {},
   "source": [
    "# Random Forest & Linear Regression Model"
   ]
  },
  {
   "cell_type": "code",
   "execution_count": 118,
   "id": "f61a1dbb-0183-4eb7-a419-3b43aa92f772",
   "metadata": {},
   "outputs": [],
   "source": [
    "df = data[['Dateofbill', 'Quantity']]"
   ]
  },
  {
   "cell_type": "code",
   "execution_count": 119,
   "id": "3ea288dc-277e-4e3f-9411-0d45c5b0167c",
   "metadata": {},
   "outputs": [],
   "source": [
    "df.index.freq = 'MS'"
   ]
  },
  {
   "cell_type": "code",
   "execution_count": 120,
   "id": "0381f4bc-bc7d-484a-be32-525c259907bc",
   "metadata": {},
   "outputs": [
    {
     "data": {
      "text/html": [
       "<div>\n",
       "<style scoped>\n",
       "    .dataframe tbody tr th:only-of-type {\n",
       "        vertical-align: middle;\n",
       "    }\n",
       "\n",
       "    .dataframe tbody tr th {\n",
       "        vertical-align: top;\n",
       "    }\n",
       "\n",
       "    .dataframe thead th {\n",
       "        text-align: right;\n",
       "    }\n",
       "</style>\n",
       "<table border=\"1\" class=\"dataframe\">\n",
       "  <thead>\n",
       "    <tr style=\"text-align: right;\">\n",
       "      <th></th>\n",
       "      <th>Dateofbill</th>\n",
       "      <th>Quantity</th>\n",
       "    </tr>\n",
       "  </thead>\n",
       "  <tbody>\n",
       "    <tr>\n",
       "      <th>0</th>\n",
       "      <td>Jan</td>\n",
       "      <td>2309</td>\n",
       "    </tr>\n",
       "    <tr>\n",
       "      <th>1</th>\n",
       "      <td>Feb</td>\n",
       "      <td>2118</td>\n",
       "    </tr>\n",
       "    <tr>\n",
       "      <th>2</th>\n",
       "      <td>Mar</td>\n",
       "      <td>2812</td>\n",
       "    </tr>\n",
       "    <tr>\n",
       "      <th>3</th>\n",
       "      <td>Apr</td>\n",
       "      <td>2947</td>\n",
       "    </tr>\n",
       "    <tr>\n",
       "      <th>4</th>\n",
       "      <td>May</td>\n",
       "      <td>2643</td>\n",
       "    </tr>\n",
       "    <tr>\n",
       "      <th>5</th>\n",
       "      <td>Jun</td>\n",
       "      <td>2124</td>\n",
       "    </tr>\n",
       "    <tr>\n",
       "      <th>6</th>\n",
       "      <td>Jul</td>\n",
       "      <td>3006</td>\n",
       "    </tr>\n",
       "    <tr>\n",
       "      <th>7</th>\n",
       "      <td>Aug</td>\n",
       "      <td>2981</td>\n",
       "    </tr>\n",
       "    <tr>\n",
       "      <th>8</th>\n",
       "      <td>Sep</td>\n",
       "      <td>2456</td>\n",
       "    </tr>\n",
       "    <tr>\n",
       "      <th>9</th>\n",
       "      <td>Oct</td>\n",
       "      <td>2567</td>\n",
       "    </tr>\n",
       "  </tbody>\n",
       "</table>\n",
       "</div>"
      ],
      "text/plain": [
       "  Dateofbill  Quantity\n",
       "0        Jan      2309\n",
       "1        Feb      2118\n",
       "2        Mar      2812\n",
       "3        Apr      2947\n",
       "4        May      2643\n",
       "5        Jun      2124\n",
       "6        Jul      3006\n",
       "7        Aug      2981\n",
       "8        Sep      2456\n",
       "9        Oct      2567"
      ]
     },
     "execution_count": 120,
     "metadata": {},
     "output_type": "execute_result"
    }
   ],
   "source": [
    "df.head(10)"
   ]
  },
  {
   "cell_type": "code",
   "execution_count": 121,
   "id": "56ccddfc-4358-4a31-991f-0ebb024eaf16",
   "metadata": {},
   "outputs": [
    {
     "data": {
      "text/html": [
       "<div>\n",
       "<style scoped>\n",
       "    .dataframe tbody tr th:only-of-type {\n",
       "        vertical-align: middle;\n",
       "    }\n",
       "\n",
       "    .dataframe tbody tr th {\n",
       "        vertical-align: top;\n",
       "    }\n",
       "\n",
       "    .dataframe thead th {\n",
       "        text-align: right;\n",
       "    }\n",
       "</style>\n",
       "<table border=\"1\" class=\"dataframe\">\n",
       "  <thead>\n",
       "    <tr style=\"text-align: right;\">\n",
       "      <th></th>\n",
       "      <th>Quantity</th>\n",
       "    </tr>\n",
       "    <tr>\n",
       "      <th>Dateofbill</th>\n",
       "      <th></th>\n",
       "    </tr>\n",
       "  </thead>\n",
       "  <tbody>\n",
       "    <tr>\n",
       "      <th>Jan</th>\n",
       "      <td>2309</td>\n",
       "    </tr>\n",
       "    <tr>\n",
       "      <th>Feb</th>\n",
       "      <td>2118</td>\n",
       "    </tr>\n",
       "    <tr>\n",
       "      <th>Mar</th>\n",
       "      <td>2812</td>\n",
       "    </tr>\n",
       "    <tr>\n",
       "      <th>Apr</th>\n",
       "      <td>2947</td>\n",
       "    </tr>\n",
       "    <tr>\n",
       "      <th>May</th>\n",
       "      <td>2643</td>\n",
       "    </tr>\n",
       "    <tr>\n",
       "      <th>Jun</th>\n",
       "      <td>2124</td>\n",
       "    </tr>\n",
       "    <tr>\n",
       "      <th>Jul</th>\n",
       "      <td>3006</td>\n",
       "    </tr>\n",
       "    <tr>\n",
       "      <th>Aug</th>\n",
       "      <td>2981</td>\n",
       "    </tr>\n",
       "    <tr>\n",
       "      <th>Sep</th>\n",
       "      <td>2456</td>\n",
       "    </tr>\n",
       "    <tr>\n",
       "      <th>Oct</th>\n",
       "      <td>2567</td>\n",
       "    </tr>\n",
       "    <tr>\n",
       "      <th>Nov</th>\n",
       "      <td>2631</td>\n",
       "    </tr>\n",
       "    <tr>\n",
       "      <th>Dec</th>\n",
       "      <td>3100</td>\n",
       "    </tr>\n",
       "  </tbody>\n",
       "</table>\n",
       "</div>"
      ],
      "text/plain": [
       "            Quantity\n",
       "Dateofbill          \n",
       "Jan             2309\n",
       "Feb             2118\n",
       "Mar             2812\n",
       "Apr             2947\n",
       "May             2643\n",
       "Jun             2124\n",
       "Jul             3006\n",
       "Aug             2981\n",
       "Sep             2456\n",
       "Oct             2567\n",
       "Nov             2631\n",
       "Dec             3100"
      ]
     },
     "execution_count": 121,
     "metadata": {},
     "output_type": "execute_result"
    }
   ],
   "source": [
    "df.set_index('Dateofbill')"
   ]
  },
  {
   "cell_type": "code",
   "execution_count": 122,
   "id": "609bc357-1d9e-4131-bacf-08d76d22ec7a",
   "metadata": {},
   "outputs": [
    {
     "data": {
      "text/plain": [
       "<Axes: >"
      ]
     },
     "execution_count": 122,
     "metadata": {},
     "output_type": "execute_result"
    },
    {
     "data": {
      "image/png": "[encoded data removed]",
      "text/plain": [
       "<Figure size 1000x600 with 1 Axes>"
      ]
     },
     "metadata": {},
     "output_type": "display_data"
    }
   ],
   "source": [
    "df.plot(figsize=(10,6))"
   ]
  },
  {
   "cell_type": "code",
   "execution_count": 123,
   "id": "72659073-fcd3-437d-8666-252a150d8453",
   "metadata": {},
   "outputs": [
    {
     "data": {
      "text/html": [
       "<div>\n",
       "<style scoped>\n",
       "    .dataframe tbody tr th:only-of-type {\n",
       "        vertical-align: middle;\n",
       "    }\n",
       "\n",
       "    .dataframe tbody tr th {\n",
       "        vertical-align: top;\n",
       "    }\n",
       "\n",
       "    .dataframe thead th {\n",
       "        text-align: right;\n",
       "    }\n",
       "</style>\n",
       "<table border=\"1\" class=\"dataframe\">\n",
       "  <thead>\n",
       "    <tr style=\"text-align: right;\">\n",
       "      <th></th>\n",
       "      <th>Dateofbill</th>\n",
       "      <th>Quantity</th>\n",
       "      <th>Quantity_LastMonth</th>\n",
       "      <th>Quantity_2Monthsback</th>\n",
       "      <th>Quantity_3Monthsback</th>\n",
       "    </tr>\n",
       "  </thead>\n",
       "  <tbody>\n",
       "    <tr>\n",
       "      <th>0</th>\n",
       "      <td>Jan</td>\n",
       "      <td>2309</td>\n",
       "      <td>NaN</td>\n",
       "      <td>NaN</td>\n",
       "      <td>NaN</td>\n",
       "    </tr>\n",
       "    <tr>\n",
       "      <th>1</th>\n",
       "      <td>Feb</td>\n",
       "      <td>2118</td>\n",
       "      <td>2309.0</td>\n",
       "      <td>NaN</td>\n",
       "      <td>NaN</td>\n",
       "    </tr>\n",
       "    <tr>\n",
       "      <th>2</th>\n",
       "      <td>Mar</td>\n",
       "      <td>2812</td>\n",
       "      <td>2118.0</td>\n",
       "      <td>2309.0</td>\n",
       "      <td>NaN</td>\n",
       "    </tr>\n",
       "    <tr>\n",
       "      <th>3</th>\n",
       "      <td>Apr</td>\n",
       "      <td>2947</td>\n",
       "      <td>2812.0</td>\n",
       "      <td>2118.0</td>\n",
       "      <td>2309.0</td>\n",
       "    </tr>\n",
       "    <tr>\n",
       "      <th>4</th>\n",
       "      <td>May</td>\n",
       "      <td>2643</td>\n",
       "      <td>2947.0</td>\n",
       "      <td>2812.0</td>\n",
       "      <td>2118.0</td>\n",
       "    </tr>\n",
       "    <tr>\n",
       "      <th>5</th>\n",
       "      <td>Jun</td>\n",
       "      <td>2124</td>\n",
       "      <td>2643.0</td>\n",
       "      <td>2947.0</td>\n",
       "      <td>2812.0</td>\n",
       "    </tr>\n",
       "    <tr>\n",
       "      <th>6</th>\n",
       "      <td>Jul</td>\n",
       "      <td>3006</td>\n",
       "      <td>2124.0</td>\n",
       "      <td>2643.0</td>\n",
       "      <td>2947.0</td>\n",
       "    </tr>\n",
       "    <tr>\n",
       "      <th>7</th>\n",
       "      <td>Aug</td>\n",
       "      <td>2981</td>\n",
       "      <td>3006.0</td>\n",
       "      <td>2124.0</td>\n",
       "      <td>2643.0</td>\n",
       "    </tr>\n",
       "    <tr>\n",
       "      <th>8</th>\n",
       "      <td>Sep</td>\n",
       "      <td>2456</td>\n",
       "      <td>2981.0</td>\n",
       "      <td>3006.0</td>\n",
       "      <td>2124.0</td>\n",
       "    </tr>\n",
       "    <tr>\n",
       "      <th>9</th>\n",
       "      <td>Oct</td>\n",
       "      <td>2567</td>\n",
       "      <td>2456.0</td>\n",
       "      <td>2981.0</td>\n",
       "      <td>3006.0</td>\n",
       "    </tr>\n",
       "    <tr>\n",
       "      <th>10</th>\n",
       "      <td>Nov</td>\n",
       "      <td>2631</td>\n",
       "      <td>2567.0</td>\n",
       "      <td>2456.0</td>\n",
       "      <td>2981.0</td>\n",
       "    </tr>\n",
       "    <tr>\n",
       "      <th>11</th>\n",
       "      <td>Dec</td>\n",
       "      <td>3100</td>\n",
       "      <td>2631.0</td>\n",
       "      <td>2567.0</td>\n",
       "      <td>2456.0</td>\n",
       "    </tr>\n",
       "  </tbody>\n",
       "</table>\n",
       "</div>"
      ],
      "text/plain": [
       "   Dateofbill  Quantity  Quantity_LastMonth  Quantity_2Monthsback  \\\n",
       "0         Jan      2309                 NaN                   NaN   \n",
       "1         Feb      2118              2309.0                   NaN   \n",
       "2         Mar      2812              2118.0                2309.0   \n",
       "3         Apr      2947              2812.0                2118.0   \n",
       "4         May      2643              2947.0                2812.0   \n",
       "5         Jun      2124              2643.0                2947.0   \n",
       "6         Jul      3006              2124.0                2643.0   \n",
       "7         Aug      2981              3006.0                2124.0   \n",
       "8         Sep      2456              2981.0                3006.0   \n",
       "9         Oct      2567              2456.0                2981.0   \n",
       "10        Nov      2631              2567.0                2456.0   \n",
       "11        Dec      3100              2631.0                2567.0   \n",
       "\n",
       "    Quantity_3Monthsback  \n",
       "0                    NaN  \n",
       "1                    NaN  \n",
       "2                    NaN  \n",
       "3                 2309.0  \n",
       "4                 2118.0  \n",
       "5                 2812.0  \n",
       "6                 2947.0  \n",
       "7                 2643.0  \n",
       "8                 2124.0  \n",
       "9                 3006.0  \n",
       "10                2981.0  \n",
       "11                2456.0  "
      ]
     },
     "execution_count": 123,
     "metadata": {},
     "output_type": "execute_result"
    }
   ],
   "source": [
    "df['Quantity_LastMonth']=df['Quantity'].shift(+1)\n",
    "df['Quantity_2Monthsback']=df['Quantity'].shift(+2)\n",
    "df['Quantity_3Monthsback']=df['Quantity'].shift(+3)\n",
    "df"
   ]
  },
  {
   "cell_type": "code",
   "execution_count": 124,
   "id": "1803abd9-32f2-4f20-8b90-27f0caf7984f",
   "metadata": {},
   "outputs": [
    {
     "data": {
      "text/html": [
       "<div>\n",
       "<style scoped>\n",
       "    .dataframe tbody tr th:only-of-type {\n",
       "        vertical-align: middle;\n",
       "    }\n",
       "\n",
       "    .dataframe tbody tr th {\n",
       "        vertical-align: top;\n",
       "    }\n",
       "\n",
       "    .dataframe thead th {\n",
       "        text-align: right;\n",
       "    }\n",
       "</style>\n",
       "<table border=\"1\" class=\"dataframe\">\n",
       "  <thead>\n",
       "    <tr style=\"text-align: right;\">\n",
       "      <th></th>\n",
       "      <th>Dateofbill</th>\n",
       "      <th>Quantity</th>\n",
       "      <th>Quantity_LastMonth</th>\n",
       "      <th>Quantity_2Monthsback</th>\n",
       "      <th>Quantity_3Monthsback</th>\n",
       "    </tr>\n",
       "  </thead>\n",
       "  <tbody>\n",
       "    <tr>\n",
       "      <th>3</th>\n",
       "      <td>Apr</td>\n",
       "      <td>2947</td>\n",
       "      <td>2812.0</td>\n",
       "      <td>2118.0</td>\n",
       "      <td>2309.0</td>\n",
       "    </tr>\n",
       "    <tr>\n",
       "      <th>4</th>\n",
       "      <td>May</td>\n",
       "      <td>2643</td>\n",
       "      <td>2947.0</td>\n",
       "      <td>2812.0</td>\n",
       "      <td>2118.0</td>\n",
       "    </tr>\n",
       "    <tr>\n",
       "      <th>5</th>\n",
       "      <td>Jun</td>\n",
       "      <td>2124</td>\n",
       "      <td>2643.0</td>\n",
       "      <td>2947.0</td>\n",
       "      <td>2812.0</td>\n",
       "    </tr>\n",
       "    <tr>\n",
       "      <th>6</th>\n",
       "      <td>Jul</td>\n",
       "      <td>3006</td>\n",
       "      <td>2124.0</td>\n",
       "      <td>2643.0</td>\n",
       "      <td>2947.0</td>\n",
       "    </tr>\n",
       "    <tr>\n",
       "      <th>7</th>\n",
       "      <td>Aug</td>\n",
       "      <td>2981</td>\n",
       "      <td>3006.0</td>\n",
       "      <td>2124.0</td>\n",
       "      <td>2643.0</td>\n",
       "    </tr>\n",
       "    <tr>\n",
       "      <th>8</th>\n",
       "      <td>Sep</td>\n",
       "      <td>2456</td>\n",
       "      <td>2981.0</td>\n",
       "      <td>3006.0</td>\n",
       "      <td>2124.0</td>\n",
       "    </tr>\n",
       "    <tr>\n",
       "      <th>9</th>\n",
       "      <td>Oct</td>\n",
       "      <td>2567</td>\n",
       "      <td>2456.0</td>\n",
       "      <td>2981.0</td>\n",
       "      <td>3006.0</td>\n",
       "    </tr>\n",
       "    <tr>\n",
       "      <th>10</th>\n",
       "      <td>Nov</td>\n",
       "      <td>2631</td>\n",
       "      <td>2567.0</td>\n",
       "      <td>2456.0</td>\n",
       "      <td>2981.0</td>\n",
       "    </tr>\n",
       "    <tr>\n",
       "      <th>11</th>\n",
       "      <td>Dec</td>\n",
       "      <td>3100</td>\n",
       "      <td>2631.0</td>\n",
       "      <td>2567.0</td>\n",
       "      <td>2456.0</td>\n",
       "    </tr>\n",
       "  </tbody>\n",
       "</table>\n",
       "</div>"
      ],
      "text/plain": [
       "   Dateofbill  Quantity  Quantity_LastMonth  Quantity_2Monthsback  \\\n",
       "3         Apr      2947              2812.0                2118.0   \n",
       "4         May      2643              2947.0                2812.0   \n",
       "5         Jun      2124              2643.0                2947.0   \n",
       "6         Jul      3006              2124.0                2643.0   \n",
       "7         Aug      2981              3006.0                2124.0   \n",
       "8         Sep      2456              2981.0                3006.0   \n",
       "9         Oct      2567              2456.0                2981.0   \n",
       "10        Nov      2631              2567.0                2456.0   \n",
       "11        Dec      3100              2631.0                2567.0   \n",
       "\n",
       "    Quantity_3Monthsback  \n",
       "3                 2309.0  \n",
       "4                 2118.0  \n",
       "5                 2812.0  \n",
       "6                 2947.0  \n",
       "7                 2643.0  \n",
       "8                 2124.0  \n",
       "9                 3006.0  \n",
       "10                2981.0  \n",
       "11                2456.0  "
      ]
     },
     "execution_count": 124,
     "metadata": {},
     "output_type": "execute_result"
    }
   ],
   "source": [
    "df = df.dropna()\n",
    "df"
   ]
  },
  {
   "cell_type": "code",
   "execution_count": 125,
   "id": "deca3a13-f6a7-40ed-9ad5-868f4cc29f42",
   "metadata": {},
   "outputs": [],
   "source": [
    "from sklearn.linear_model import LinearRegression\n",
    "lin_model=LinearRegression()"
   ]
  },
  {
   "cell_type": "code",
   "execution_count": 126,
   "id": "2ffd615e-03ae-4bb0-9d67-c482dd08faf7",
   "metadata": {},
   "outputs": [
    {
     "name": "stderr",
     "output_type": "stream",
     "text": [
      "2024-05-26 11:59:11,418 - INFO     - Executing shutdown due to inactivity...\n"
     ]
    }
   ],
   "source": [
    "from sklearn.ensemble import RandomForestRegressor\n",
    "model=RandomForestRegressor(n_estimators=100,max_features=3, random_state=1)"
   ]
  },
  {
   "cell_type": "code",
   "execution_count": 127,
   "id": "d28bf2c3-8cb0-44d4-a552-5b6ca1673f38",
   "metadata": {},
   "outputs": [
    {
     "name": "stdout",
     "output_type": "stream",
     "text": [
      "[[2812. 2118. 2309.]\n",
      " [2947. 2812. 2118.]\n",
      " [2643. 2947. 2812.]\n",
      " [2124. 2643. 2947.]\n",
      " [3006. 2124. 2643.]\n",
      " [2981. 3006. 2124.]\n",
      " [2456. 2981. 3006.]\n",
      " [2567. 2456. 2981.]\n",
      " [2631. 2567. 2456.]]\n"
     ]
    }
   ],
   "source": [
    "import numpy as np\n",
    "x1,x2,x3,y=df['Quantity_LastMonth'],df['Quantity_2Monthsback'],df['Quantity_3Monthsback'],df['Quantity']\n",
    "x1,x2,x3,y=np.array(x1),np.array(x2),np.array(x3),np.array(y)\n",
    "x1,x2,x3,y=x1.reshape(-1,1),x2.reshape(-1,1),x3.reshape(-1,1),y.reshape(-1,1)\n",
    "final_x=np.concatenate((x1,x2,x3),axis=1)\n",
    "print(final_x)"
   ]
  },
  {
   "cell_type": "code",
   "execution_count": 128,
   "id": "de459805-1890-4dd0-a22c-7cdd7dbb5371",
   "metadata": {},
   "outputs": [],
   "source": [
    "X_train,X_test,y_train,y_test=final_x[:],final_x[-10:],y[:],y[-10:]"
   ]
  },
  {
   "cell_type": "code",
   "execution_count": 129,
   "id": "b9438e4a-d4b5-4919-b156-73f3466adb6f",
   "metadata": {},
   "outputs": [
    {
     "data": {
      "text/html": [
       "<style>#sk-container-id-1 {color: black;background-color: white;}#sk-container-id-1 pre{padding: 0;}#sk-container-id-1 div.sk-toggleable {background-color: white;}#sk-container-id-1 label.sk-toggleable__label {cursor: pointer;display: block;width: 100%;margin-bottom: 0;padding: 0.3em;box-sizing: border-box;text-align: center;}#sk-container-id-1 label.sk-toggleable__label-arrow:before {content: \"▸\";float: left;margin-right: 0.25em;color: #696969;}#sk-container-id-1 label.sk-toggleable__label-arrow:hover:before {color: black;}#sk-container-id-1 div.sk-estimator:hover label.sk-toggleable__label-arrow:before {color: black;}#sk-container-id-1 div.sk-toggleable__content {max-height: 0;max-width: 0;overflow: hidden;text-align: left;background-color: #f0f8ff;}#sk-container-id-1 div.sk-toggleable__content pre {margin: 0.2em;color: black;border-radius: 0.25em;background-color: #f0f8ff;}#sk-container-id-1 input.sk-toggleable__control:checked~div.sk-toggleable__content {max-height: 200px;max-width: 100%;overflow: auto;}#sk-container-id-1 input.sk-toggleable__control:checked~label.sk-toggleable__label-arrow:before {content: \"▾\";}#sk-container-id-1 div.sk-estimator input.sk-toggleable__control:checked~label.sk-toggleable__label {background-color: #d4ebff;}#sk-container-id-1 div.sk-label input.sk-toggleable__control:checked~label.sk-toggleable__label {background-color: #d4ebff;}#sk-container-id-1 input.sk-hidden--visually {border: 0;clip: rect(1px 1px 1px 1px);clip: rect(1px, 1px, 1px, 1px);height: 1px;margin: -1px;overflow: hidden;padding: 0;position: absolute;width: 1px;}#sk-container-id-1 div.sk-estimator {font-family: monospace;background-color: #f0f8ff;border: 1px dotted black;border-radius: 0.25em;box-sizing: border-box;margin-bottom: 0.5em;}#sk-container-id-1 div.sk-estimator:hover {background-color: #d4ebff;}#sk-container-id-1 div.sk-parallel-item::after {content: \"\";width: 100%;border-bottom: 1px solid gray;flex-grow: 1;}#sk-container-id-1 div.sk-label:hover label.sk-toggleable__label {background-color: #d4ebff;}#sk-container-id-1 div.sk-serial::before {content: \"\";position: absolute;border-left: 1px solid gray;box-sizing: border-box;top: 0;bottom: 0;left: 50%;z-index: 0;}#sk-container-id-1 div.sk-serial {display: flex;flex-direction: column;align-items: center;background-color: white;padding-right: 0.2em;padding-left: 0.2em;position: relative;}#sk-container-id-1 div.sk-item {position: relative;z-index: 1;}#sk-container-id-1 div.sk-parallel {display: flex;align-items: stretch;justify-content: center;background-color: white;position: relative;}#sk-container-id-1 div.sk-item::before, #sk-container-id-1 div.sk-parallel-item::before {content: \"\";position: absolute;border-left: 1px solid gray;box-sizing: border-box;top: 0;bottom: 0;left: 50%;z-index: -1;}#sk-container-id-1 div.sk-parallel-item {display: flex;flex-direction: column;z-index: 1;position: relative;background-color: white;}#sk-container-id-1 div.sk-parallel-item:first-child::after {align-self: flex-end;width: 50%;}#sk-container-id-1 div.sk-parallel-item:last-child::after {align-self: flex-start;width: 50%;}#sk-container-id-1 div.sk-parallel-item:only-child::after {width: 0;}#sk-container-id-1 div.sk-dashed-wrapped {border: 1px dashed gray;margin: 0 0.4em 0.5em 0.4em;box-sizing: border-box;padding-bottom: 0.4em;background-color: white;}#sk-container-id-1 div.sk-label label {font-family: monospace;font-weight: bold;display: inline-block;line-height: 1.2em;}#sk-container-id-1 div.sk-label-container {text-align: center;}#sk-container-id-1 div.sk-container {/* jupyter's `normalize.less` sets `[hidden] { display: none; }` but bootstrap.min.css set `[hidden] { display: none !important; }` so we also need the `!important` here to be able to override the default hidden behavior on the sphinx rendered scikit-learn.org. See: https://github.com/scikit-learn/scikit-learn/issues/21755 */display: inline-block !important;position: relative;}#sk-container-id-1 div.sk-text-repr-fallback {display: none;}</style><div id=\"sk-container-id-1\" class=\"sk-top-container\"><div class=\"sk-text-repr-fallback\"><pre>LinearRegression()</pre><b>In a Jupyter environment, please rerun this cell to show the HTML representation or trust the notebook. <br />On GitHub, the HTML representation is unable to render, please try loading this page with nbviewer.org.</b></div><div class=\"sk-container\" hidden><div class=\"sk-item\"><div class=\"sk-estimator sk-toggleable\"><input class=\"sk-toggleable__control sk-hidden--visually\" id=\"sk-estimator-id-1\" type=\"checkbox\" checked><label for=\"sk-estimator-id-1\" class=\"sk-toggleable__label sk-toggleable__label-arrow\">LinearRegression</label><div class=\"sk-toggleable__content\"><pre>LinearRegression()</pre></div></div></div></div></div>"
      ],
      "text/plain": [
       "LinearRegression()"
      ]
     },
     "execution_count": 129,
     "metadata": {},
     "output_type": "execute_result"
    }
   ],
   "source": [
    "model.fit(X_train,y_train)\n",
    "lin_model.fit(X_train,y_train)"
   ]
  },
  {
   "cell_type": "markdown",
   "id": "5d165aac-24aa-4dcf-a761-d397f9d6f5fd",
   "metadata": {},
   "source": [
    "# Random Forest Regression"
   ]
  },
  {
   "cell_type": "code",
   "execution_count": 130,
   "id": "639d95e9-aaa9-4c56-83ec-34ae80485156",
   "metadata": {},
   "outputs": [
    {
     "data": {
      "image/png": "[encoded data removed]",
      "text/plain": [
       "<Figure size 1000x500 with 1 Axes>"
      ]
     },
     "metadata": {},
     "output_type": "display_data"
    }
   ],
   "source": [
    "pred = model.predict(X_test)\n",
    "plt.rcParams[\"figure.figsize\"] = (10, 5)\n",
    "plt.plot(pred, label='Random_Forest_Predictions')\n",
    "plt.plot(y_test, label='Actual Quantity')\n",
    "plt.legend(loc=\"upper left\")\n",
    "plt.show()"
   ]
  },
  {
   "cell_type": "markdown",
   "id": "abf1ed45-fe3f-4694-b405-473937f4a6f2",
   "metadata": {},
   "source": [
    "# Linear Forest Regression"
   ]
  },
  {
   "cell_type": "code",
   "execution_count": 131,
   "id": "24558b28-8ff7-42f4-bc1f-e0257243ccf4",
   "metadata": {},
   "outputs": [
    {
     "data": {
      "image/png": "[encoded data removed]",
      "text/plain": [
       "<Figure size 1000x500 with 1 Axes>"
      ]
     },
     "metadata": {},
     "output_type": "display_data"
    }
   ],
   "source": [
    "lin_pred=lin_model.predict(X_test)\n",
    "plt.rcParams[\"figure.figsize\"] = (10,5)\n",
    "plt.plot(lin_pred, label='Linear_Regression_Predictions')\n",
    "plt.plot(y_test,label='Actual Quantity')\n",
    "plt.legend(loc=\"upper left\")\n",
    "plt.show()"
   ]
  },
  {
   "cell_type": "code",
   "execution_count": 132,
   "id": "dc21fc22-0b57-41cd-b9a4-692b1246711b",
   "metadata": {},
   "outputs": [],
   "source": [
    "rmse_rf=sqrt(mean_squared_error(pred,y_test))\n",
    "rmse_lr=sqrt(mean_squared_error(lin_pred,y_test))"
   ]
  },
  {
   "cell_type": "code",
   "execution_count": 133,
   "id": "398e6d2e-d64c-410a-86c6-c29ea5900819",
   "metadata": {},
   "outputs": [
    {
     "name": "stdout",
     "output_type": "stream",
     "text": [
      "Mean Squared Error for Random Forest Model is: 111.41388986816473\n",
      "Mean Squared Error for Linear Regression Model is: 158.76027698565989\n"
     ]
    }
   ],
   "source": [
    "print('Mean Squared Error for Random Forest Model is:',rmse_rf)\n",
    "print('Mean Squared Error for Linear Regression Model is:',rmse_lr)"
   ]
  },
  {
   "cell_type": "code",
   "execution_count": null,
   "id": "e283053b-aecd-4713-a573-36d900070063",
   "metadata": {},
   "outputs": [],
   "source": []
  }
 ],
 "metadata": {
  "kernelspec": {
   "display_name": "Python 3 (ipykernel)",
   "language": "python",
   "name": "python3"
  },
  "language_info": {
   "codemirror_mode": {
    "name": "ipython",
    "version": 3
   },
   "file_extension": ".py",
   "mimetype": "text/x-python",
   "name": "python",
   "nbconvert_exporter": "python",
   "pygments_lexer": "ipython3",
   "version": "3.11.7"
  }
 },
 "nbformat": 4,
 "nbformat_minor": 5
}
